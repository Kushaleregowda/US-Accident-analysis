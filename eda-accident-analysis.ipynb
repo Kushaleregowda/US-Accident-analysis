{
 "cells": [
  {
   "cell_type": "markdown",
   "metadata": {
    "id": "_lZIWMbc3cIb"
   },
   "source": [
    "# eda-us-accident-analysis\n",
    "\n",
    "Use the \"Run\" button to execute the code."
   ]
  },
  {
   "cell_type": "code",
   "execution_count": 2,
   "metadata": {
    "executionInfo": {
     "elapsed": 3378,
     "status": "ok",
     "timestamp": 1623946899552,
     "user": {
      "displayName": "Kushal Kumar",
      "photoUrl": "",
      "userId": "05263117254695456245"
     },
     "user_tz": -330
    },
    "id": "TFmixkIB3cIc"
   },
   "outputs": [],
   "source": [
    "!pip install jovian --upgrade --quiet"
   ]
  },
  {
   "cell_type": "code",
   "execution_count": 3,
   "metadata": {
    "executionInfo": {
     "elapsed": 5,
     "status": "ok",
     "timestamp": 1623946899552,
     "user": {
      "displayName": "Kushal Kumar",
      "photoUrl": "",
      "userId": "05263117254695456245"
     },
     "user_tz": -330
    },
    "id": "2jBm8dpB3cIc"
   },
   "outputs": [],
   "source": [
    "import jovian\n",
    "jovian.set_project('us-accident-analysis')"
   ]
  },
  {
   "cell_type": "code",
   "execution_count": 4,
   "metadata": {
    "executionInfo": {
     "elapsed": 6,
     "status": "ok",
     "timestamp": 1623946899553,
     "user": {
      "displayName": "Kushal Kumar",
      "photoUrl": "",
      "userId": "05263117254695456245"
     },
     "user_tz": -330
    },
    "id": "M3_gbTdh3cIc"
   },
   "outputs": [],
   "source": [
    "# Execute this to save new versions of the notebook\n",
    "#jovian.commit(project=\"eda-accident-analysis\")"
   ]
  },
  {
   "cell_type": "code",
   "execution_count": 5,
   "metadata": {
    "executionInfo": {
     "elapsed": 5,
     "status": "ok",
     "timestamp": 1623946899553,
     "user": {
      "displayName": "Kushal Kumar",
      "photoUrl": "",
      "userId": "05263117254695456245"
     },
     "user_tz": -330
    },
    "id": "J0H0Uk7R3cId"
   },
   "outputs": [],
   "source": [
    "## US accident exploratory data analysis"
   ]
  },
  {
   "cell_type": "code",
   "execution_count": 6,
   "metadata": {
    "colab": {
     "base_uri": "https://localhost:8080/"
    },
    "executionInfo": {
     "elapsed": 2809,
     "status": "ok",
     "timestamp": 1623946902357,
     "user": {
      "displayName": "Kushal Kumar",
      "photoUrl": "",
      "userId": "05263117254695456245"
     },
     "user_tz": -330
    },
    "id": "aeUYgkqLnQ4M",
    "outputId": "c160984b-864a-4453-bb71-e16f93eb9020"
   },
   "outputs": [
    {
     "name": "stdout",
     "output_type": "stream",
     "text": [
      "Collecting opendatasets\n",
      "  Downloading https://files.pythonhosted.org/packages/82/07/2fab0093b3e79d5822acb47e3b3821ddd5eb194cede68d777ca6795548ed/opendatasets-0.1.13-py3-none-any.whl\n",
      "Requirement already satisfied, skipping upgrade: kaggle in /usr/local/lib/python3.7/dist-packages (from opendatasets) (1.5.12)\n",
      "Requirement already satisfied, skipping upgrade: click in /usr/local/lib/python3.7/dist-packages (from opendatasets) (7.1.2)\n",
      "Requirement already satisfied, skipping upgrade: tqdm in /usr/local/lib/python3.7/dist-packages (from opendatasets) (4.41.1)\n",
      "Requirement already satisfied, skipping upgrade: requests in /usr/local/lib/python3.7/dist-packages (from kaggle->opendatasets) (2.23.0)\n",
      "Requirement already satisfied, skipping upgrade: six>=1.10 in /usr/local/lib/python3.7/dist-packages (from kaggle->opendatasets) (1.15.0)\n",
      "Requirement already satisfied, skipping upgrade: certifi in /usr/local/lib/python3.7/dist-packages (from kaggle->opendatasets) (2021.5.30)\n",
      "Requirement already satisfied, skipping upgrade: python-dateutil in /usr/local/lib/python3.7/dist-packages (from kaggle->opendatasets) (2.8.1)\n",
      "Requirement already satisfied, skipping upgrade: python-slugify in /usr/local/lib/python3.7/dist-packages (from kaggle->opendatasets) (5.0.2)\n",
      "Requirement already satisfied, skipping upgrade: urllib3 in /usr/local/lib/python3.7/dist-packages (from kaggle->opendatasets) (1.24.3)\n",
      "Requirement already satisfied, skipping upgrade: chardet<4,>=3.0.2 in /usr/local/lib/python3.7/dist-packages (from requests->kaggle->opendatasets) (3.0.4)\n",
      "Requirement already satisfied, skipping upgrade: idna<3,>=2.5 in /usr/local/lib/python3.7/dist-packages (from requests->kaggle->opendatasets) (2.10)\n",
      "Requirement already satisfied, skipping upgrade: text-unidecode>=1.3 in /usr/local/lib/python3.7/dist-packages (from python-slugify->kaggle->opendatasets) (1.3)\n",
      "Installing collected packages: opendatasets\n",
      "Successfully installed opendatasets-0.1.13\n"
     ]
    }
   ],
   "source": [
    "pip install opendatasets --upgrade"
   ]
  },
  {
   "cell_type": "code",
   "execution_count": 7,
   "metadata": {
    "colab": {
     "base_uri": "https://localhost:8080/"
    },
    "executionInfo": {
     "elapsed": 56796,
     "status": "ok",
     "timestamp": 1623946959099,
     "user": {
      "displayName": "Kushal Kumar",
      "photoUrl": "",
      "userId": "05263117254695456245"
     },
     "user_tz": -330
    },
    "id": "oZYxZYTmoDTZ",
    "outputId": "8504eb2c-0fe3-4d1c-95e3-160c237ea33c"
   },
   "outputs": [
    {
     "name": "stdout",
     "output_type": "stream",
     "text": [
      "Please provide your Kaggle credentials to download this dataset. Learn more: http://bit.ly/kaggle-creds\n",
      "Your Kaggle username: kushalkumareregowda\n",
      "Your Kaggle Key: ··········\n"
     ]
    },
    {
     "name": "stderr",
     "output_type": "stream",
     "text": [
      "  2%|▏         | 5.00M/290M [00:00<00:10, 29.1MB/s]"
     ]
    },
    {
     "name": "stdout",
     "output_type": "stream",
     "text": [
      "Downloading us-accidents.zip to ./us-accidents\n"
     ]
    },
    {
     "name": "stderr",
     "output_type": "stream",
     "text": [
      "100%|██████████| 290M/290M [00:01<00:00, 162MB/s]\n"
     ]
    },
    {
     "name": "stdout",
     "output_type": "stream",
     "text": [
      "\n"
     ]
    }
   ],
   "source": [
    "\n",
    "import opendatasets as od\n",
    "download_url='https://www.kaggle.com/sobhanmoosavi/us-accidents'\n",
    "od.download(download_url)\n"
   ]
  },
  {
   "cell_type": "code",
   "execution_count": 8,
   "metadata": {
    "executionInfo": {
     "elapsed": 25,
     "status": "ok",
     "timestamp": 1623946959099,
     "user": {
      "displayName": "Kushal Kumar",
      "photoUrl": "",
      "userId": "05263117254695456245"
     },
     "user_tz": -330
    },
    "id": "LoxahYLLpcJ5"
   },
   "outputs": [],
   "source": [
    "  data_filename='./us-accidents/US_Accidents_Dec20_Updated.csv'\n"
   ]
  },
  {
   "cell_type": "markdown",
   "metadata": {
    "id": "Gw2RO0Fotwea"
   },
   "source": [
    "## Data preparation and Cleaning\n",
    "Load the file using Pandas\n",
    "Look at some information about the data and the columns\n",
    "fix any missing or incorrect values"
   ]
  },
  {
   "cell_type": "markdown",
   "metadata": {
    "id": "SnLQ22TZaluQ"
   },
   "source": [
    "# New Section"
   ]
  },
  {
   "cell_type": "code",
   "execution_count": 9,
   "metadata": {
    "executionInfo": {
     "elapsed": 18,
     "status": "ok",
     "timestamp": 1623946959100,
     "user": {
      "displayName": "Kushal Kumar",
      "photoUrl": "",
      "userId": "05263117254695456245"
     },
     "user_tz": -330
    },
    "id": "w_rlz_DXt3vO"
   },
   "outputs": [],
   "source": [
    "import pandas as pd"
   ]
  },
  {
   "cell_type": "code",
   "execution_count": 10,
   "metadata": {
    "executionInfo": {
     "elapsed": 28627,
     "status": "ok",
     "timestamp": 1623946987710,
     "user": {
      "displayName": "Kushal Kumar",
      "photoUrl": "",
      "userId": "05263117254695456245"
     },
     "user_tz": -330
    },
    "id": "uv0HOlrut7Dz"
   },
   "outputs": [],
   "source": [
    "df=pd.read_csv(data_filename)"
   ]
  },
  {
   "cell_type": "code",
   "execution_count": 11,
   "metadata": {
    "colab": {
     "base_uri": "https://localhost:8080/",
     "height": 957
    },
    "executionInfo": {
     "elapsed": 82,
     "status": "ok",
     "timestamp": 1623946987726,
     "user": {
      "displayName": "Kushal Kumar",
      "photoUrl": "",
      "userId": "05263117254695456245"
     },
     "user_tz": -330
    },
    "id": "WeaKx4mguD1l",
    "outputId": "26407dd3-2462-4833-d43b-d5cd455b9b5a"
   },
   "outputs": [
    {
     "data": {
      "text/html": [
       "<div>\n",
       "<style scoped>\n",
       "    .dataframe tbody tr th:only-of-type {\n",
       "        vertical-align: middle;\n",
       "    }\n",
       "\n",
       "    .dataframe tbody tr th {\n",
       "        vertical-align: top;\n",
       "    }\n",
       "\n",
       "    .dataframe thead th {\n",
       "        text-align: right;\n",
       "    }\n",
       "</style>\n",
       "<table border=\"1\" class=\"dataframe\">\n",
       "  <thead>\n",
       "    <tr style=\"text-align: right;\">\n",
       "      <th></th>\n",
       "      <th>ID</th>\n",
       "      <th>Severity</th>\n",
       "      <th>Start_Time</th>\n",
       "      <th>End_Time</th>\n",
       "      <th>Start_Lat</th>\n",
       "      <th>Start_Lng</th>\n",
       "      <th>End_Lat</th>\n",
       "      <th>End_Lng</th>\n",
       "      <th>Distance(mi)</th>\n",
       "      <th>Description</th>\n",
       "      <th>Number</th>\n",
       "      <th>Street</th>\n",
       "      <th>Side</th>\n",
       "      <th>City</th>\n",
       "      <th>County</th>\n",
       "      <th>State</th>\n",
       "      <th>Zipcode</th>\n",
       "      <th>Country</th>\n",
       "      <th>Timezone</th>\n",
       "      <th>Airport_Code</th>\n",
       "      <th>Weather_Timestamp</th>\n",
       "      <th>Temperature(F)</th>\n",
       "      <th>Wind_Chill(F)</th>\n",
       "      <th>Humidity(%)</th>\n",
       "      <th>Pressure(in)</th>\n",
       "      <th>Visibility(mi)</th>\n",
       "      <th>Wind_Direction</th>\n",
       "      <th>Wind_Speed(mph)</th>\n",
       "      <th>Precipitation(in)</th>\n",
       "      <th>Weather_Condition</th>\n",
       "      <th>Amenity</th>\n",
       "      <th>Bump</th>\n",
       "      <th>Crossing</th>\n",
       "      <th>Give_Way</th>\n",
       "      <th>Junction</th>\n",
       "      <th>No_Exit</th>\n",
       "      <th>Railway</th>\n",
       "      <th>Roundabout</th>\n",
       "      <th>Station</th>\n",
       "      <th>Stop</th>\n",
       "      <th>Traffic_Calming</th>\n",
       "      <th>Traffic_Signal</th>\n",
       "      <th>Turning_Loop</th>\n",
       "      <th>Sunrise_Sunset</th>\n",
       "      <th>Civil_Twilight</th>\n",
       "      <th>Nautical_Twilight</th>\n",
       "      <th>Astronomical_Twilight</th>\n",
       "    </tr>\n",
       "  </thead>\n",
       "  <tbody>\n",
       "    <tr>\n",
       "      <th>0</th>\n",
       "      <td>A-1</td>\n",
       "      <td>2</td>\n",
       "      <td>2019-05-21 08:29:55</td>\n",
       "      <td>2019-05-21 09:29:40</td>\n",
       "      <td>34.808868</td>\n",
       "      <td>-82.269157</td>\n",
       "      <td>34.808868</td>\n",
       "      <td>-82.269157</td>\n",
       "      <td>0.000</td>\n",
       "      <td>Accident on Tanner Rd at Pennbrooke Ln.</td>\n",
       "      <td>439.0</td>\n",
       "      <td>Tanner Rd</td>\n",
       "      <td>R</td>\n",
       "      <td>Greenville</td>\n",
       "      <td>Greenville</td>\n",
       "      <td>SC</td>\n",
       "      <td>29607-6027</td>\n",
       "      <td>US</td>\n",
       "      <td>US/Eastern</td>\n",
       "      <td>KGMU</td>\n",
       "      <td>2019-05-21 08:53:00</td>\n",
       "      <td>76.0</td>\n",
       "      <td>76.0</td>\n",
       "      <td>52.0</td>\n",
       "      <td>28.91</td>\n",
       "      <td>10.0</td>\n",
       "      <td>N</td>\n",
       "      <td>7.0</td>\n",
       "      <td>0.0</td>\n",
       "      <td>Fair</td>\n",
       "      <td>False</td>\n",
       "      <td>False</td>\n",
       "      <td>False</td>\n",
       "      <td>False</td>\n",
       "      <td>False</td>\n",
       "      <td>False</td>\n",
       "      <td>False</td>\n",
       "      <td>False</td>\n",
       "      <td>False</td>\n",
       "      <td>False</td>\n",
       "      <td>False</td>\n",
       "      <td>False</td>\n",
       "      <td>False</td>\n",
       "      <td>Day</td>\n",
       "      <td>Day</td>\n",
       "      <td>Day</td>\n",
       "      <td>Day</td>\n",
       "    </tr>\n",
       "    <tr>\n",
       "      <th>1</th>\n",
       "      <td>A-2</td>\n",
       "      <td>2</td>\n",
       "      <td>2019-10-07 17:43:09</td>\n",
       "      <td>2019-10-07 19:42:50</td>\n",
       "      <td>35.090080</td>\n",
       "      <td>-80.745560</td>\n",
       "      <td>35.090080</td>\n",
       "      <td>-80.745560</td>\n",
       "      <td>0.000</td>\n",
       "      <td>Accident on Houston Branch Rd at Providence Br...</td>\n",
       "      <td>3299.0</td>\n",
       "      <td>Providence Branch Ln</td>\n",
       "      <td>R</td>\n",
       "      <td>Charlotte</td>\n",
       "      <td>Mecklenburg</td>\n",
       "      <td>NC</td>\n",
       "      <td>28270-8560</td>\n",
       "      <td>US</td>\n",
       "      <td>US/Eastern</td>\n",
       "      <td>KEQY</td>\n",
       "      <td>2019-10-07 17:53:00</td>\n",
       "      <td>76.0</td>\n",
       "      <td>76.0</td>\n",
       "      <td>62.0</td>\n",
       "      <td>29.30</td>\n",
       "      <td>10.0</td>\n",
       "      <td>VAR</td>\n",
       "      <td>3.0</td>\n",
       "      <td>0.0</td>\n",
       "      <td>Cloudy</td>\n",
       "      <td>False</td>\n",
       "      <td>False</td>\n",
       "      <td>False</td>\n",
       "      <td>False</td>\n",
       "      <td>False</td>\n",
       "      <td>False</td>\n",
       "      <td>False</td>\n",
       "      <td>False</td>\n",
       "      <td>False</td>\n",
       "      <td>False</td>\n",
       "      <td>False</td>\n",
       "      <td>False</td>\n",
       "      <td>False</td>\n",
       "      <td>Day</td>\n",
       "      <td>Day</td>\n",
       "      <td>Day</td>\n",
       "      <td>Day</td>\n",
       "    </tr>\n",
       "    <tr>\n",
       "      <th>2</th>\n",
       "      <td>A-3</td>\n",
       "      <td>2</td>\n",
       "      <td>2020-12-13 21:53:00</td>\n",
       "      <td>2020-12-13 22:44:00</td>\n",
       "      <td>37.145730</td>\n",
       "      <td>-121.985052</td>\n",
       "      <td>37.165850</td>\n",
       "      <td>-121.988062</td>\n",
       "      <td>1.400</td>\n",
       "      <td>Stationary traffic on CA-17 from Summit Rd (CA...</td>\n",
       "      <td>NaN</td>\n",
       "      <td>Santa Cruz Hwy</td>\n",
       "      <td>R</td>\n",
       "      <td>Los Gatos</td>\n",
       "      <td>Santa Clara</td>\n",
       "      <td>CA</td>\n",
       "      <td>95033</td>\n",
       "      <td>US</td>\n",
       "      <td>US/Pacific</td>\n",
       "      <td>KSJC</td>\n",
       "      <td>2020-12-13 21:53:00</td>\n",
       "      <td>51.0</td>\n",
       "      <td>51.0</td>\n",
       "      <td>80.0</td>\n",
       "      <td>30.17</td>\n",
       "      <td>10.0</td>\n",
       "      <td>W</td>\n",
       "      <td>6.0</td>\n",
       "      <td>0.0</td>\n",
       "      <td>Fair</td>\n",
       "      <td>False</td>\n",
       "      <td>False</td>\n",
       "      <td>False</td>\n",
       "      <td>False</td>\n",
       "      <td>False</td>\n",
       "      <td>False</td>\n",
       "      <td>False</td>\n",
       "      <td>False</td>\n",
       "      <td>False</td>\n",
       "      <td>False</td>\n",
       "      <td>False</td>\n",
       "      <td>False</td>\n",
       "      <td>False</td>\n",
       "      <td>Night</td>\n",
       "      <td>Night</td>\n",
       "      <td>Night</td>\n",
       "      <td>Night</td>\n",
       "    </tr>\n",
       "    <tr>\n",
       "      <th>3</th>\n",
       "      <td>A-4</td>\n",
       "      <td>2</td>\n",
       "      <td>2018-04-17 16:51:23</td>\n",
       "      <td>2018-04-17 17:50:46</td>\n",
       "      <td>39.110390</td>\n",
       "      <td>-119.773781</td>\n",
       "      <td>39.110390</td>\n",
       "      <td>-119.773781</td>\n",
       "      <td>0.000</td>\n",
       "      <td>Accident on US-395 Southbound at Topsy Ln.</td>\n",
       "      <td>NaN</td>\n",
       "      <td>US Highway 395 S</td>\n",
       "      <td>R</td>\n",
       "      <td>Carson City</td>\n",
       "      <td>Douglas</td>\n",
       "      <td>NV</td>\n",
       "      <td>89705</td>\n",
       "      <td>US</td>\n",
       "      <td>US/Pacific</td>\n",
       "      <td>KCXP</td>\n",
       "      <td>2018-04-17 16:55:00</td>\n",
       "      <td>53.6</td>\n",
       "      <td>NaN</td>\n",
       "      <td>16.0</td>\n",
       "      <td>30.16</td>\n",
       "      <td>10.0</td>\n",
       "      <td>SSW</td>\n",
       "      <td>4.6</td>\n",
       "      <td>NaN</td>\n",
       "      <td>Clear</td>\n",
       "      <td>False</td>\n",
       "      <td>False</td>\n",
       "      <td>False</td>\n",
       "      <td>False</td>\n",
       "      <td>False</td>\n",
       "      <td>False</td>\n",
       "      <td>False</td>\n",
       "      <td>False</td>\n",
       "      <td>False</td>\n",
       "      <td>False</td>\n",
       "      <td>False</td>\n",
       "      <td>True</td>\n",
       "      <td>False</td>\n",
       "      <td>Day</td>\n",
       "      <td>Day</td>\n",
       "      <td>Day</td>\n",
       "      <td>Day</td>\n",
       "    </tr>\n",
       "    <tr>\n",
       "      <th>4</th>\n",
       "      <td>A-5</td>\n",
       "      <td>3</td>\n",
       "      <td>2016-08-31 17:40:49</td>\n",
       "      <td>2016-08-31 18:10:49</td>\n",
       "      <td>26.102942</td>\n",
       "      <td>-80.265091</td>\n",
       "      <td>26.102942</td>\n",
       "      <td>-80.265091</td>\n",
       "      <td>0.000</td>\n",
       "      <td>Accident on I-595 Westbound at Exit 4 / Pine I...</td>\n",
       "      <td>NaN</td>\n",
       "      <td>I-595 W</td>\n",
       "      <td>R</td>\n",
       "      <td>Fort Lauderdale</td>\n",
       "      <td>Broward</td>\n",
       "      <td>FL</td>\n",
       "      <td>33324</td>\n",
       "      <td>US</td>\n",
       "      <td>US/Eastern</td>\n",
       "      <td>KHWO</td>\n",
       "      <td>2016-08-31 17:53:00</td>\n",
       "      <td>84.2</td>\n",
       "      <td>NaN</td>\n",
       "      <td>84.0</td>\n",
       "      <td>29.92</td>\n",
       "      <td>10.0</td>\n",
       "      <td>SSE</td>\n",
       "      <td>13.8</td>\n",
       "      <td>NaN</td>\n",
       "      <td>Overcast</td>\n",
       "      <td>False</td>\n",
       "      <td>False</td>\n",
       "      <td>False</td>\n",
       "      <td>False</td>\n",
       "      <td>True</td>\n",
       "      <td>False</td>\n",
       "      <td>False</td>\n",
       "      <td>False</td>\n",
       "      <td>False</td>\n",
       "      <td>False</td>\n",
       "      <td>False</td>\n",
       "      <td>True</td>\n",
       "      <td>False</td>\n",
       "      <td>Day</td>\n",
       "      <td>Day</td>\n",
       "      <td>Day</td>\n",
       "      <td>Day</td>\n",
       "    </tr>\n",
       "    <tr>\n",
       "      <th>...</th>\n",
       "      <td>...</td>\n",
       "      <td>...</td>\n",
       "      <td>...</td>\n",
       "      <td>...</td>\n",
       "      <td>...</td>\n",
       "      <td>...</td>\n",
       "      <td>...</td>\n",
       "      <td>...</td>\n",
       "      <td>...</td>\n",
       "      <td>...</td>\n",
       "      <td>...</td>\n",
       "      <td>...</td>\n",
       "      <td>...</td>\n",
       "      <td>...</td>\n",
       "      <td>...</td>\n",
       "      <td>...</td>\n",
       "      <td>...</td>\n",
       "      <td>...</td>\n",
       "      <td>...</td>\n",
       "      <td>...</td>\n",
       "      <td>...</td>\n",
       "      <td>...</td>\n",
       "      <td>...</td>\n",
       "      <td>...</td>\n",
       "      <td>...</td>\n",
       "      <td>...</td>\n",
       "      <td>...</td>\n",
       "      <td>...</td>\n",
       "      <td>...</td>\n",
       "      <td>...</td>\n",
       "      <td>...</td>\n",
       "      <td>...</td>\n",
       "      <td>...</td>\n",
       "      <td>...</td>\n",
       "      <td>...</td>\n",
       "      <td>...</td>\n",
       "      <td>...</td>\n",
       "      <td>...</td>\n",
       "      <td>...</td>\n",
       "      <td>...</td>\n",
       "      <td>...</td>\n",
       "      <td>...</td>\n",
       "      <td>...</td>\n",
       "      <td>...</td>\n",
       "      <td>...</td>\n",
       "      <td>...</td>\n",
       "      <td>...</td>\n",
       "    </tr>\n",
       "    <tr>\n",
       "      <th>2906605</th>\n",
       "      <td>A-2906606</td>\n",
       "      <td>2</td>\n",
       "      <td>2018-06-28 08:49:01</td>\n",
       "      <td>2018-06-28 09:18:51</td>\n",
       "      <td>29.813824</td>\n",
       "      <td>-95.399437</td>\n",
       "      <td>29.813824</td>\n",
       "      <td>-95.399437</td>\n",
       "      <td>0.000</td>\n",
       "      <td>Accident on 30th St at Yale St.</td>\n",
       "      <td>3001.0</td>\n",
       "      <td>Yale St</td>\n",
       "      <td>L</td>\n",
       "      <td>Houston</td>\n",
       "      <td>Harris</td>\n",
       "      <td>TX</td>\n",
       "      <td>77018-8433</td>\n",
       "      <td>US</td>\n",
       "      <td>US/Central</td>\n",
       "      <td>KMCJ</td>\n",
       "      <td>2018-06-28 08:35:00</td>\n",
       "      <td>84.2</td>\n",
       "      <td>NaN</td>\n",
       "      <td>70.0</td>\n",
       "      <td>30.02</td>\n",
       "      <td>9.0</td>\n",
       "      <td>Variable</td>\n",
       "      <td>5.8</td>\n",
       "      <td>NaN</td>\n",
       "      <td>Clear</td>\n",
       "      <td>False</td>\n",
       "      <td>False</td>\n",
       "      <td>False</td>\n",
       "      <td>False</td>\n",
       "      <td>False</td>\n",
       "      <td>False</td>\n",
       "      <td>False</td>\n",
       "      <td>False</td>\n",
       "      <td>False</td>\n",
       "      <td>True</td>\n",
       "      <td>False</td>\n",
       "      <td>False</td>\n",
       "      <td>False</td>\n",
       "      <td>Day</td>\n",
       "      <td>Day</td>\n",
       "      <td>Day</td>\n",
       "      <td>Day</td>\n",
       "    </tr>\n",
       "    <tr>\n",
       "      <th>2906606</th>\n",
       "      <td>A-2906607</td>\n",
       "      <td>2</td>\n",
       "      <td>2019-01-10 02:01:01</td>\n",
       "      <td>2019-01-10 02:30:32</td>\n",
       "      <td>34.068890</td>\n",
       "      <td>-117.342010</td>\n",
       "      <td>34.068890</td>\n",
       "      <td>-117.342010</td>\n",
       "      <td>0.000</td>\n",
       "      <td>At Valley Blvd - Accident.</td>\n",
       "      <td>NaN</td>\n",
       "      <td>Cypress Ave</td>\n",
       "      <td>R</td>\n",
       "      <td>Colton</td>\n",
       "      <td>San Bernardino</td>\n",
       "      <td>CA</td>\n",
       "      <td>92324</td>\n",
       "      <td>US</td>\n",
       "      <td>US/Pacific</td>\n",
       "      <td>KSBD</td>\n",
       "      <td>2019-01-10 02:00:00</td>\n",
       "      <td>46.9</td>\n",
       "      <td>NaN</td>\n",
       "      <td>74.0</td>\n",
       "      <td>30.14</td>\n",
       "      <td>10.0</td>\n",
       "      <td>Calm</td>\n",
       "      <td>NaN</td>\n",
       "      <td>NaN</td>\n",
       "      <td>Clear</td>\n",
       "      <td>False</td>\n",
       "      <td>False</td>\n",
       "      <td>False</td>\n",
       "      <td>False</td>\n",
       "      <td>False</td>\n",
       "      <td>False</td>\n",
       "      <td>False</td>\n",
       "      <td>False</td>\n",
       "      <td>False</td>\n",
       "      <td>False</td>\n",
       "      <td>False</td>\n",
       "      <td>False</td>\n",
       "      <td>False</td>\n",
       "      <td>Night</td>\n",
       "      <td>Night</td>\n",
       "      <td>Night</td>\n",
       "      <td>Night</td>\n",
       "    </tr>\n",
       "    <tr>\n",
       "      <th>2906607</th>\n",
       "      <td>A-2906608</td>\n",
       "      <td>2</td>\n",
       "      <td>2020-11-23 12:52:00</td>\n",
       "      <td>2020-11-24 00:47:37</td>\n",
       "      <td>25.702200</td>\n",
       "      <td>-80.335556</td>\n",
       "      <td>25.703040</td>\n",
       "      <td>-80.334099</td>\n",
       "      <td>0.108</td>\n",
       "      <td>Stationary traffic on County Hwy-913 - FL-986 ...</td>\n",
       "      <td>8798.0</td>\n",
       "      <td>SW 72nd St</td>\n",
       "      <td>L</td>\n",
       "      <td>Miami</td>\n",
       "      <td>Miami-Dade</td>\n",
       "      <td>FL</td>\n",
       "      <td>33173-3512</td>\n",
       "      <td>US</td>\n",
       "      <td>US/Eastern</td>\n",
       "      <td>KTMB</td>\n",
       "      <td>2020-11-23 12:53:00</td>\n",
       "      <td>76.0</td>\n",
       "      <td>76.0</td>\n",
       "      <td>85.0</td>\n",
       "      <td>30.00</td>\n",
       "      <td>10.0</td>\n",
       "      <td>NNW</td>\n",
       "      <td>16.0</td>\n",
       "      <td>0.0</td>\n",
       "      <td>Mostly Cloudy</td>\n",
       "      <td>False</td>\n",
       "      <td>False</td>\n",
       "      <td>False</td>\n",
       "      <td>False</td>\n",
       "      <td>False</td>\n",
       "      <td>False</td>\n",
       "      <td>False</td>\n",
       "      <td>False</td>\n",
       "      <td>False</td>\n",
       "      <td>False</td>\n",
       "      <td>False</td>\n",
       "      <td>False</td>\n",
       "      <td>False</td>\n",
       "      <td>Day</td>\n",
       "      <td>Day</td>\n",
       "      <td>Day</td>\n",
       "      <td>Day</td>\n",
       "    </tr>\n",
       "    <tr>\n",
       "      <th>2906608</th>\n",
       "      <td>A-2906609</td>\n",
       "      <td>2</td>\n",
       "      <td>2019-12-29 22:38:00</td>\n",
       "      <td>2019-12-29 23:38:00</td>\n",
       "      <td>40.660140</td>\n",
       "      <td>-111.952460</td>\n",
       "      <td>40.660140</td>\n",
       "      <td>-111.952460</td>\n",
       "      <td>0.000</td>\n",
       "      <td>At UT-266/4700/Exit 15 - Accident.</td>\n",
       "      <td>NaN</td>\n",
       "      <td>I-215 N</td>\n",
       "      <td>R</td>\n",
       "      <td>Salt Lake City</td>\n",
       "      <td>Salt Lake</td>\n",
       "      <td>UT</td>\n",
       "      <td>84129</td>\n",
       "      <td>US</td>\n",
       "      <td>US/Mountain</td>\n",
       "      <td>KU42</td>\n",
       "      <td>2019-12-29 22:54:00</td>\n",
       "      <td>27.0</td>\n",
       "      <td>19.0</td>\n",
       "      <td>81.0</td>\n",
       "      <td>25.81</td>\n",
       "      <td>10.0</td>\n",
       "      <td>SSE</td>\n",
       "      <td>8.0</td>\n",
       "      <td>0.0</td>\n",
       "      <td>Cloudy</td>\n",
       "      <td>False</td>\n",
       "      <td>False</td>\n",
       "      <td>False</td>\n",
       "      <td>False</td>\n",
       "      <td>False</td>\n",
       "      <td>False</td>\n",
       "      <td>False</td>\n",
       "      <td>False</td>\n",
       "      <td>False</td>\n",
       "      <td>False</td>\n",
       "      <td>False</td>\n",
       "      <td>False</td>\n",
       "      <td>False</td>\n",
       "      <td>Night</td>\n",
       "      <td>Night</td>\n",
       "      <td>Night</td>\n",
       "      <td>Night</td>\n",
       "    </tr>\n",
       "    <tr>\n",
       "      <th>2906609</th>\n",
       "      <td>A-2906610</td>\n",
       "      <td>2</td>\n",
       "      <td>2018-03-26 13:35:03</td>\n",
       "      <td>2018-03-26 14:39:00</td>\n",
       "      <td>38.831749</td>\n",
       "      <td>-104.748161</td>\n",
       "      <td>38.831749</td>\n",
       "      <td>-104.748161</td>\n",
       "      <td>0.000</td>\n",
       "      <td>Accident on Murray Blvd at Byron Dr.</td>\n",
       "      <td>NaN</td>\n",
       "      <td>Byron Dr</td>\n",
       "      <td>R</td>\n",
       "      <td>Colorado Springs</td>\n",
       "      <td>El Paso</td>\n",
       "      <td>CO</td>\n",
       "      <td>80916</td>\n",
       "      <td>US</td>\n",
       "      <td>US/Mountain</td>\n",
       "      <td>KCOS</td>\n",
       "      <td>2018-03-26 13:54:00</td>\n",
       "      <td>51.1</td>\n",
       "      <td>NaN</td>\n",
       "      <td>38.0</td>\n",
       "      <td>29.77</td>\n",
       "      <td>10.0</td>\n",
       "      <td>SE</td>\n",
       "      <td>13.8</td>\n",
       "      <td>NaN</td>\n",
       "      <td>Scattered Clouds</td>\n",
       "      <td>False</td>\n",
       "      <td>False</td>\n",
       "      <td>True</td>\n",
       "      <td>False</td>\n",
       "      <td>False</td>\n",
       "      <td>False</td>\n",
       "      <td>False</td>\n",
       "      <td>False</td>\n",
       "      <td>False</td>\n",
       "      <td>False</td>\n",
       "      <td>False</td>\n",
       "      <td>True</td>\n",
       "      <td>False</td>\n",
       "      <td>Day</td>\n",
       "      <td>Day</td>\n",
       "      <td>Day</td>\n",
       "      <td>Day</td>\n",
       "    </tr>\n",
       "  </tbody>\n",
       "</table>\n",
       "<p>2906610 rows × 47 columns</p>\n",
       "</div>"
      ],
      "text/plain": [
       "                ID  Severity  ... Nautical_Twilight Astronomical_Twilight\n",
       "0              A-1         2  ...               Day                   Day\n",
       "1              A-2         2  ...               Day                   Day\n",
       "2              A-3         2  ...             Night                 Night\n",
       "3              A-4         2  ...               Day                   Day\n",
       "4              A-5         3  ...               Day                   Day\n",
       "...            ...       ...  ...               ...                   ...\n",
       "2906605  A-2906606         2  ...               Day                   Day\n",
       "2906606  A-2906607         2  ...             Night                 Night\n",
       "2906607  A-2906608         2  ...               Day                   Day\n",
       "2906608  A-2906609         2  ...             Night                 Night\n",
       "2906609  A-2906610         2  ...               Day                   Day\n",
       "\n",
       "[2906610 rows x 47 columns]"
      ]
     },
     "execution_count": 11,
     "metadata": {
      "tags": []
     },
     "output_type": "execute_result"
    }
   ],
   "source": [
    "df"
   ]
  },
  {
   "cell_type": "code",
   "execution_count": 12,
   "metadata": {
    "colab": {
     "base_uri": "https://localhost:8080/"
    },
    "executionInfo": {
     "elapsed": 65,
     "status": "ok",
     "timestamp": 1623946987728,
     "user": {
      "displayName": "Kushal Kumar",
      "photoUrl": "",
      "userId": "05263117254695456245"
     },
     "user_tz": -330
    },
    "id": "7MhH79jQ0A5s",
    "outputId": "ed46ad02-321a-4cc5-cca9-661e79d8d4f0"
   },
   "outputs": [
    {
     "data": {
      "text/plain": [
       "Index(['ID', 'Severity', 'Start_Time', 'End_Time', 'Start_Lat', 'Start_Lng',\n",
       "       'End_Lat', 'End_Lng', 'Distance(mi)', 'Description', 'Number', 'Street',\n",
       "       'Side', 'City', 'County', 'State', 'Zipcode', 'Country', 'Timezone',\n",
       "       'Airport_Code', 'Weather_Timestamp', 'Temperature(F)', 'Wind_Chill(F)',\n",
       "       'Humidity(%)', 'Pressure(in)', 'Visibility(mi)', 'Wind_Direction',\n",
       "       'Wind_Speed(mph)', 'Precipitation(in)', 'Weather_Condition', 'Amenity',\n",
       "       'Bump', 'Crossing', 'Give_Way', 'Junction', 'No_Exit', 'Railway',\n",
       "       'Roundabout', 'Station', 'Stop', 'Traffic_Calming', 'Traffic_Signal',\n",
       "       'Turning_Loop', 'Sunrise_Sunset', 'Civil_Twilight', 'Nautical_Twilight',\n",
       "       'Astronomical_Twilight'],\n",
       "      dtype='object')"
      ]
     },
     "execution_count": 12,
     "metadata": {
      "tags": []
     },
     "output_type": "execute_result"
    }
   ],
   "source": [
    "df.columns"
   ]
  },
  {
   "cell_type": "code",
   "execution_count": 13,
   "metadata": {
    "colab": {
     "base_uri": "https://localhost:8080/"
    },
    "executionInfo": {
     "elapsed": 50,
     "status": "ok",
     "timestamp": 1623946987731,
     "user": {
      "displayName": "Kushal Kumar",
      "photoUrl": "",
      "userId": "05263117254695456245"
     },
     "user_tz": -330
    },
    "id": "euLf_bhB0HyR",
    "outputId": "9dde764f-590f-401f-c9b9-ccfadcf66667"
   },
   "outputs": [
    {
     "data": {
      "text/plain": [
       "(2906610, 47)"
      ]
     },
     "execution_count": 13,
     "metadata": {
      "tags": []
     },
     "output_type": "execute_result"
    }
   ],
   "source": [
    "# To verify the rows and columns in a dataframe\n",
    "df.shape"
   ]
  },
  {
   "cell_type": "code",
   "execution_count": 14,
   "metadata": {
    "colab": {
     "base_uri": "https://localhost:8080/"
    },
    "executionInfo": {
     "elapsed": 39,
     "status": "ok",
     "timestamp": 1623946987733,
     "user": {
      "displayName": "Kushal Kumar",
      "photoUrl": "",
      "userId": "05263117254695456245"
     },
     "user_tz": -330
    },
    "id": "wuTICb812nJO",
    "outputId": "ea75a1f9-6b80-420c-d0cc-6fb9e3741785"
   },
   "outputs": [
    {
     "name": "stdout",
     "output_type": "stream",
     "text": [
      "<class 'pandas.core.frame.DataFrame'>\n",
      "RangeIndex: 2906610 entries, 0 to 2906609\n",
      "Data columns (total 47 columns):\n",
      " #   Column                 Dtype  \n",
      "---  ------                 -----  \n",
      " 0   ID                     object \n",
      " 1   Severity               int64  \n",
      " 2   Start_Time             object \n",
      " 3   End_Time               object \n",
      " 4   Start_Lat              float64\n",
      " 5   Start_Lng              float64\n",
      " 6   End_Lat                float64\n",
      " 7   End_Lng                float64\n",
      " 8   Distance(mi)           float64\n",
      " 9   Description            object \n",
      " 10  Number                 float64\n",
      " 11  Street                 object \n",
      " 12  Side                   object \n",
      " 13  City                   object \n",
      " 14  County                 object \n",
      " 15  State                  object \n",
      " 16  Zipcode                object \n",
      " 17  Country                object \n",
      " 18  Timezone               object \n",
      " 19  Airport_Code           object \n",
      " 20  Weather_Timestamp      object \n",
      " 21  Temperature(F)         float64\n",
      " 22  Wind_Chill(F)          float64\n",
      " 23  Humidity(%)            float64\n",
      " 24  Pressure(in)           float64\n",
      " 25  Visibility(mi)         float64\n",
      " 26  Wind_Direction         object \n",
      " 27  Wind_Speed(mph)        float64\n",
      " 28  Precipitation(in)      float64\n",
      " 29  Weather_Condition      object \n",
      " 30  Amenity                bool   \n",
      " 31  Bump                   bool   \n",
      " 32  Crossing               bool   \n",
      " 33  Give_Way               bool   \n",
      " 34  Junction               bool   \n",
      " 35  No_Exit                bool   \n",
      " 36  Railway                bool   \n",
      " 37  Roundabout             bool   \n",
      " 38  Station                bool   \n",
      " 39  Stop                   bool   \n",
      " 40  Traffic_Calming        bool   \n",
      " 41  Traffic_Signal         bool   \n",
      " 42  Turning_Loop           bool   \n",
      " 43  Sunrise_Sunset         object \n",
      " 44  Civil_Twilight         object \n",
      " 45  Nautical_Twilight      object \n",
      " 46  Astronomical_Twilight  object \n",
      "dtypes: bool(13), float64(13), int64(1), object(20)\n",
      "memory usage: 790.0+ MB\n"
     ]
    }
   ],
   "source": [
    "# To see the columns and its types along with rows and columns counts\n",
    "df.info()"
   ]
  },
  {
   "cell_type": "code",
   "execution_count": 15,
   "metadata": {
    "colab": {
     "base_uri": "https://localhost:8080/",
     "height": 319
    },
    "executionInfo": {
     "elapsed": 2628,
     "status": "ok",
     "timestamp": 1623946990326,
     "user": {
      "displayName": "Kushal Kumar",
      "photoUrl": "",
      "userId": "05263117254695456245"
     },
     "user_tz": -330
    },
    "id": "AE-kNPup2xEQ",
    "outputId": "5698d896-d147-4daf-d025-71d29bf961d5"
   },
   "outputs": [
    {
     "data": {
      "text/html": [
       "<div>\n",
       "<style scoped>\n",
       "    .dataframe tbody tr th:only-of-type {\n",
       "        vertical-align: middle;\n",
       "    }\n",
       "\n",
       "    .dataframe tbody tr th {\n",
       "        vertical-align: top;\n",
       "    }\n",
       "\n",
       "    .dataframe thead th {\n",
       "        text-align: right;\n",
       "    }\n",
       "</style>\n",
       "<table border=\"1\" class=\"dataframe\">\n",
       "  <thead>\n",
       "    <tr style=\"text-align: right;\">\n",
       "      <th></th>\n",
       "      <th>Severity</th>\n",
       "      <th>Start_Lat</th>\n",
       "      <th>Start_Lng</th>\n",
       "      <th>End_Lat</th>\n",
       "      <th>End_Lng</th>\n",
       "      <th>Distance(mi)</th>\n",
       "      <th>Number</th>\n",
       "      <th>Temperature(F)</th>\n",
       "      <th>Wind_Chill(F)</th>\n",
       "      <th>Humidity(%)</th>\n",
       "      <th>Pressure(in)</th>\n",
       "      <th>Visibility(mi)</th>\n",
       "      <th>Wind_Speed(mph)</th>\n",
       "      <th>Precipitation(in)</th>\n",
       "    </tr>\n",
       "  </thead>\n",
       "  <tbody>\n",
       "    <tr>\n",
       "      <th>count</th>\n",
       "      <td>2.906610e+06</td>\n",
       "      <td>2.906610e+06</td>\n",
       "      <td>2.906610e+06</td>\n",
       "      <td>2.623789e+06</td>\n",
       "      <td>2.623789e+06</td>\n",
       "      <td>2.906610e+06</td>\n",
       "      <td>1.014938e+06</td>\n",
       "      <td>2.839386e+06</td>\n",
       "      <td>1.722751e+06</td>\n",
       "      <td>2.835340e+06</td>\n",
       "      <td>2.849702e+06</td>\n",
       "      <td>2.834532e+06</td>\n",
       "      <td>2.599447e+06</td>\n",
       "      <td>1.605284e+06</td>\n",
       "    </tr>\n",
       "    <tr>\n",
       "      <th>mean</th>\n",
       "      <td>2.288649e+00</td>\n",
       "      <td>3.653027e+01</td>\n",
       "      <td>-9.642676e+01</td>\n",
       "      <td>3.651733e+01</td>\n",
       "      <td>-9.620367e+01</td>\n",
       "      <td>3.980541e-01</td>\n",
       "      <td>6.789728e+03</td>\n",
       "      <td>6.098873e+01</td>\n",
       "      <td>5.499048e+01</td>\n",
       "      <td>6.537758e+01</td>\n",
       "      <td>2.965685e+01</td>\n",
       "      <td>9.116766e+00</td>\n",
       "      <td>7.818111e+00</td>\n",
       "      <td>1.119459e-02</td>\n",
       "    </tr>\n",
       "    <tr>\n",
       "      <th>std</th>\n",
       "      <td>5.541618e-01</td>\n",
       "      <td>5.013964e+00</td>\n",
       "      <td>1.775412e+01</td>\n",
       "      <td>5.016609e+00</td>\n",
       "      <td>1.765971e+01</td>\n",
       "      <td>1.592556e+00</td>\n",
       "      <td>1.697225e+04</td>\n",
       "      <td>1.845258e+01</td>\n",
       "      <td>2.219542e+01</td>\n",
       "      <td>2.287854e+01</td>\n",
       "      <td>9.094133e-01</td>\n",
       "      <td>2.837271e+00</td>\n",
       "      <td>5.431171e+00</td>\n",
       "      <td>1.540812e-01</td>\n",
       "    </tr>\n",
       "    <tr>\n",
       "      <th>min</th>\n",
       "      <td>1.000000e+00</td>\n",
       "      <td>2.455527e+01</td>\n",
       "      <td>-1.246238e+02</td>\n",
       "      <td>2.455527e+01</td>\n",
       "      <td>-1.246238e+02</td>\n",
       "      <td>0.000000e+00</td>\n",
       "      <td>0.000000e+00</td>\n",
       "      <td>-8.900000e+01</td>\n",
       "      <td>-8.900000e+01</td>\n",
       "      <td>1.000000e+00</td>\n",
       "      <td>0.000000e+00</td>\n",
       "      <td>0.000000e+00</td>\n",
       "      <td>0.000000e+00</td>\n",
       "      <td>0.000000e+00</td>\n",
       "    </tr>\n",
       "    <tr>\n",
       "      <th>25%</th>\n",
       "      <td>2.000000e+00</td>\n",
       "      <td>3.366453e+01</td>\n",
       "      <td>-1.178232e+02</td>\n",
       "      <td>3.364659e+01</td>\n",
       "      <td>-1.177020e+02</td>\n",
       "      <td>0.000000e+00</td>\n",
       "      <td>9.650000e+02</td>\n",
       "      <td>4.890000e+01</td>\n",
       "      <td>3.900000e+01</td>\n",
       "      <td>4.900000e+01</td>\n",
       "      <td>2.959000e+01</td>\n",
       "      <td>1.000000e+01</td>\n",
       "      <td>4.600000e+00</td>\n",
       "      <td>0.000000e+00</td>\n",
       "    </tr>\n",
       "    <tr>\n",
       "      <th>50%</th>\n",
       "      <td>2.000000e+00</td>\n",
       "      <td>3.609977e+01</td>\n",
       "      <td>-9.116690e+01</td>\n",
       "      <td>3.605898e+01</td>\n",
       "      <td>-9.105163e+01</td>\n",
       "      <td>0.000000e+00</td>\n",
       "      <td>3.093000e+03</td>\n",
       "      <td>6.300000e+01</td>\n",
       "      <td>5.800000e+01</td>\n",
       "      <td>6.800000e+01</td>\n",
       "      <td>2.992000e+01</td>\n",
       "      <td>1.000000e+01</td>\n",
       "      <td>7.000000e+00</td>\n",
       "      <td>0.000000e+00</td>\n",
       "    </tr>\n",
       "    <tr>\n",
       "      <th>75%</th>\n",
       "      <td>3.000000e+00</td>\n",
       "      <td>4.037505e+01</td>\n",
       "      <td>-8.085814e+01</td>\n",
       "      <td>4.033133e+01</td>\n",
       "      <td>-8.084679e+01</td>\n",
       "      <td>2.790000e-01</td>\n",
       "      <td>7.976000e+03</td>\n",
       "      <td>7.500000e+01</td>\n",
       "      <td>7.200000e+01</td>\n",
       "      <td>8.500000e+01</td>\n",
       "      <td>3.007000e+01</td>\n",
       "      <td>1.000000e+01</td>\n",
       "      <td>1.040000e+01</td>\n",
       "      <td>0.000000e+00</td>\n",
       "    </tr>\n",
       "    <tr>\n",
       "      <th>max</th>\n",
       "      <td>4.000000e+00</td>\n",
       "      <td>4.900220e+01</td>\n",
       "      <td>-6.711317e+01</td>\n",
       "      <td>4.907500e+01</td>\n",
       "      <td>-6.710924e+01</td>\n",
       "      <td>3.336300e+02</td>\n",
       "      <td>9.999997e+06</td>\n",
       "      <td>2.030000e+02</td>\n",
       "      <td>1.740000e+02</td>\n",
       "      <td>1.000000e+02</td>\n",
       "      <td>5.804000e+01</td>\n",
       "      <td>1.400000e+02</td>\n",
       "      <td>9.840000e+02</td>\n",
       "      <td>2.400000e+01</td>\n",
       "    </tr>\n",
       "  </tbody>\n",
       "</table>\n",
       "</div>"
      ],
      "text/plain": [
       "           Severity     Start_Lat  ...  Wind_Speed(mph)  Precipitation(in)\n",
       "count  2.906610e+06  2.906610e+06  ...     2.599447e+06       1.605284e+06\n",
       "mean   2.288649e+00  3.653027e+01  ...     7.818111e+00       1.119459e-02\n",
       "std    5.541618e-01  5.013964e+00  ...     5.431171e+00       1.540812e-01\n",
       "min    1.000000e+00  2.455527e+01  ...     0.000000e+00       0.000000e+00\n",
       "25%    2.000000e+00  3.366453e+01  ...     4.600000e+00       0.000000e+00\n",
       "50%    2.000000e+00  3.609977e+01  ...     7.000000e+00       0.000000e+00\n",
       "75%    3.000000e+00  4.037505e+01  ...     1.040000e+01       0.000000e+00\n",
       "max    4.000000e+00  4.900220e+01  ...     9.840000e+02       2.400000e+01\n",
       "\n",
       "[8 rows x 14 columns]"
      ]
     },
     "execution_count": 15,
     "metadata": {
      "tags": []
     },
     "output_type": "execute_result"
    }
   ],
   "source": [
    "# To view the count , mean , std and min for each columns\n",
    "df.describe()"
   ]
  },
  {
   "cell_type": "code",
   "execution_count": 16,
   "metadata": {
    "colab": {
     "base_uri": "https://localhost:8080/"
    },
    "executionInfo": {
     "elapsed": 187,
     "status": "ok",
     "timestamp": 1623946990346,
     "user": {
      "displayName": "Kushal Kumar",
      "photoUrl": "",
      "userId": "05263117254695456245"
     },
     "user_tz": -330
    },
    "id": "kvWZOz_45SDJ",
    "outputId": "6ab7bd3c-f498-4c0b-902e-a69feb5655c2"
   },
   "outputs": [
    {
     "data": {
      "text/plain": [
       "14"
      ]
     },
     "execution_count": 16,
     "metadata": {
      "tags": []
     },
     "output_type": "execute_result"
    }
   ],
   "source": [
    "# To check what all the columns belongs to numeric data types\n",
    "numerics=['int16','int32','int64','float16','float32','float64']\n",
    "numeric_df=df.select_dtypes(include=numerics)\n",
    "len(numeric_df.columns)"
   ]
  },
  {
   "cell_type": "code",
   "execution_count": 17,
   "metadata": {
    "colab": {
     "base_uri": "https://localhost:8080/"
    },
    "executionInfo": {
     "elapsed": 3798,
     "status": "ok",
     "timestamp": 1623946994010,
     "user": {
      "displayName": "Kushal Kumar",
      "photoUrl": "",
      "userId": "05263117254695456245"
     },
     "user_tz": -330
    },
    "id": "AJjWqSSw455B",
    "outputId": "87444ccd-6fdd-4c62-935d-0762c39ae4ab"
   },
   "outputs": [
    {
     "data": {
      "text/plain": [
       "Number                   1891672\n",
       "Precipitation(in)        1301326\n",
       "Wind_Chill(F)            1183859\n",
       "Wind_Speed(mph)           307163\n",
       "End_Lat                   282821\n",
       "End_Lng                   282821\n",
       "Visibility(mi)             72078\n",
       "Weather_Condition          71851\n",
       "Humidity(%)                71270\n",
       "Temperature(F)             67224\n",
       "Wind_Direction             63474\n",
       "Pressure(in)               56908\n",
       "Weather_Timestamp          46917\n",
       "Airport_Code                6608\n",
       "Timezone                    3430\n",
       "Zipcode                     1114\n",
       "Nautical_Twilight            110\n",
       "Astronomical_Twilight        110\n",
       "Civil_Twilight               110\n",
       "Sunrise_Sunset               110\n",
       "City                         108\n",
       "Amenity                        0\n",
       "Severity                       0\n",
       "Start_Time                     0\n",
       "End_Time                       0\n",
       "Start_Lat                      0\n",
       "Start_Lng                      0\n",
       "Distance(mi)                   0\n",
       "Description                    0\n",
       "Turning_Loop                   0\n",
       "Street                         0\n",
       "Side                           0\n",
       "County                         0\n",
       "Bump                           0\n",
       "State                          0\n",
       "Traffic_Signal                 0\n",
       "Country                        0\n",
       "Traffic_Calming                0\n",
       "Stop                           0\n",
       "Station                        0\n",
       "Roundabout                     0\n",
       "Railway                        0\n",
       "No_Exit                        0\n",
       "Junction                       0\n",
       "Give_Way                       0\n",
       "Crossing                       0\n",
       "ID                             0\n",
       "dtype: int64"
      ]
     },
     "execution_count": 17,
     "metadata": {
      "tags": []
     },
     "output_type": "execute_result"
    }
   ],
   "source": [
    "# to find the missing values per columns\n",
    "\n",
    "df.isna()\n",
    "df.isna().sum().sort_values(ascending=False)"
   ]
  },
  {
   "cell_type": "code",
   "execution_count": 18,
   "metadata": {
    "colab": {
     "base_uri": "https://localhost:8080/"
    },
    "executionInfo": {
     "elapsed": 2349,
     "status": "ok",
     "timestamp": 1623946996310,
     "user": {
      "displayName": "Kushal Kumar",
      "photoUrl": "",
      "userId": "05263117254695456245"
     },
     "user_tz": -330
    },
    "id": "G2XjfOx5-l-w",
    "outputId": "aae23afa-d97c-4f87-f367-44c69b67d2b4"
   },
   "outputs": [
    {
     "name": "stdout",
     "output_type": "stream",
     "text": [
      "Number                   0.650817\n",
      "Precipitation(in)        0.447713\n",
      "Wind_Chill(F)            0.407299\n",
      "Wind_Speed(mph)          0.105677\n",
      "End_Lat                  0.097303\n",
      "End_Lng                  0.097303\n",
      "Visibility(mi)           0.024798\n",
      "Weather_Condition        0.024720\n",
      "Humidity(%)              0.024520\n",
      "Temperature(F)           0.023128\n",
      "Wind_Direction           0.021838\n",
      "Pressure(in)             0.019579\n",
      "Weather_Timestamp        0.016141\n",
      "Airport_Code             0.002273\n",
      "Timezone                 0.001180\n",
      "Zipcode                  0.000383\n",
      "Nautical_Twilight        0.000038\n",
      "Astronomical_Twilight    0.000038\n",
      "Civil_Twilight           0.000038\n",
      "Sunrise_Sunset           0.000038\n",
      "City                     0.000037\n",
      "Amenity                  0.000000\n",
      "Severity                 0.000000\n",
      "Start_Time               0.000000\n",
      "End_Time                 0.000000\n",
      "Start_Lat                0.000000\n",
      "Start_Lng                0.000000\n",
      "Distance(mi)             0.000000\n",
      "Description              0.000000\n",
      "Turning_Loop             0.000000\n",
      "Street                   0.000000\n",
      "Side                     0.000000\n",
      "County                   0.000000\n",
      "Bump                     0.000000\n",
      "State                    0.000000\n",
      "Traffic_Signal           0.000000\n",
      "Country                  0.000000\n",
      "Traffic_Calming          0.000000\n",
      "Stop                     0.000000\n",
      "Station                  0.000000\n",
      "Roundabout               0.000000\n",
      "Railway                  0.000000\n",
      "No_Exit                  0.000000\n",
      "Junction                 0.000000\n",
      "Give_Way                 0.000000\n",
      "Crossing                 0.000000\n",
      "ID                       0.000000\n",
      "dtype: float64\n"
     ]
    }
   ],
   "source": [
    "\n",
    "# to check the missing values percentage\n",
    "\n",
    "missing_percentage=df.isna().sum().sort_values(ascending=False)/len(df)\n",
    "print(missing_percentage)"
   ]
  },
  {
   "cell_type": "code",
   "execution_count": 19,
   "metadata": {
    "colab": {
     "base_uri": "https://localhost:8080/",
     "height": 381
    },
    "executionInfo": {
     "elapsed": 1037,
     "status": "ok",
     "timestamp": 1623946997324,
     "user": {
      "displayName": "Kushal Kumar",
      "photoUrl": "",
      "userId": "05263117254695456245"
     },
     "user_tz": -330
    },
    "id": "0m5HXlPs-6nv",
    "outputId": "1405e26c-cb16-4aca-a189-8de1daaa8c50"
   },
   "outputs": [
    {
     "data": {
      "text/plain": [
       "<matplotlib.axes._subplots.AxesSubplot at 0x7f3f9f99b8d0>"
      ]
     },
     "execution_count": 19,
     "metadata": {
      "tags": []
     },
     "output_type": "execute_result"
    },
    {
     "data": {
      "image/png": "[encoded data removed]",
      "text/plain": [
       "<Figure size 432x288 with 1 Axes>"
      ]
     },
     "metadata": {
      "needs_background": "light",
      "tags": []
     },
     "output_type": "display_data"
    }
   ],
   "source": [
    "## to check the missing values percentage in plots\n",
    "\n",
    "missing_percentage.plot(kind='bar')"
   ]
  },
  {
   "cell_type": "code",
   "execution_count": 20,
   "metadata": {
    "colab": {
     "base_uri": "https://localhost:8080/",
     "height": 381
    },
    "executionInfo": {
     "elapsed": 2351,
     "status": "ok",
     "timestamp": 1623946999627,
     "user": {
      "displayName": "Kushal Kumar",
      "photoUrl": "",
      "userId": "05263117254695456245"
     },
     "user_tz": -330
    },
    "id": "SB0RWyBT_osY",
    "outputId": "e607232b-6444-448f-cfa0-a7b393a58885"
   },
   "outputs": [
    {
     "data": {
      "text/plain": [
       "<matplotlib.axes._subplots.AxesSubplot at 0x7f3f9f8a57d0>"
      ]
     },
     "execution_count": 20,
     "metadata": {
      "tags": []
     },
     "output_type": "execute_result"
    },
    {
     "data": {
      "image/png": "[encoded data removed]",
      "text/plain": [
       "<Figure size 432x288 with 1 Axes>"
      ]
     },
     "metadata": {
      "needs_background": "light",
      "tags": []
     },
     "output_type": "display_data"
    }
   ],
   "source": [
    "# In the above graph it si very difficult to read as there are lot of columns \n",
    "# so to tackle this we are filtering out the columns which has missing percentage and plot it\n",
    "\n",
    "missing_percentage[missing_percentage != 0].plot(kind='bar')\n",
    "#missing_percentage.plot[Kind ='bar']\n",
    "\n",
    "\n",
    "\n"
   ]
  },
  {
   "cell_type": "markdown",
   "metadata": {
    "id": "6V9ZpedPbsDm"
   },
   "source": [
    "# Remove columns that we do not want to use"
   ]
  },
  {
   "cell_type": "code",
   "execution_count": 21,
   "metadata": {
    "colab": {
     "base_uri": "https://localhost:8080/"
    },
    "executionInfo": {
     "elapsed": 61,
     "status": "ok",
     "timestamp": 1623946999628,
     "user": {
      "displayName": "Kushal Kumar",
      "photoUrl": "",
      "userId": "05263117254695456245"
     },
     "user_tz": -330
    },
    "id": "lDphmrOfbyPn",
    "outputId": "f7e8b8b9-9223-45b7-e5e2-e400bfaf3c38"
   },
   "outputs": [
    {
     "data": {
      "text/plain": [
       "Index(['ID', 'Severity', 'Start_Time', 'End_Time', 'Start_Lat', 'Start_Lng',\n",
       "       'End_Lat', 'End_Lng', 'Distance(mi)', 'Description', 'Number', 'Street',\n",
       "       'Side', 'City', 'County', 'State', 'Zipcode', 'Country', 'Timezone',\n",
       "       'Airport_Code', 'Weather_Timestamp', 'Temperature(F)', 'Wind_Chill(F)',\n",
       "       'Humidity(%)', 'Pressure(in)', 'Visibility(mi)', 'Wind_Direction',\n",
       "       'Wind_Speed(mph)', 'Precipitation(in)', 'Weather_Condition', 'Amenity',\n",
       "       'Bump', 'Crossing', 'Give_Way', 'Junction', 'No_Exit', 'Railway',\n",
       "       'Roundabout', 'Station', 'Stop', 'Traffic_Calming', 'Traffic_Signal',\n",
       "       'Turning_Loop', 'Sunrise_Sunset', 'Civil_Twilight', 'Nautical_Twilight',\n",
       "       'Astronomical_Twilight'],\n",
       "      dtype='object')"
      ]
     },
     "execution_count": 21,
     "metadata": {
      "tags": []
     },
     "output_type": "execute_result"
    }
   ],
   "source": [
    "df.columns"
   ]
  },
  {
   "cell_type": "markdown",
   "metadata": {
    "id": "gGLbpawodPr2"
   },
   "source": []
  },
  {
   "cell_type": "code",
   "execution_count": 21,
   "metadata": {
    "executionInfo": {
     "elapsed": 49,
     "status": "ok",
     "timestamp": 1623946999629,
     "user": {
      "displayName": "Kushal Kumar",
      "photoUrl": "",
      "userId": "05263117254695456245"
     },
     "user_tz": -330
    },
    "id": "ifvG7u9Rb-Ap"
   },
   "outputs": [],
   "source": []
  },
  {
   "cell_type": "markdown",
   "metadata": {
    "id": "kiTx60RL4lRP"
   },
   "source": [
    "# Ask Question and Answers\n",
    "\n",
    "1. Are there more accidents in colder areas or hotter areas ?\n",
    "2. Which 5 states have the highest number of accidents ? how about per capita ?\n",
    "3. Does Newyork showup in data . if yes why is the count lower in the most populated city.\n",
    "4. Among the cities , how many cities are having more accidents ?\n",
    "5. What time of the day have more accidents ?\n",
    "6. which days of the week have the more accident ?\n",
    "7. which months have the most accidents ?\n",
    "8. what is the trend of accidents year over year  ( decreasing or increasing )\n"
   ]
  },
  {
   "cell_type": "markdown",
   "metadata": {
    "id": "SWqstzZLcVbs"
   },
   "source": [
    "Columns to analyse\n",
    "\n",
    "1. Weather condition\n",
    "2. City\n",
    "3. Start time\n",
    "4. Temperature\n",
    "5. Start time, Start longitude\n"
   ]
  },
  {
   "cell_type": "markdown",
   "metadata": {
    "id": "cTH-CEYp-E6H"
   },
   "source": [
    "## City"
   ]
  },
  {
   "cell_type": "code",
   "execution_count": 22,
   "metadata": {
    "colab": {
     "base_uri": "https://localhost:8080/"
    },
    "executionInfo": {
     "elapsed": 50,
     "status": "ok",
     "timestamp": 1623946999631,
     "user": {
      "displayName": "Kushal Kumar",
      "photoUrl": "",
      "userId": "05263117254695456245"
     },
     "user_tz": -330
    },
    "id": "KfRyZjt0cgaf",
    "outputId": "1e700045-3946-43bb-87ab-5d04170275f1"
   },
   "outputs": [
    {
     "data": {
      "text/plain": [
       "11790"
      ]
     },
     "execution_count": 22,
     "metadata": {
      "tags": []
     },
     "output_type": "execute_result"
    }
   ],
   "source": [
    "# to identify different citites \n",
    "\n",
    "df.City\n",
    "df.City.unique()\n",
    "\n",
    "len(df.City.unique())"
   ]
  },
  {
   "cell_type": "code",
   "execution_count": 23,
   "metadata": {
    "colab": {
     "base_uri": "https://localhost:8080/"
    },
    "executionInfo": {
     "elapsed": 43,
     "status": "ok",
     "timestamp": 1623946999632,
     "user": {
      "displayName": "Kushal Kumar",
      "photoUrl": "",
      "userId": "05263117254695456245"
     },
     "user_tz": -330
    },
    "id": "o5L01GaHcikW",
    "outputId": "fcb4a3bf-b924-43a4-c834-d58ab7a48ca7"
   },
   "outputs": [
    {
     "name": "stdout",
     "output_type": "stream",
     "text": [
      "Los Angeles            68411\n",
      "Houston                68265\n",
      "Charlotte              56176\n",
      "Miami                  49965\n",
      "Dallas                 48525\n",
      "                       ...  \n",
      "Rensselaer Falls           1\n",
      "Tilleda                    1\n",
      "San Fernando Valley        1\n",
      "Swifton                    1\n",
      "Masury                     1\n",
      "Name: City, Length: 11789, dtype: int64\n"
     ]
    }
   ],
   "source": [
    "# Calculate no. of accidents by cities\n",
    "Cities_by_accident= df.City.value_counts()\n",
    "print(Cities_by_accident)"
   ]
  },
  {
   "cell_type": "code",
   "execution_count": 24,
   "metadata": {
    "colab": {
     "base_uri": "https://localhost:8080/"
    },
    "executionInfo": {
     "elapsed": 40,
     "status": "ok",
     "timestamp": 1623946999633,
     "user": {
      "displayName": "Kushal Kumar",
      "photoUrl": "",
      "userId": "05263117254695456245"
     },
     "user_tz": -330
    },
    "id": "6xaHjVO6eReb",
    "outputId": "e20590ee-11f4-4a95-9a09-492db0430fee"
   },
   "outputs": [
    {
     "data": {
      "text/plain": [
       "Los Angeles      68411\n",
       "Houston          68265\n",
       "Charlotte        56176\n",
       "Miami            49965\n",
       "Dallas           48525\n",
       "Austin           38808\n",
       "Raleigh          31355\n",
       "Atlanta          29244\n",
       "Sacramento       28984\n",
       "Orlando          28092\n",
       "Nashville        25277\n",
       "Baton Rouge      25080\n",
       "Minneapolis      22469\n",
       "San Diego        22329\n",
       "Phoenix          21370\n",
       "Oklahoma City    21292\n",
       "Portland         19432\n",
       "Richmond         18343\n",
       "Seattle          17384\n",
       "Saint Paul       17266\n",
       "Name: City, dtype: int64"
      ]
     },
     "execution_count": 24,
     "metadata": {
      "tags": []
     },
     "output_type": "execute_result"
    }
   ],
   "source": [
    "# to check the top 20 cities \n",
    "\n",
    "Cities_by_accident[:20]"
   ]
  },
  {
   "cell_type": "code",
   "execution_count": 25,
   "metadata": {
    "colab": {
     "base_uri": "https://localhost:8080/"
    },
    "executionInfo": {
     "elapsed": 38,
     "status": "ok",
     "timestamp": 1623946999635,
     "user": {
      "displayName": "Kushal Kumar",
      "photoUrl": "",
      "userId": "05263117254695456245"
     },
     "user_tz": -330
    },
    "id": "4ljh-KIrep1Z",
    "outputId": "17ac94bd-ac88-47f4-be50-aa59ac398447"
   },
   "outputs": [
    {
     "data": {
      "text/plain": [
       "False"
      ]
     },
     "execution_count": 25,
     "metadata": {
      "tags": []
     },
     "output_type": "execute_result"
    }
   ],
   "source": [
    "# To check if Neywork exists in columns\n",
    "\n",
    "'New York' in df.City\n",
    "\n"
   ]
  },
  {
   "cell_type": "code",
   "execution_count": 26,
   "metadata": {
    "colab": {
     "base_uri": "https://localhost:8080/"
    },
    "executionInfo": {
     "elapsed": 36,
     "status": "ok",
     "timestamp": 1623946999637,
     "user": {
      "displayName": "Kushal Kumar",
      "photoUrl": "",
      "userId": "05263117254695456245"
     },
     "user_tz": -330
    },
    "id": "b4hbnYsIgxZQ",
    "outputId": "93bf6a7e-bb23-4957-cd58-d543712b32cb"
   },
   "outputs": [
    {
     "data": {
      "text/plain": [
       "False"
      ]
     },
     "execution_count": 26,
     "metadata": {
      "tags": []
     },
     "output_type": "execute_result"
    }
   ],
   "source": [
    "# check the NY state in State column\n",
    "\n",
    "'NY' in df.State"
   ]
  },
  {
   "cell_type": "code",
   "execution_count": 27,
   "metadata": {
    "colab": {
     "base_uri": "https://localhost:8080/",
     "height": 283
    },
    "executionInfo": {
     "elapsed": 34,
     "status": "ok",
     "timestamp": 1623946999638,
     "user": {
      "displayName": "Kushal Kumar",
      "photoUrl": "",
      "userId": "05263117254695456245"
     },
     "user_tz": -330
    },
    "id": "RXNbTt071b2s",
    "outputId": "df138dc8-8b5b-4f11-e0b4-b4098cb7ff10"
   },
   "outputs": [
    {
     "data": {
      "text/plain": [
       "<matplotlib.axes._subplots.AxesSubplot at 0x7f3f9f3784d0>"
      ]
     },
     "execution_count": 27,
     "metadata": {
      "tags": []
     },
     "output_type": "execute_result"
    },
    {
     "data": {
      "image/png": "[encoded data removed]",
      "text/plain": [
       "<Figure size 432x288 with 1 Axes>"
      ]
     },
     "metadata": {
      "needs_background": "light",
      "tags": []
     },
     "output_type": "display_data"
    }
   ],
   "source": [
    "Cities_by_accident[:20].plot(kind='barh')"
   ]
  },
  {
   "cell_type": "code",
   "execution_count": 28,
   "metadata": {
    "executionInfo": {
     "elapsed": 33,
     "status": "ok",
     "timestamp": 1623946999641,
     "user": {
      "displayName": "Kushal Kumar",
      "photoUrl": "",
      "userId": "05263117254695456245"
     },
     "user_tz": -330
    },
    "id": "0X5jFXYU1pjF"
   },
   "outputs": [],
   "source": [
    "import matplotlib.pyplot as plt\n",
    "\n",
    "import seaborn as sns\n",
    "sns.set_style('darkgrid')\n"
   ]
  },
  {
   "cell_type": "code",
   "execution_count": 29,
   "metadata": {
    "colab": {
     "base_uri": "https://localhost:8080/",
     "height": 335
    },
    "executionInfo": {
     "elapsed": 1875,
     "status": "ok",
     "timestamp": 1623947001484,
     "user": {
      "displayName": "Kushal Kumar",
      "photoUrl": "",
      "userId": "05263117254695456245"
     },
     "user_tz": -330
    },
    "id": "5p3dMffF2CRE",
    "outputId": "74a7d003-a75e-47f7-9e57-107bd7c4418d"
   },
   "outputs": [
    {
     "data": {
      "text/plain": [
       "(array([7., 3., 4., 0., 1., 0., 2., 1., 0., 2.]),\n",
       " array([17266. , 22380.5, 27495. , 32609.5, 37724. , 42838.5, 47953. ,\n",
       "        53067.5, 58182. , 63296.5, 68411. ]),\n",
       " <a list of 10 Patch objects>)"
      ]
     },
     "execution_count": 29,
     "metadata": {
      "tags": []
     },
     "output_type": "execute_result"
    },
    {
     "data": {
      "image/png": "[encoded data removed]",
      "text/plain": [
       "<Figure size 432x288 with 1 Axes>"
      ]
     },
     "metadata": {
      "tags": []
     },
     "output_type": "display_data"
    }
   ],
   "source": [
    "# to see the histplot using matplot library\n",
    "plt.hist(Cities_by_accident[:20])"
   ]
  },
  {
   "cell_type": "code",
   "execution_count": 30,
   "metadata": {
    "colab": {
     "base_uri": "https://localhost:8080/"
    },
    "executionInfo": {
     "elapsed": 54,
     "status": "ok",
     "timestamp": 1623947001485,
     "user": {
      "displayName": "Kushal Kumar",
      "photoUrl": "",
      "userId": "05263117254695456245"
     },
     "user_tz": -330
    },
    "id": "S5MfLJjt2Sto",
    "outputId": "154e2b2f-f6e6-4b29-dabb-ac7016ca2513"
   },
   "outputs": [
    {
     "data": {
      "text/plain": [
       "513"
      ]
     },
     "execution_count": 30,
     "metadata": {
      "tags": []
     },
     "output_type": "execute_result"
    }
   ],
   "source": [
    "# Creating two buckets one with high and other low accident cities\n",
    "\n",
    "high_accident_cities= Cities_by_accident[Cities_by_accident > 1000]\n",
    "low_accident_cities= Cities_by_accident[Cities_by_accident <= 1000]\n",
    "\n",
    "len(high_accident_cities)\n",
    "#len(low_accident_cities)"
   ]
  },
  {
   "cell_type": "code",
   "execution_count": 31,
   "metadata": {
    "colab": {
     "base_uri": "https://localhost:8080/"
    },
    "executionInfo": {
     "elapsed": 36,
     "status": "ok",
     "timestamp": 1623947001486,
     "user": {
      "displayName": "Kushal Kumar",
      "photoUrl": "",
      "userId": "05263117254695456245"
     },
     "user_tz": -330
    },
    "id": "DQhxCqvRAC4y",
    "outputId": "5ad75dca-ecb6-46c3-9545-2ca286fb29e1"
   },
   "outputs": [
    {
     "data": {
      "text/plain": [
       "11276"
      ]
     },
     "execution_count": 31,
     "metadata": {
      "tags": []
     },
     "output_type": "execute_result"
    }
   ],
   "source": [
    "len(low_accident_cities)"
   ]
  },
  {
   "cell_type": "code",
   "execution_count": 32,
   "metadata": {
    "colab": {
     "base_uri": "https://localhost:8080/"
    },
    "executionInfo": {
     "elapsed": 34,
     "status": "ok",
     "timestamp": 1623947001487,
     "user": {
      "displayName": "Kushal Kumar",
      "photoUrl": "",
      "userId": "05263117254695456245"
     },
     "user_tz": -330
    },
    "id": "F0EaLclhAFSF",
    "outputId": "5e1554df-17e7-4245-fc47-3e426324c8b5"
   },
   "outputs": [
    {
     "name": "stdout",
     "output_type": "stream",
     "text": [
      "4.351145038167939\n"
     ]
    }
   ],
   "source": [
    "# Percentage of High and Low accident citites\n",
    "\n",
    "low_perc_cities=(len(high_accident_cities)/len(df.City.unique()))*100\n",
    "print(low_perc_cities)"
   ]
  },
  {
   "cell_type": "code",
   "execution_count": 33,
   "metadata": {
    "colab": {
     "base_uri": "https://localhost:8080/"
    },
    "executionInfo": {
     "elapsed": 30,
     "status": "ok",
     "timestamp": 1623947001488,
     "user": {
      "displayName": "Kushal Kumar",
      "photoUrl": "",
      "userId": "05263117254695456245"
     },
     "user_tz": -330
    },
    "id": "hpZ152ypX5ak",
    "outputId": "2820bda2-22ca-4408-c9e8-3f65697c34f9"
   },
   "outputs": [
    {
     "name": "stdout",
     "output_type": "stream",
     "text": [
      "95.64037319762511\n"
     ]
    }
   ],
   "source": [
    "low_perc_cities=(len(low_accident_cities)/len(df.City.unique()))*100\n",
    "print(low_perc_cities)"
   ]
  },
  {
   "cell_type": "code",
   "execution_count": 34,
   "metadata": {
    "colab": {
     "base_uri": "https://localhost:8080/",
     "height": 387
    },
    "executionInfo": {
     "elapsed": 25,
     "status": "ok",
     "timestamp": 1623947001489,
     "user": {
      "displayName": "Kushal Kumar",
      "photoUrl": "",
      "userId": "05263117254695456245"
     },
     "user_tz": -330
    },
    "id": "ev7y5ASvYyha",
    "outputId": "867a8575-e256-44b5-fac8-a7f3dc5bd13b"
   },
   "outputs": [
    {
     "data": {
      "text/plain": [
       "<seaborn.axisgrid.FacetGrid at 0x7f3f908acc90>"
      ]
     },
     "execution_count": 34,
     "metadata": {
      "tags": []
     },
     "output_type": "execute_result"
    },
    {
     "data": {
      "image/png": "[encoded data removed]",
      "text/plain": [
       "<Figure size 360x360 with 1 Axes>"
      ]
     },
     "metadata": {
      "tags": []
     },
     "output_type": "display_data"
    }
   ],
   "source": [
    "sns.displot(high_accident_cities,kind='hist',Color='Green',log_scale=True,legend=True)"
   ]
  },
  {
   "cell_type": "code",
   "execution_count": 35,
   "metadata": {
    "colab": {
     "base_uri": "https://localhost:8080/",
     "height": 387
    },
    "executionInfo": {
     "elapsed": 1770,
     "status": "ok",
     "timestamp": 1623947003240,
     "user": {
      "displayName": "Kushal Kumar",
      "photoUrl": "",
      "userId": "05263117254695456245"
     },
     "user_tz": -330
    },
    "id": "_zb6bIpddroP",
    "outputId": "a24b74bd-8c15-4468-917e-fb628bef8b0f"
   },
   "outputs": [
    {
     "data": {
      "text/plain": [
       "<seaborn.axisgrid.FacetGrid at 0x7f3f87e8e950>"
      ]
     },
     "execution_count": 35,
     "metadata": {
      "tags": []
     },
     "output_type": "execute_result"
    },
    {
     "data": {
      "image/png": "[encoded data removed]",
      "text/plain": [
       "<Figure size 360x360 with 1 Axes>"
      ]
     },
     "metadata": {
      "tags": []
     },
     "output_type": "display_data"
    }
   ],
   "source": [
    "sns.displot(low_accident_cities,kind='hist',Color='Green',log_scale=True,legend=True)"
   ]
  },
  {
   "cell_type": "code",
   "execution_count": 36,
   "metadata": {
    "colab": {
     "base_uri": "https://localhost:8080/"
    },
    "executionInfo": {
     "elapsed": 18,
     "status": "ok",
     "timestamp": 1623947003241,
     "user": {
      "displayName": "Kushal Kumar",
      "photoUrl": "",
      "userId": "05263117254695456245"
     },
     "user_tz": -330
    },
    "id": "ntpKAnI4fLwZ",
    "outputId": "7a8b8c68-2731-4a15-84e6-658779dff1d6"
   },
   "outputs": [
    {
     "data": {
      "text/plain": [
       "City Of Spokane Valley    1\n",
       "Camp Meeker               1\n",
       "Wardsboro                 1\n",
       "Margate City              1\n",
       "Alloway                   1\n",
       "                         ..\n",
       "Rensselaer Falls          1\n",
       "Tilleda                   1\n",
       "San Fernando Valley       1\n",
       "Swifton                   1\n",
       "Masury                    1\n",
       "Name: City, Length: 1306, dtype: int64"
      ]
     },
     "execution_count": 36,
     "metadata": {
      "tags": []
     },
     "output_type": "execute_result"
    }
   ],
   "source": [
    "    Cities_by_accident[Cities_by_accident == 1]\n",
    "    "
   ]
  },
  {
   "cell_type": "markdown",
   "metadata": {
    "id": "Vx0QhDd7ZWZQ"
   },
   "source": [
    "#Summary and Conclusion\n",
    "Insights\n",
    "- No data for New York.\n",
    "- Less than 5% of the cities have mre than 1000 yearly accidents\n",
    "- Over 1200 cities have just one accident so need some investigation\n",
    "-The number of accidents per city decreases or uincreases exponentially \n"
   ]
  },
  {
   "cell_type": "code",
   "execution_count": 36,
   "metadata": {
    "executionInfo": {
     "elapsed": 14,
     "status": "ok",
     "timestamp": 1623947003243,
     "user": {
      "displayName": "Kushal Kumar",
      "photoUrl": "",
      "userId": "05263117254695456245"
     },
     "user_tz": -330
    },
    "id": "3e4KW7vFZZhA"
   },
   "outputs": [],
   "source": []
  },
  {
   "cell_type": "markdown",
   "metadata": {
    "id": "Fpm2Tol1-KCx"
   },
   "source": [
    "### Start time"
   ]
  },
  {
   "cell_type": "code",
   "execution_count": 37,
   "metadata": {
    "colab": {
     "base_uri": "https://localhost:8080/",
     "height": 35
    },
    "executionInfo": {
     "elapsed": 14,
     "status": "ok",
     "timestamp": 1623947003244,
     "user": {
      "displayName": "Kushal Kumar",
      "photoUrl": "",
      "userId": "05263117254695456245"
     },
     "user_tz": -330
    },
    "id": "oGX0DxoI-L31",
    "outputId": "c6863b90-2d35-4be7-c101-2ef3a75b3ccd"
   },
   "outputs": [
    {
     "data": {
      "application/vnd.google.colaboratory.intrinsic+json": {
       "type": "string"
      },
      "text/plain": [
       "'2019-05-21 08:29:55'"
      ]
     },
     "execution_count": 37,
     "metadata": {
      "tags": []
     },
     "output_type": "execute_result"
    }
   ],
   "source": [
    "df.Start_Time[0]"
   ]
  },
  {
   "cell_type": "code",
   "execution_count": 38,
   "metadata": {
    "executionInfo": {
     "elapsed": 15,
     "status": "ok",
     "timestamp": 1623947004965,
     "user": {
      "displayName": "Kushal Kumar",
      "photoUrl": "",
      "userId": "05263117254695456245"
     },
     "user_tz": -330
    },
    "id": "VCMpynjz-QJu"
   },
   "outputs": [],
   "source": [
    "#pd.to_datetime(df.Start_Time)\n",
    "df.Start_Time=pd.to_datetime(df.Start_Time)"
   ]
  },
  {
   "cell_type": "code",
   "execution_count": 39,
   "metadata": {
    "colab": {
     "base_uri": "https://localhost:8080/"
    },
    "executionInfo": {
     "elapsed": 16,
     "status": "ok",
     "timestamp": 1623947004968,
     "user": {
      "displayName": "Kushal Kumar",
      "photoUrl": "",
      "userId": "05263117254695456245"
     },
     "user_tz": -330
    },
    "id": "waB87RP2-eQp",
    "outputId": "129660d1-c9ce-4452-b994-e26941ae3093"
   },
   "outputs": [
    {
     "name": "stdout",
     "output_type": "stream",
     "text": [
      "0         2019-05-21 08:29:55\n",
      "1         2019-10-07 17:43:09\n",
      "2         2020-12-13 21:53:00\n",
      "3         2018-04-17 16:51:23\n",
      "4         2016-08-31 17:40:49\n",
      "                  ...        \n",
      "2906605   2018-06-28 08:49:01\n",
      "2906606   2019-01-10 02:01:01\n",
      "2906607   2020-11-23 12:52:00\n",
      "2906608   2019-12-29 22:38:00\n",
      "2906609   2018-03-26 13:35:03\n",
      "Name: Start_Time, Length: 2906610, dtype: datetime64[ns]\n"
     ]
    }
   ],
   "source": [
    "print(df.Start_Time)"
   ]
  },
  {
   "cell_type": "code",
   "execution_count": 40,
   "metadata": {
    "colab": {
     "base_uri": "https://localhost:8080/"
    },
    "executionInfo": {
     "elapsed": 16,
     "status": "ok",
     "timestamp": 1623947004970,
     "user": {
      "displayName": "Kushal Kumar",
      "photoUrl": "",
      "userId": "05263117254695456245"
     },
     "user_tz": -330
    },
    "id": "OiYxIWbB-0dZ",
    "outputId": "ceb76a2d-642d-45c5-f297-2f5b178e1d11"
   },
   "outputs": [
    {
     "data": {
      "text/plain": [
       "0           8\n",
       "1          17\n",
       "2          21\n",
       "3          16\n",
       "4          17\n",
       "           ..\n",
       "2906605     8\n",
       "2906606     2\n",
       "2906607    12\n",
       "2906608    22\n",
       "2906609    13\n",
       "Name: Start_Time, Length: 2906610, dtype: int64"
      ]
     },
     "execution_count": 40,
     "metadata": {
      "tags": []
     },
     "output_type": "execute_result"
    }
   ],
   "source": [
    "# to view the hour of the day of accident start time\n",
    "\n",
    "df.Start_Time.dt.hour\n"
   ]
  },
  {
   "cell_type": "code",
   "execution_count": 41,
   "metadata": {
    "colab": {
     "base_uri": "https://localhost:8080/",
     "height": 297
    },
    "executionInfo": {
     "elapsed": 2759,
     "status": "ok",
     "timestamp": 1623947007717,
     "user": {
      "displayName": "Kushal Kumar",
      "photoUrl": "",
      "userId": "05263117254695456245"
     },
     "user_tz": -330
    },
    "id": "GnTK07QDBRiG",
    "outputId": "8f4ea2bc-676c-4126-f536-e167b5ba87a0"
   },
   "outputs": [
    {
     "data": {
      "text/plain": [
       "<matplotlib.axes._subplots.AxesSubplot at 0x7f3f87d189d0>"
      ]
     },
     "execution_count": 41,
     "metadata": {
      "tags": []
     },
     "output_type": "execute_result"
    },
    {
     "data": {
      "image/png": "[encoded data removed]",
      "text/plain": [
       "<Figure size 432x288 with 1 Axes>"
      ]
     },
     "metadata": {
      "tags": []
     },
     "output_type": "display_data"
    }
   ],
   "source": [
    "sns.histplot(df.Start_Time.dt.hour, bins=24)"
   ]
  },
  {
   "cell_type": "code",
   "execution_count": 42,
   "metadata": {
    "colab": {
     "base_uri": "https://localhost:8080/",
     "height": 353
    },
    "executionInfo": {
     "elapsed": 1847,
     "status": "ok",
     "timestamp": 1623947009550,
     "user": {
      "displayName": "Kushal Kumar",
      "photoUrl": "",
      "userId": "05263117254695456245"
     },
     "user_tz": -330
    },
    "id": "oCfGuDrUCGpo",
    "outputId": "cf33b0ec-6629-4378-c955-472b66ccafb1"
   },
   "outputs": [
    {
     "name": "stderr",
     "output_type": "stream",
     "text": [
      "/usr/local/lib/python3.7/dist-packages/seaborn/distributions.py:2557: FutureWarning: `distplot` is a deprecated function and will be removed in a future version. Please adapt your code to use either `displot` (a figure-level function with similar flexibility) or `histplot` (an axes-level function for histograms).\n",
      "  warnings.warn(msg, FutureWarning)\n"
     ]
    },
    {
     "data": {
      "text/plain": [
       "<matplotlib.axes._subplots.AxesSubplot at 0x7f3fd1ac3f50>"
      ]
     },
     "execution_count": 42,
     "metadata": {
      "tags": []
     },
     "output_type": "execute_result"
    },
    {
     "data": {
      "image/png": "[encoded data removed]",
      "text/plain": [
       "<Figure size 432x288 with 1 Axes>"
      ]
     },
     "metadata": {
      "tags": []
     },
     "output_type": "display_data"
    }
   ],
   "source": [
    "# to add percentages on top of hist bar plots\n",
    "\n",
    "sns.distplot(df.Start_Time.dt.hour, bins=24 , kde=False, norm_hist=True)"
   ]
  },
  {
   "cell_type": "markdown",
   "metadata": {
    "id": "vluKVbk5E3R5"
   },
   "source": [
    "\n",
    "- High percentage of accidents occur between 6 am to 9 am as more number of people leaving for class or office\n",
    "- Again from 3 pm to 6 pm is also a accident time zone\n",
    "\n",
    "\n"
   ]
  },
  {
   "cell_type": "code",
   "execution_count": 43,
   "metadata": {
    "colab": {
     "base_uri": "https://localhost:8080/",
     "height": 353
    },
    "executionInfo": {
     "elapsed": 31,
     "status": "ok",
     "timestamp": 1623947009554,
     "user": {
      "displayName": "Kushal Kumar",
      "photoUrl": "",
      "userId": "05263117254695456245"
     },
     "user_tz": -330
    },
    "id": "12pM-PifEGLE",
    "outputId": "8a4db718-10a6-4ccc-a64c-905250b8a266"
   },
   "outputs": [
    {
     "name": "stderr",
     "output_type": "stream",
     "text": [
      "/usr/local/lib/python3.7/dist-packages/seaborn/distributions.py:2557: FutureWarning: `distplot` is a deprecated function and will be removed in a future version. Please adapt your code to use either `displot` (a figure-level function with similar flexibility) or `histplot` (an axes-level function for histograms).\n",
      "  warnings.warn(msg, FutureWarning)\n"
     ]
    },
    {
     "data": {
      "text/plain": [
       "<matplotlib.axes._subplots.AxesSubplot at 0x7f3f87d819d0>"
      ]
     },
     "execution_count": 43,
     "metadata": {
      "tags": []
     },
     "output_type": "execute_result"
    },
    {
     "data": {
      "image/png": "[encoded data removed]",
      "text/plain": [
       "<Figure size 432x288 with 1 Axes>"
      ]
     },
     "metadata": {
      "tags": []
     },
     "output_type": "display_data"
    }
   ],
   "source": [
    "# to identify whcih day of the week there is more accident\n",
    "sns.distplot(df.Start_Time.dt.dayofweek, bins=7, kde=False, norm_hist=True)"
   ]
  },
  {
   "cell_type": "code",
   "execution_count": 43,
   "metadata": {
    "executionInfo": {
     "elapsed": 26,
     "status": "ok",
     "timestamp": 1623947009556,
     "user": {
      "displayName": "Kushal Kumar",
      "photoUrl": "",
      "userId": "05263117254695456245"
     },
     "user_tz": -330
    },
    "id": "Rl_gbHHnGdzu"
   },
   "outputs": [],
   "source": []
  },
  {
   "cell_type": "markdown",
   "metadata": {
    "id": "lk6lY2tVG5Oa"
   },
   "source": [
    "- On weekdays we have more accidents compared to weekends \n",
    "- Also check whether the peak time of accident during weekend is same as weekdays"
   ]
  },
  {
   "cell_type": "code",
   "execution_count": 44,
   "metadata": {
    "executionInfo": {
     "elapsed": 26,
     "status": "ok",
     "timestamp": 1623947009557,
     "user": {
      "displayName": "Kushal Kumar",
      "photoUrl": "",
      "userId": "05263117254695456245"
     },
     "user_tz": -330
    },
    "id": "WLn9vobTHGL7"
   },
   "outputs": [],
   "source": [
    "saturday_start_time=df.Start_Time[df.Start_Time.dt.dayofweek==6]"
   ]
  },
  {
   "cell_type": "code",
   "execution_count": 45,
   "metadata": {
    "executionInfo": {
     "elapsed": 26,
     "status": "ok",
     "timestamp": 1623947009558,
     "user": {
      "displayName": "Kushal Kumar",
      "photoUrl": "",
      "userId": "05263117254695456245"
     },
     "user_tz": -330
    },
    "id": "r5ttnHuTHN8q"
   },
   "outputs": [],
   "source": [
    "sunday_start_time=df.Start_Time[df.Start_Time.dt.dayofweek==5]"
   ]
  },
  {
   "cell_type": "markdown",
   "metadata": {
    "id": "Xtrhlk1uIgPl"
   },
   "source": [
    "- Saturday peak time of accident\n"
   ]
  },
  {
   "cell_type": "code",
   "execution_count": 46,
   "metadata": {
    "colab": {
     "base_uri": "https://localhost:8080/",
     "height": 353
    },
    "executionInfo": {
     "elapsed": 1642,
     "status": "ok",
     "timestamp": 1623947011175,
     "user": {
      "displayName": "Kushal Kumar",
      "photoUrl": "",
      "userId": "05263117254695456245"
     },
     "user_tz": -330
    },
    "id": "pJwNWpcyH7wx",
    "outputId": "3c64812f-275b-4633-d924-3af5f98cacc9"
   },
   "outputs": [
    {
     "name": "stderr",
     "output_type": "stream",
     "text": [
      "/usr/local/lib/python3.7/dist-packages/seaborn/distributions.py:2557: FutureWarning: `distplot` is a deprecated function and will be removed in a future version. Please adapt your code to use either `displot` (a figure-level function with similar flexibility) or `histplot` (an axes-level function for histograms).\n",
      "  warnings.warn(msg, FutureWarning)\n"
     ]
    },
    {
     "data": {
      "text/plain": [
       "<matplotlib.axes._subplots.AxesSubplot at 0x7f3fceb81f90>"
      ]
     },
     "execution_count": 46,
     "metadata": {
      "tags": []
     },
     "output_type": "execute_result"
    },
    {
     "data": {
      "image/png": "[encoded data removed]",
      "text/plain": [
       "<Figure size 432x288 with 1 Axes>"
      ]
     },
     "metadata": {
      "tags": []
     },
     "output_type": "display_data"
    }
   ],
   "source": [
    "sns.distplot(saturday_start_time.dt.hour, bins=24 , kde=False, norm_hist=True)"
   ]
  },
  {
   "cell_type": "markdown",
   "metadata": {
    "id": "9xOEJybSIr4i"
   },
   "source": [
    "- Sunday  peak time of accident\n"
   ]
  },
  {
   "cell_type": "code",
   "execution_count": 47,
   "metadata": {
    "colab": {
     "base_uri": "https://localhost:8080/",
     "height": 353
    },
    "executionInfo": {
     "elapsed": 40,
     "status": "ok",
     "timestamp": 1623947011176,
     "user": {
      "displayName": "Kushal Kumar",
      "photoUrl": "",
      "userId": "05263117254695456245"
     },
     "user_tz": -330
    },
    "id": "ApYOkaEBIUYx",
    "outputId": "f3823975-0a64-4b20-d74b-1b124ab303cc"
   },
   "outputs": [
    {
     "name": "stderr",
     "output_type": "stream",
     "text": [
      "/usr/local/lib/python3.7/dist-packages/seaborn/distributions.py:2557: FutureWarning: `distplot` is a deprecated function and will be removed in a future version. Please adapt your code to use either `displot` (a figure-level function with similar flexibility) or `histplot` (an axes-level function for histograms).\n",
      "  warnings.warn(msg, FutureWarning)\n"
     ]
    },
    {
     "data": {
      "text/plain": [
       "<matplotlib.axes._subplots.AxesSubplot at 0x7f3fd67c8fd0>"
      ]
     },
     "execution_count": 47,
     "metadata": {
      "tags": []
     },
     "output_type": "execute_result"
    },
    {
     "data": {
      "image/png": "[encoded data removed]",
      "text/plain": [
       "<Figure size 432x288 with 1 Axes>"
      ]
     },
     "metadata": {
      "tags": []
     },
     "output_type": "display_data"
    }
   ],
   "source": [
    "sns.distplot(sunday_start_time.dt.hour, bins=24 , kde=False, norm_hist=True)"
   ]
  },
  {
   "cell_type": "code",
   "execution_count": 47,
   "metadata": {
    "executionInfo": {
     "elapsed": 39,
     "status": "ok",
     "timestamp": 1623947011180,
     "user": {
      "displayName": "Kushal Kumar",
      "photoUrl": "",
      "userId": "05263117254695456245"
     },
     "user_tz": -330
    },
    "id": "WilNt9mwfazM"
   },
   "outputs": [],
   "source": []
  },
  {
   "cell_type": "code",
   "execution_count": 48,
   "metadata": {
    "colab": {
     "base_uri": "https://localhost:8080/",
     "height": 353
    },
    "executionInfo": {
     "elapsed": 39,
     "status": "ok",
     "timestamp": 1623947011181,
     "user": {
      "displayName": "Kushal Kumar",
      "photoUrl": "",
      "userId": "05263117254695456245"
     },
     "user_tz": -330
    },
    "id": "Uw9criMNIdu8",
    "outputId": "e9597755-273d-48e5-b386-fee2fa7d218a"
   },
   "outputs": [
    {
     "name": "stderr",
     "output_type": "stream",
     "text": [
      "/usr/local/lib/python3.7/dist-packages/seaborn/distributions.py:2557: FutureWarning: `distplot` is a deprecated function and will be removed in a future version. Please adapt your code to use either `displot` (a figure-level function with similar flexibility) or `histplot` (an axes-level function for histograms).\n",
      "  warnings.warn(msg, FutureWarning)\n"
     ]
    },
    {
     "data": {
      "text/plain": [
       "<matplotlib.axes._subplots.AxesSubplot at 0x7f3fa07b8550>"
      ]
     },
     "execution_count": 48,
     "metadata": {
      "tags": []
     },
     "output_type": "execute_result"
    },
    {
     "data": {
      "image/png": "[encoded data removed]",
      "text/plain": [
       "<Figure size 432x288 with 1 Axes>"
      ]
     },
     "metadata": {
      "tags": []
     },
     "output_type": "display_data"
    }
   ],
   "source": [
    "sns.distplot(sunday_start_time.dt.month, bins=12 , kde=False, norm_hist=True)"
   ]
  },
  {
   "cell_type": "code",
   "execution_count": 49,
   "metadata": {
    "executionInfo": {
     "elapsed": 33,
     "status": "ok",
     "timestamp": 1623947011183,
     "user": {
      "displayName": "Kushal Kumar",
      "photoUrl": "",
      "userId": "05263117254695456245"
     },
     "user_tz": -330
    },
    "id": "gDmVPFL4fkPZ"
   },
   "outputs": [],
   "source": [
    "#Can you explain the month wise trend of the accident\n",
    "#below is the analysis and when we check below it is due to much of data missing in 2016 and 2017\n",
    "#Data from source is creating the issue. Mapquet is having good data whereas not from Bing"
   ]
  },
  {
   "cell_type": "code",
   "execution_count": 50,
   "metadata": {
    "colab": {
     "base_uri": "https://localhost:8080/",
     "height": 353
    },
    "executionInfo": {
     "elapsed": 789,
     "status": "ok",
     "timestamp": 1623947011941,
     "user": {
      "displayName": "Kushal Kumar",
      "photoUrl": "",
      "userId": "05263117254695456245"
     },
     "user_tz": -330
    },
    "id": "HODJQFeuf4wl",
    "outputId": "d82edecb-e94d-42dc-e4bf-0d3e7cbfd517"
   },
   "outputs": [
    {
     "name": "stderr",
     "output_type": "stream",
     "text": [
      "/usr/local/lib/python3.7/dist-packages/seaborn/distributions.py:2557: FutureWarning: `distplot` is a deprecated function and will be removed in a future version. Please adapt your code to use either `displot` (a figure-level function with similar flexibility) or `histplot` (an axes-level function for histograms).\n",
      "  warnings.warn(msg, FutureWarning)\n"
     ]
    },
    {
     "data": {
      "text/plain": [
       "<matplotlib.axes._subplots.AxesSubplot at 0x7f3fb6012d50>"
      ]
     },
     "execution_count": 50,
     "metadata": {
      "tags": []
     },
     "output_type": "execute_result"
    },
    {
     "data": {
      "image/png": "[encoded data removed]",
      "text/plain": [
       "<Figure size 432x288 with 1 Axes>"
      ]
     },
     "metadata": {
      "tags": []
     },
     "output_type": "display_data"
    }
   ],
   "source": [
    "df_year= df[df.Start_Time.dt.year==2016]\n",
    "sns.distplot(df_year.Start_Time.dt.month,bins=12,kde=False,norm_hist=True)"
   ]
  },
  {
   "cell_type": "code",
   "execution_count": 51,
   "metadata": {
    "colab": {
     "base_uri": "https://localhost:8080/",
     "height": 353
    },
    "executionInfo": {
     "elapsed": 1356,
     "status": "ok",
     "timestamp": 1623947013287,
     "user": {
      "displayName": "Kushal Kumar",
      "photoUrl": "",
      "userId": "05263117254695456245"
     },
     "user_tz": -330
    },
    "id": "9RaQQhMkhgdL",
    "outputId": "8b58c18f-095e-4de2-c523-7981a56bce94"
   },
   "outputs": [
    {
     "name": "stderr",
     "output_type": "stream",
     "text": [
      "/usr/local/lib/python3.7/dist-packages/seaborn/distributions.py:2557: FutureWarning: `distplot` is a deprecated function and will be removed in a future version. Please adapt your code to use either `displot` (a figure-level function with similar flexibility) or `histplot` (an axes-level function for histograms).\n",
      "  warnings.warn(msg, FutureWarning)\n"
     ]
    },
    {
     "data": {
      "text/plain": [
       "<matplotlib.axes._subplots.AxesSubplot at 0x7f3ff20d03d0>"
      ]
     },
     "execution_count": 51,
     "metadata": {
      "tags": []
     },
     "output_type": "execute_result"
    },
    {
     "data": {
      "image/png": "[encoded data removed]",
      "text/plain": [
       "<Figure size 432x288 with 1 Axes>"
      ]
     },
     "metadata": {
      "tags": []
     },
     "output_type": "display_data"
    }
   ],
   "source": [
    "df_year=df[df.Start_Time.dt.year==2017]\n",
    "sns.distplot(sunday_start_time.dt.hour, bins=24 , kde=False, norm_hist=True)"
   ]
  },
  {
   "cell_type": "markdown",
   "metadata": {
    "id": "HqgY3dhaflaO"
   },
   "source": []
  },
  {
   "cell_type": "code",
   "execution_count": 52,
   "metadata": {
    "colab": {
     "base_uri": "https://localhost:8080/",
     "height": 353
    },
    "executionInfo": {
     "elapsed": 1381,
     "status": "ok",
     "timestamp": 1623947014646,
     "user": {
      "displayName": "Kushal Kumar",
      "photoUrl": "",
      "userId": "05263117254695456245"
     },
     "user_tz": -330
    },
    "id": "fnU2amb2h47t",
    "outputId": "acc43c3c-da64-42be-9e30-5d0eeff5f1c4"
   },
   "outputs": [
    {
     "name": "stderr",
     "output_type": "stream",
     "text": [
      "/usr/local/lib/python3.7/dist-packages/seaborn/distributions.py:2557: FutureWarning: `distplot` is a deprecated function and will be removed in a future version. Please adapt your code to use either `displot` (a figure-level function with similar flexibility) or `histplot` (an axes-level function for histograms).\n",
      "  warnings.warn(msg, FutureWarning)\n"
     ]
    },
    {
     "data": {
      "text/plain": [
       "<matplotlib.axes._subplots.AxesSubplot at 0x7f3fbe6074d0>"
      ]
     },
     "execution_count": 52,
     "metadata": {
      "tags": []
     },
     "output_type": "execute_result"
    },
    {
     "data": {
      "image/png": "[encoded data removed]",
      "text/plain": [
       "<Figure size 432x288 with 1 Axes>"
      ]
     },
     "metadata": {
      "tags": []
     },
     "output_type": "display_data"
    }
   ],
   "source": [
    "df_year=df[df.Start_Time.dt.year==2018]\n",
    "sns.distplot(sunday_start_time.dt.hour, bins=24 , kde=False, norm_hist=True)"
   ]
  },
  {
   "cell_type": "code",
   "execution_count": 53,
   "metadata": {
    "colab": {
     "base_uri": "https://localhost:8080/",
     "height": 353
    },
    "executionInfo": {
     "elapsed": 16,
     "status": "ok",
     "timestamp": 1623947014647,
     "user": {
      "displayName": "Kushal Kumar",
      "photoUrl": "",
      "userId": "05263117254695456245"
     },
     "user_tz": -330
    },
    "id": "5gePqDJVh6dY",
    "outputId": "2ee7894f-9431-4750-f1ba-ff8645bd9395"
   },
   "outputs": [
    {
     "name": "stderr",
     "output_type": "stream",
     "text": [
      "/usr/local/lib/python3.7/dist-packages/seaborn/distributions.py:2557: FutureWarning: `distplot` is a deprecated function and will be removed in a future version. Please adapt your code to use either `displot` (a figure-level function with similar flexibility) or `histplot` (an axes-level function for histograms).\n",
      "  warnings.warn(msg, FutureWarning)\n"
     ]
    },
    {
     "data": {
      "text/plain": [
       "<matplotlib.axes._subplots.AxesSubplot at 0x7f3faeb71690>"
      ]
     },
     "execution_count": 53,
     "metadata": {
      "tags": []
     },
     "output_type": "execute_result"
    },
    {
     "data": {
      "image/png": "[encoded data removed]",
      "text/plain": [
       "<Figure size 432x288 with 1 Axes>"
      ]
     },
     "metadata": {
      "tags": []
     },
     "output_type": "display_data"
    }
   ],
   "source": [
    "df_year=df[df.Start_Time.dt.year==2019]\n",
    "sns.distplot(sunday_start_time.dt.hour, bins=24 , kde=False, norm_hist=True)"
   ]
  },
  {
   "cell_type": "code",
   "execution_count": 55,
   "metadata": {
    "colab": {
     "base_uri": "https://localhost:8080/"
    },
    "executionInfo": {
     "elapsed": 1682,
     "status": "ok",
     "timestamp": 1623947023635,
     "user": {
      "displayName": "Kushal Kumar",
      "photoUrl": "",
      "userId": "05263117254695456245"
     },
     "user_tz": -330
    },
    "id": "tvEAE4azh_No",
    "outputId": "b3e46203-e30b-4381-f676-916107a9fa30"
   },
   "outputs": [
    {
     "data": {
      "text/plain": [
       "False    2898390\n",
       "True        8220\n",
       "Name: Give_Way, dtype: int64"
      ]
     },
     "execution_count": 55,
     "metadata": {
      "tags": []
     },
     "output_type": "execute_result"
    }
   ],
   "source": [
    "df.Give_Way.value_counts()"
   ]
  },
  {
   "cell_type": "code",
   "execution_count": 56,
   "metadata": {
    "executionInfo": {
     "elapsed": 406,
     "status": "ok",
     "timestamp": 1623947110768,
     "user": {
      "displayName": "Kushal Kumar",
      "photoUrl": "",
      "userId": "05263117254695456245"
     },
     "user_tz": -330
    },
    "id": "bTPNdni3ltiC"
   },
   "outputs": [],
   "source": [
    "# Start lattitude and Longitude"
   ]
  },
  {
   "cell_type": "code",
   "execution_count": 57,
   "metadata": {
    "colab": {
     "base_uri": "https://localhost:8080/"
    },
    "executionInfo": {
     "elapsed": 415,
     "status": "ok",
     "timestamp": 1623947123696,
     "user": {
      "displayName": "Kushal Kumar",
      "photoUrl": "",
      "userId": "05263117254695456245"
     },
     "user_tz": -330
    },
    "id": "1u1TtXldymVI",
    "outputId": "4caae9f1-4686-4f42-9f4c-7009ca1dfe78"
   },
   "outputs": [
    {
     "data": {
      "text/plain": [
       "0          34.808868\n",
       "1          35.090080\n",
       "2          37.145730\n",
       "3          39.110390\n",
       "4          26.102942\n",
       "             ...    \n",
       "2906605    29.813824\n",
       "2906606    34.068890\n",
       "2906607    25.702200\n",
       "2906608    40.660140\n",
       "2906609    38.831749\n",
       "Name: Start_Lat, Length: 2906610, dtype: float64"
      ]
     },
     "execution_count": 57,
     "metadata": {
      "tags": []
     },
     "output_type": "execute_result"
    }
   ],
   "source": [
    "df.Start_Lat"
   ]
  },
  {
   "cell_type": "code",
   "execution_count": 58,
   "metadata": {
    "colab": {
     "base_uri": "https://localhost:8080/"
    },
    "executionInfo": {
     "elapsed": 410,
     "status": "ok",
     "timestamp": 1623947132009,
     "user": {
      "displayName": "Kushal Kumar",
      "photoUrl": "",
      "userId": "05263117254695456245"
     },
     "user_tz": -330
    },
    "id": "Y9HtEwrbypeV",
    "outputId": "8ee6c8fa-9198-4658-cc6f-07b9a643c431"
   },
   "outputs": [
    {
     "data": {
      "text/plain": [
       "0          -82.269157\n",
       "1          -80.745560\n",
       "2         -121.985052\n",
       "3         -119.773781\n",
       "4          -80.265091\n",
       "              ...    \n",
       "2906605    -95.399437\n",
       "2906606   -117.342010\n",
       "2906607    -80.335556\n",
       "2906608   -111.952460\n",
       "2906609   -104.748161\n",
       "Name: Start_Lng, Length: 2906610, dtype: float64"
      ]
     },
     "execution_count": 58,
     "metadata": {
      "tags": []
     },
     "output_type": "execute_result"
    }
   ],
   "source": [
    "df.Start_Lng"
   ]
  },
  {
   "cell_type": "code",
   "execution_count": 59,
   "metadata": {
    "colab": {
     "base_uri": "https://localhost:8080/",
     "height": 299
    },
    "executionInfo": {
     "elapsed": 11867,
     "status": "ok",
     "timestamp": 1623947220617,
     "user": {
      "displayName": "Kushal Kumar",
      "photoUrl": "",
      "userId": "05263117254695456245"
     },
     "user_tz": -330
    },
    "id": "Udfrn3W4yrge",
    "outputId": "2ad62e51-0af9-40fd-b9eb-4c9744238c57"
   },
   "outputs": [
    {
     "data": {
      "text/plain": [
       "<matplotlib.axes._subplots.AxesSubplot at 0x7f3fd0198390>"
      ]
     },
     "execution_count": 59,
     "metadata": {
      "tags": []
     },
     "output_type": "execute_result"
    },
    {
     "data": {
      "image/png": "[encoded data removed]",
      "text/plain": [
       "<Figure size 432x288 with 1 Axes>"
      ]
     },
     "metadata": {
      "tags": []
     },
     "output_type": "display_data"
    }
   ],
   "source": [
    "sns.scatterplot(x=df.Start_Lng, y=df.Start_Lat)"
   ]
  },
  {
   "cell_type": "code",
   "execution_count": 62,
   "metadata": {
    "colab": {
     "base_uri": "https://localhost:8080/",
     "height": 438
    },
    "executionInfo": {
     "elapsed": 102219,
     "status": "ok",
     "timestamp": 1623947573460,
     "user": {
      "displayName": "Kushal Kumar",
      "photoUrl": "",
      "userId": "05263117254695456245"
     },
     "user_tz": -330
    },
    "id": "GxG402nLy-WT",
    "outputId": "a773027d-a93a-4506-91ef-8f3bb7e5f78e"
   },
   "outputs": [
    {
     "data": {
      "text/plain": [
       "<matplotlib.axes._subplots.AxesSubplot at 0x7f3fe9c7f990>"
      ]
     },
     "execution_count": 62,
     "metadata": {
      "tags": []
     },
     "output_type": "execute_result"
    },
    {
     "name": "stdout",
     "output_type": "stream",
     "text": [
      "Error in callback <function flush_figures at 0x7f4005950440> (for post_execute):\n"
     ]
    },
    {
     "ename": "KeyboardInterrupt",
     "evalue": "ignored",
     "output_type": "error",
     "traceback": [
      "\u001b[0;31m---------------------------------------------------------------------------\u001b[0m",
      "\u001b[0;31mKeyboardInterrupt\u001b[0m                         Traceback (most recent call last)",
      "\u001b[0;32m/usr/local/lib/python3.7/dist-packages/ipykernel/pylab/backend_inline.py\u001b[0m in \u001b[0;36mflush_figures\u001b[0;34m()\u001b[0m\n\u001b[1;32m    115\u001b[0m         \u001b[0;31m# ignore the tracking, just draw and close all figures\u001b[0m\u001b[0;34m\u001b[0m\u001b[0;34m\u001b[0m\u001b[0;34m\u001b[0m\u001b[0m\n\u001b[1;32m    116\u001b[0m         \u001b[0;32mtry\u001b[0m\u001b[0;34m:\u001b[0m\u001b[0;34m\u001b[0m\u001b[0;34m\u001b[0m\u001b[0m\n\u001b[0;32m--> 117\u001b[0;31m             \u001b[0;32mreturn\u001b[0m \u001b[0mshow\u001b[0m\u001b[0;34m(\u001b[0m\u001b[0;32mTrue\u001b[0m\u001b[0;34m)\u001b[0m\u001b[0;34m\u001b[0m\u001b[0;34m\u001b[0m\u001b[0m\n\u001b[0m\u001b[1;32m    118\u001b[0m         \u001b[0;32mexcept\u001b[0m \u001b[0mException\u001b[0m \u001b[0;32mas\u001b[0m \u001b[0me\u001b[0m\u001b[0;34m:\u001b[0m\u001b[0;34m\u001b[0m\u001b[0;34m\u001b[0m\u001b[0m\n\u001b[1;32m    119\u001b[0m             \u001b[0;31m# safely show traceback if in IPython, else raise\u001b[0m\u001b[0;34m\u001b[0m\u001b[0;34m\u001b[0m\u001b[0;34m\u001b[0m\u001b[0m\n",
      "\u001b[0;32m/usr/local/lib/python3.7/dist-packages/ipykernel/pylab/backend_inline.py\u001b[0m in \u001b[0;36mshow\u001b[0;34m(close, block)\u001b[0m\n\u001b[1;32m     37\u001b[0m             display(\n\u001b[1;32m     38\u001b[0m                 \u001b[0mfigure_manager\u001b[0m\u001b[0;34m.\u001b[0m\u001b[0mcanvas\u001b[0m\u001b[0;34m.\u001b[0m\u001b[0mfigure\u001b[0m\u001b[0;34m,\u001b[0m\u001b[0;34m\u001b[0m\u001b[0;34m\u001b[0m\u001b[0m\n\u001b[0;32m---> 39\u001b[0;31m                 \u001b[0mmetadata\u001b[0m\u001b[0;34m=\u001b[0m\u001b[0m_fetch_figure_metadata\u001b[0m\u001b[0;34m(\u001b[0m\u001b[0mfigure_manager\u001b[0m\u001b[0;34m.\u001b[0m\u001b[0mcanvas\u001b[0m\u001b[0;34m.\u001b[0m\u001b[0mfigure\u001b[0m\u001b[0;34m)\u001b[0m\u001b[0;34m\u001b[0m\u001b[0;34m\u001b[0m\u001b[0m\n\u001b[0m\u001b[1;32m     40\u001b[0m             )\n\u001b[1;32m     41\u001b[0m     \u001b[0;32mfinally\u001b[0m\u001b[0;34m:\u001b[0m\u001b[0;34m\u001b[0m\u001b[0;34m\u001b[0m\u001b[0m\n",
      "\u001b[0;32m/usr/local/lib/python3.7/dist-packages/IPython/core/display.py\u001b[0m in \u001b[0;36mdisplay\u001b[0;34m(*objs, **kwargs)\u001b[0m\n\u001b[1;32m    304\u001b[0m             \u001b[0mpublish_display_data\u001b[0m\u001b[0;34m(\u001b[0m\u001b[0mdata\u001b[0m\u001b[0;34m=\u001b[0m\u001b[0mobj\u001b[0m\u001b[0;34m,\u001b[0m \u001b[0mmetadata\u001b[0m\u001b[0;34m=\u001b[0m\u001b[0mmetadata\u001b[0m\u001b[0;34m,\u001b[0m \u001b[0;34m**\u001b[0m\u001b[0mkwargs\u001b[0m\u001b[0;34m)\u001b[0m\u001b[0;34m\u001b[0m\u001b[0;34m\u001b[0m\u001b[0m\n\u001b[1;32m    305\u001b[0m         \u001b[0;32melse\u001b[0m\u001b[0;34m:\u001b[0m\u001b[0;34m\u001b[0m\u001b[0;34m\u001b[0m\u001b[0m\n\u001b[0;32m--> 306\u001b[0;31m             \u001b[0mformat_dict\u001b[0m\u001b[0;34m,\u001b[0m \u001b[0mmd_dict\u001b[0m \u001b[0;34m=\u001b[0m \u001b[0mformat\u001b[0m\u001b[0;34m(\u001b[0m\u001b[0mobj\u001b[0m\u001b[0;34m,\u001b[0m \u001b[0minclude\u001b[0m\u001b[0;34m=\u001b[0m\u001b[0minclude\u001b[0m\u001b[0;34m,\u001b[0m \u001b[0mexclude\u001b[0m\u001b[0;34m=\u001b[0m\u001b[0mexclude\u001b[0m\u001b[0;34m)\u001b[0m\u001b[0;34m\u001b[0m\u001b[0;34m\u001b[0m\u001b[0m\n\u001b[0m\u001b[1;32m    307\u001b[0m             \u001b[0;32mif\u001b[0m \u001b[0;32mnot\u001b[0m \u001b[0mformat_dict\u001b[0m\u001b[0;34m:\u001b[0m\u001b[0;34m\u001b[0m\u001b[0;34m\u001b[0m\u001b[0m\n\u001b[1;32m    308\u001b[0m                 \u001b[0;31m# nothing to display (e.g. _ipython_display_ took over)\u001b[0m\u001b[0;34m\u001b[0m\u001b[0;34m\u001b[0m\u001b[0;34m\u001b[0m\u001b[0m\n",
      "\u001b[0;32m/usr/local/lib/python3.7/dist-packages/IPython/core/formatters.py\u001b[0m in \u001b[0;36mformat\u001b[0;34m(self, obj, include, exclude)\u001b[0m\n\u001b[1;32m    171\u001b[0m             \u001b[0mmd\u001b[0m \u001b[0;34m=\u001b[0m \u001b[0;32mNone\u001b[0m\u001b[0;34m\u001b[0m\u001b[0;34m\u001b[0m\u001b[0m\n\u001b[1;32m    172\u001b[0m             \u001b[0;32mtry\u001b[0m\u001b[0;34m:\u001b[0m\u001b[0;34m\u001b[0m\u001b[0;34m\u001b[0m\u001b[0m\n\u001b[0;32m--> 173\u001b[0;31m                 \u001b[0mdata\u001b[0m \u001b[0;34m=\u001b[0m \u001b[0mformatter\u001b[0m\u001b[0;34m(\u001b[0m\u001b[0mobj\u001b[0m\u001b[0;34m)\u001b[0m\u001b[0;34m\u001b[0m\u001b[0;34m\u001b[0m\u001b[0m\n\u001b[0m\u001b[1;32m    174\u001b[0m             \u001b[0;32mexcept\u001b[0m\u001b[0;34m:\u001b[0m\u001b[0;34m\u001b[0m\u001b[0;34m\u001b[0m\u001b[0m\n\u001b[1;32m    175\u001b[0m                 \u001b[0;31m# FIXME: log the exception\u001b[0m\u001b[0;34m\u001b[0m\u001b[0;34m\u001b[0m\u001b[0;34m\u001b[0m\u001b[0m\n",
      "\u001b[0;32m<decorator-gen-2>\u001b[0m in \u001b[0;36m__call__\u001b[0;34m(self, obj)\u001b[0m\n",
      "\u001b[0;32m/usr/local/lib/python3.7/dist-packages/IPython/core/formatters.py\u001b[0m in \u001b[0;36mcatch_format_error\u001b[0;34m(method, self, *args, **kwargs)\u001b[0m\n\u001b[1;32m    215\u001b[0m     \u001b[0;34m\"\"\"show traceback on failed format call\"\"\"\u001b[0m\u001b[0;34m\u001b[0m\u001b[0;34m\u001b[0m\u001b[0m\n\u001b[1;32m    216\u001b[0m     \u001b[0;32mtry\u001b[0m\u001b[0;34m:\u001b[0m\u001b[0;34m\u001b[0m\u001b[0;34m\u001b[0m\u001b[0m\n\u001b[0;32m--> 217\u001b[0;31m         \u001b[0mr\u001b[0m \u001b[0;34m=\u001b[0m \u001b[0mmethod\u001b[0m\u001b[0;34m(\u001b[0m\u001b[0mself\u001b[0m\u001b[0;34m,\u001b[0m \u001b[0;34m*\u001b[0m\u001b[0margs\u001b[0m\u001b[0;34m,\u001b[0m \u001b[0;34m**\u001b[0m\u001b[0mkwargs\u001b[0m\u001b[0;34m)\u001b[0m\u001b[0;34m\u001b[0m\u001b[0;34m\u001b[0m\u001b[0m\n\u001b[0m\u001b[1;32m    218\u001b[0m     \u001b[0;32mexcept\u001b[0m \u001b[0mNotImplementedError\u001b[0m\u001b[0;34m:\u001b[0m\u001b[0;34m\u001b[0m\u001b[0;34m\u001b[0m\u001b[0m\n\u001b[1;32m    219\u001b[0m         \u001b[0;31m# don't warn on NotImplementedErrors\u001b[0m\u001b[0;34m\u001b[0m\u001b[0;34m\u001b[0m\u001b[0;34m\u001b[0m\u001b[0m\n",
      "\u001b[0;32m/usr/local/lib/python3.7/dist-packages/IPython/core/formatters.py\u001b[0m in \u001b[0;36m__call__\u001b[0;34m(self, obj)\u001b[0m\n\u001b[1;32m    332\u001b[0m                 \u001b[0;32mpass\u001b[0m\u001b[0;34m\u001b[0m\u001b[0;34m\u001b[0m\u001b[0m\n\u001b[1;32m    333\u001b[0m             \u001b[0;32melse\u001b[0m\u001b[0;34m:\u001b[0m\u001b[0;34m\u001b[0m\u001b[0;34m\u001b[0m\u001b[0m\n\u001b[0;32m--> 334\u001b[0;31m                 \u001b[0;32mreturn\u001b[0m \u001b[0mprinter\u001b[0m\u001b[0;34m(\u001b[0m\u001b[0mobj\u001b[0m\u001b[0;34m)\u001b[0m\u001b[0;34m\u001b[0m\u001b[0;34m\u001b[0m\u001b[0m\n\u001b[0m\u001b[1;32m    335\u001b[0m             \u001b[0;31m# Finally look for special method names\u001b[0m\u001b[0;34m\u001b[0m\u001b[0;34m\u001b[0m\u001b[0;34m\u001b[0m\u001b[0m\n\u001b[1;32m    336\u001b[0m             \u001b[0mmethod\u001b[0m \u001b[0;34m=\u001b[0m \u001b[0mget_real_method\u001b[0m\u001b[0;34m(\u001b[0m\u001b[0mobj\u001b[0m\u001b[0;34m,\u001b[0m \u001b[0mself\u001b[0m\u001b[0;34m.\u001b[0m\u001b[0mprint_method\u001b[0m\u001b[0;34m)\u001b[0m\u001b[0;34m\u001b[0m\u001b[0;34m\u001b[0m\u001b[0m\n",
      "\u001b[0;32m/usr/local/lib/python3.7/dist-packages/IPython/core/pylabtools.py\u001b[0m in \u001b[0;36m<lambda>\u001b[0;34m(fig)\u001b[0m\n\u001b[1;32m    239\u001b[0m \u001b[0;34m\u001b[0m\u001b[0m\n\u001b[1;32m    240\u001b[0m     \u001b[0;32mif\u001b[0m \u001b[0;34m'png'\u001b[0m \u001b[0;32min\u001b[0m \u001b[0mformats\u001b[0m\u001b[0;34m:\u001b[0m\u001b[0;34m\u001b[0m\u001b[0;34m\u001b[0m\u001b[0m\n\u001b[0;32m--> 241\u001b[0;31m         \u001b[0mpng_formatter\u001b[0m\u001b[0;34m.\u001b[0m\u001b[0mfor_type\u001b[0m\u001b[0;34m(\u001b[0m\u001b[0mFigure\u001b[0m\u001b[0;34m,\u001b[0m \u001b[0;32mlambda\u001b[0m \u001b[0mfig\u001b[0m\u001b[0;34m:\u001b[0m \u001b[0mprint_figure\u001b[0m\u001b[0;34m(\u001b[0m\u001b[0mfig\u001b[0m\u001b[0;34m,\u001b[0m \u001b[0;34m'png'\u001b[0m\u001b[0;34m,\u001b[0m \u001b[0;34m**\u001b[0m\u001b[0mkwargs\u001b[0m\u001b[0;34m)\u001b[0m\u001b[0;34m)\u001b[0m\u001b[0;34m\u001b[0m\u001b[0;34m\u001b[0m\u001b[0m\n\u001b[0m\u001b[1;32m    242\u001b[0m     \u001b[0;32mif\u001b[0m \u001b[0;34m'retina'\u001b[0m \u001b[0;32min\u001b[0m \u001b[0mformats\u001b[0m \u001b[0;32mor\u001b[0m \u001b[0;34m'png2x'\u001b[0m \u001b[0;32min\u001b[0m \u001b[0mformats\u001b[0m\u001b[0;34m:\u001b[0m\u001b[0;34m\u001b[0m\u001b[0;34m\u001b[0m\u001b[0m\n\u001b[1;32m    243\u001b[0m         \u001b[0mpng_formatter\u001b[0m\u001b[0;34m.\u001b[0m\u001b[0mfor_type\u001b[0m\u001b[0;34m(\u001b[0m\u001b[0mFigure\u001b[0m\u001b[0;34m,\u001b[0m \u001b[0;32mlambda\u001b[0m \u001b[0mfig\u001b[0m\u001b[0;34m:\u001b[0m \u001b[0mretina_figure\u001b[0m\u001b[0;34m(\u001b[0m\u001b[0mfig\u001b[0m\u001b[0;34m,\u001b[0m \u001b[0;34m**\u001b[0m\u001b[0mkwargs\u001b[0m\u001b[0;34m)\u001b[0m\u001b[0;34m)\u001b[0m\u001b[0;34m\u001b[0m\u001b[0;34m\u001b[0m\u001b[0m\n",
      "\u001b[0;32m/usr/local/lib/python3.7/dist-packages/IPython/core/pylabtools.py\u001b[0m in \u001b[0;36mprint_figure\u001b[0;34m(fig, fmt, bbox_inches, **kwargs)\u001b[0m\n\u001b[1;32m    123\u001b[0m \u001b[0;34m\u001b[0m\u001b[0m\n\u001b[1;32m    124\u001b[0m     \u001b[0mbytes_io\u001b[0m \u001b[0;34m=\u001b[0m \u001b[0mBytesIO\u001b[0m\u001b[0;34m(\u001b[0m\u001b[0;34m)\u001b[0m\u001b[0;34m\u001b[0m\u001b[0;34m\u001b[0m\u001b[0m\n\u001b[0;32m--> 125\u001b[0;31m     \u001b[0mfig\u001b[0m\u001b[0;34m.\u001b[0m\u001b[0mcanvas\u001b[0m\u001b[0;34m.\u001b[0m\u001b[0mprint_figure\u001b[0m\u001b[0;34m(\u001b[0m\u001b[0mbytes_io\u001b[0m\u001b[0;34m,\u001b[0m \u001b[0;34m**\u001b[0m\u001b[0mkw\u001b[0m\u001b[0;34m)\u001b[0m\u001b[0;34m\u001b[0m\u001b[0;34m\u001b[0m\u001b[0m\n\u001b[0m\u001b[1;32m    126\u001b[0m     \u001b[0mdata\u001b[0m \u001b[0;34m=\u001b[0m \u001b[0mbytes_io\u001b[0m\u001b[0;34m.\u001b[0m\u001b[0mgetvalue\u001b[0m\u001b[0;34m(\u001b[0m\u001b[0;34m)\u001b[0m\u001b[0;34m\u001b[0m\u001b[0;34m\u001b[0m\u001b[0m\n\u001b[1;32m    127\u001b[0m     \u001b[0;32mif\u001b[0m \u001b[0mfmt\u001b[0m \u001b[0;34m==\u001b[0m \u001b[0;34m'svg'\u001b[0m\u001b[0;34m:\u001b[0m\u001b[0;34m\u001b[0m\u001b[0;34m\u001b[0m\u001b[0m\n",
      "\u001b[0;32m/usr/local/lib/python3.7/dist-packages/matplotlib/backend_bases.py\u001b[0m in \u001b[0;36mprint_figure\u001b[0;34m(self, filename, dpi, facecolor, edgecolor, orientation, format, bbox_inches, **kwargs)\u001b[0m\n\u001b[1;32m   2124\u001b[0m                     \u001b[0morientation\u001b[0m\u001b[0;34m=\u001b[0m\u001b[0morientation\u001b[0m\u001b[0;34m,\u001b[0m\u001b[0;34m\u001b[0m\u001b[0;34m\u001b[0m\u001b[0m\n\u001b[1;32m   2125\u001b[0m                     \u001b[0mbbox_inches_restore\u001b[0m\u001b[0;34m=\u001b[0m\u001b[0m_bbox_inches_restore\u001b[0m\u001b[0;34m,\u001b[0m\u001b[0;34m\u001b[0m\u001b[0;34m\u001b[0m\u001b[0m\n\u001b[0;32m-> 2126\u001b[0;31m                     **kwargs)\n\u001b[0m\u001b[1;32m   2127\u001b[0m             \u001b[0;32mfinally\u001b[0m\u001b[0;34m:\u001b[0m\u001b[0;34m\u001b[0m\u001b[0;34m\u001b[0m\u001b[0m\n\u001b[1;32m   2128\u001b[0m                 \u001b[0;32mif\u001b[0m \u001b[0mbbox_inches\u001b[0m \u001b[0;32mand\u001b[0m \u001b[0mrestore_bbox\u001b[0m\u001b[0;34m:\u001b[0m\u001b[0;34m\u001b[0m\u001b[0;34m\u001b[0m\u001b[0m\n",
      "\u001b[0;32m/usr/local/lib/python3.7/dist-packages/matplotlib/backends/backend_agg.py\u001b[0m in \u001b[0;36mprint_png\u001b[0;34m(self, filename_or_obj, metadata, pil_kwargs, *args, **kwargs)\u001b[0m\n\u001b[1;32m    512\u001b[0m         }\n\u001b[1;32m    513\u001b[0m \u001b[0;34m\u001b[0m\u001b[0m\n\u001b[0;32m--> 514\u001b[0;31m         \u001b[0mFigureCanvasAgg\u001b[0m\u001b[0;34m.\u001b[0m\u001b[0mdraw\u001b[0m\u001b[0;34m(\u001b[0m\u001b[0mself\u001b[0m\u001b[0;34m)\u001b[0m\u001b[0;34m\u001b[0m\u001b[0;34m\u001b[0m\u001b[0m\n\u001b[0m\u001b[1;32m    515\u001b[0m         \u001b[0;32mif\u001b[0m \u001b[0mpil_kwargs\u001b[0m \u001b[0;32mis\u001b[0m \u001b[0;32mnot\u001b[0m \u001b[0;32mNone\u001b[0m\u001b[0;34m:\u001b[0m\u001b[0;34m\u001b[0m\u001b[0;34m\u001b[0m\u001b[0m\n\u001b[1;32m    516\u001b[0m             \u001b[0;32mfrom\u001b[0m \u001b[0mPIL\u001b[0m \u001b[0;32mimport\u001b[0m \u001b[0mImage\u001b[0m\u001b[0;34m\u001b[0m\u001b[0;34m\u001b[0m\u001b[0m\n",
      "\u001b[0;32m/usr/local/lib/python3.7/dist-packages/matplotlib/backends/backend_agg.py\u001b[0m in \u001b[0;36mdraw\u001b[0;34m(self)\u001b[0m\n\u001b[1;32m    391\u001b[0m              (self.toolbar._wait_cursor_for_draw_cm() if self.toolbar\n\u001b[1;32m    392\u001b[0m               else nullcontext()):\n\u001b[0;32m--> 393\u001b[0;31m             \u001b[0mself\u001b[0m\u001b[0;34m.\u001b[0m\u001b[0mfigure\u001b[0m\u001b[0;34m.\u001b[0m\u001b[0mdraw\u001b[0m\u001b[0;34m(\u001b[0m\u001b[0mself\u001b[0m\u001b[0;34m.\u001b[0m\u001b[0mrenderer\u001b[0m\u001b[0;34m)\u001b[0m\u001b[0;34m\u001b[0m\u001b[0;34m\u001b[0m\u001b[0m\n\u001b[0m\u001b[1;32m    394\u001b[0m             \u001b[0;31m# A GUI class may be need to update a window using this draw, so\u001b[0m\u001b[0;34m\u001b[0m\u001b[0;34m\u001b[0m\u001b[0;34m\u001b[0m\u001b[0m\n\u001b[1;32m    395\u001b[0m             \u001b[0;31m# don't forget to call the superclass.\u001b[0m\u001b[0;34m\u001b[0m\u001b[0;34m\u001b[0m\u001b[0;34m\u001b[0m\u001b[0m\n",
      "\u001b[0;32m/usr/local/lib/python3.7/dist-packages/matplotlib/artist.py\u001b[0m in \u001b[0;36mdraw_wrapper\u001b[0;34m(artist, renderer, *args, **kwargs)\u001b[0m\n\u001b[1;32m     36\u001b[0m                 \u001b[0mrenderer\u001b[0m\u001b[0;34m.\u001b[0m\u001b[0mstart_filter\u001b[0m\u001b[0;34m(\u001b[0m\u001b[0;34m)\u001b[0m\u001b[0;34m\u001b[0m\u001b[0;34m\u001b[0m\u001b[0m\n\u001b[1;32m     37\u001b[0m \u001b[0;34m\u001b[0m\u001b[0m\n\u001b[0;32m---> 38\u001b[0;31m             \u001b[0;32mreturn\u001b[0m \u001b[0mdraw\u001b[0m\u001b[0;34m(\u001b[0m\u001b[0martist\u001b[0m\u001b[0;34m,\u001b[0m \u001b[0mrenderer\u001b[0m\u001b[0;34m,\u001b[0m \u001b[0;34m*\u001b[0m\u001b[0margs\u001b[0m\u001b[0;34m,\u001b[0m \u001b[0;34m**\u001b[0m\u001b[0mkwargs\u001b[0m\u001b[0;34m)\u001b[0m\u001b[0;34m\u001b[0m\u001b[0;34m\u001b[0m\u001b[0m\n\u001b[0m\u001b[1;32m     39\u001b[0m         \u001b[0;32mfinally\u001b[0m\u001b[0;34m:\u001b[0m\u001b[0;34m\u001b[0m\u001b[0;34m\u001b[0m\u001b[0m\n\u001b[1;32m     40\u001b[0m             \u001b[0;32mif\u001b[0m \u001b[0martist\u001b[0m\u001b[0;34m.\u001b[0m\u001b[0mget_agg_filter\u001b[0m\u001b[0;34m(\u001b[0m\u001b[0;34m)\u001b[0m \u001b[0;32mis\u001b[0m \u001b[0;32mnot\u001b[0m \u001b[0;32mNone\u001b[0m\u001b[0;34m:\u001b[0m\u001b[0;34m\u001b[0m\u001b[0;34m\u001b[0m\u001b[0m\n",
      "\u001b[0;32m/usr/local/lib/python3.7/dist-packages/matplotlib/figure.py\u001b[0m in \u001b[0;36mdraw\u001b[0;34m(self, renderer)\u001b[0m\n\u001b[1;32m   1734\u001b[0m             \u001b[0mself\u001b[0m\u001b[0;34m.\u001b[0m\u001b[0mpatch\u001b[0m\u001b[0;34m.\u001b[0m\u001b[0mdraw\u001b[0m\u001b[0;34m(\u001b[0m\u001b[0mrenderer\u001b[0m\u001b[0;34m)\u001b[0m\u001b[0;34m\u001b[0m\u001b[0;34m\u001b[0m\u001b[0m\n\u001b[1;32m   1735\u001b[0m             mimage._draw_list_compositing_images(\n\u001b[0;32m-> 1736\u001b[0;31m                 renderer, self, artists, self.suppressComposite)\n\u001b[0m\u001b[1;32m   1737\u001b[0m \u001b[0;34m\u001b[0m\u001b[0m\n\u001b[1;32m   1738\u001b[0m             \u001b[0mrenderer\u001b[0m\u001b[0;34m.\u001b[0m\u001b[0mclose_group\u001b[0m\u001b[0;34m(\u001b[0m\u001b[0;34m'figure'\u001b[0m\u001b[0;34m)\u001b[0m\u001b[0;34m\u001b[0m\u001b[0;34m\u001b[0m\u001b[0m\n",
      "\u001b[0;32m/usr/local/lib/python3.7/dist-packages/matplotlib/image.py\u001b[0m in \u001b[0;36m_draw_list_compositing_images\u001b[0;34m(renderer, parent, artists, suppress_composite)\u001b[0m\n\u001b[1;32m    135\u001b[0m     \u001b[0;32mif\u001b[0m \u001b[0mnot_composite\u001b[0m \u001b[0;32mor\u001b[0m \u001b[0;32mnot\u001b[0m \u001b[0mhas_images\u001b[0m\u001b[0;34m:\u001b[0m\u001b[0;34m\u001b[0m\u001b[0;34m\u001b[0m\u001b[0m\n\u001b[1;32m    136\u001b[0m         \u001b[0;32mfor\u001b[0m \u001b[0ma\u001b[0m \u001b[0;32min\u001b[0m \u001b[0martists\u001b[0m\u001b[0;34m:\u001b[0m\u001b[0;34m\u001b[0m\u001b[0;34m\u001b[0m\u001b[0m\n\u001b[0;32m--> 137\u001b[0;31m             \u001b[0ma\u001b[0m\u001b[0;34m.\u001b[0m\u001b[0mdraw\u001b[0m\u001b[0;34m(\u001b[0m\u001b[0mrenderer\u001b[0m\u001b[0;34m)\u001b[0m\u001b[0;34m\u001b[0m\u001b[0;34m\u001b[0m\u001b[0m\n\u001b[0m\u001b[1;32m    138\u001b[0m     \u001b[0;32melse\u001b[0m\u001b[0;34m:\u001b[0m\u001b[0;34m\u001b[0m\u001b[0;34m\u001b[0m\u001b[0m\n\u001b[1;32m    139\u001b[0m         \u001b[0;31m# Composite any adjacent images together\u001b[0m\u001b[0;34m\u001b[0m\u001b[0;34m\u001b[0m\u001b[0;34m\u001b[0m\u001b[0m\n",
      "\u001b[0;32m/usr/local/lib/python3.7/dist-packages/matplotlib/artist.py\u001b[0m in \u001b[0;36mdraw_wrapper\u001b[0;34m(artist, renderer, *args, **kwargs)\u001b[0m\n\u001b[1;32m     36\u001b[0m                 \u001b[0mrenderer\u001b[0m\u001b[0;34m.\u001b[0m\u001b[0mstart_filter\u001b[0m\u001b[0;34m(\u001b[0m\u001b[0;34m)\u001b[0m\u001b[0;34m\u001b[0m\u001b[0;34m\u001b[0m\u001b[0m\n\u001b[1;32m     37\u001b[0m \u001b[0;34m\u001b[0m\u001b[0m\n\u001b[0;32m---> 38\u001b[0;31m             \u001b[0;32mreturn\u001b[0m \u001b[0mdraw\u001b[0m\u001b[0;34m(\u001b[0m\u001b[0martist\u001b[0m\u001b[0;34m,\u001b[0m \u001b[0mrenderer\u001b[0m\u001b[0;34m,\u001b[0m \u001b[0;34m*\u001b[0m\u001b[0margs\u001b[0m\u001b[0;34m,\u001b[0m \u001b[0;34m**\u001b[0m\u001b[0mkwargs\u001b[0m\u001b[0;34m)\u001b[0m\u001b[0;34m\u001b[0m\u001b[0;34m\u001b[0m\u001b[0m\n\u001b[0m\u001b[1;32m     39\u001b[0m         \u001b[0;32mfinally\u001b[0m\u001b[0;34m:\u001b[0m\u001b[0;34m\u001b[0m\u001b[0;34m\u001b[0m\u001b[0m\n\u001b[1;32m     40\u001b[0m             \u001b[0;32mif\u001b[0m \u001b[0martist\u001b[0m\u001b[0;34m.\u001b[0m\u001b[0mget_agg_filter\u001b[0m\u001b[0;34m(\u001b[0m\u001b[0;34m)\u001b[0m \u001b[0;32mis\u001b[0m \u001b[0;32mnot\u001b[0m \u001b[0;32mNone\u001b[0m\u001b[0;34m:\u001b[0m\u001b[0;34m\u001b[0m\u001b[0;34m\u001b[0m\u001b[0m\n",
      "\u001b[0;32m/usr/local/lib/python3.7/dist-packages/matplotlib/axes/_base.py\u001b[0m in \u001b[0;36mdraw\u001b[0;34m(self, renderer, inframe)\u001b[0m\n\u001b[1;32m   2628\u001b[0m             \u001b[0mrenderer\u001b[0m\u001b[0;34m.\u001b[0m\u001b[0mstop_rasterizing\u001b[0m\u001b[0;34m(\u001b[0m\u001b[0;34m)\u001b[0m\u001b[0;34m\u001b[0m\u001b[0;34m\u001b[0m\u001b[0m\n\u001b[1;32m   2629\u001b[0m \u001b[0;34m\u001b[0m\u001b[0m\n\u001b[0;32m-> 2630\u001b[0;31m         \u001b[0mmimage\u001b[0m\u001b[0;34m.\u001b[0m\u001b[0m_draw_list_compositing_images\u001b[0m\u001b[0;34m(\u001b[0m\u001b[0mrenderer\u001b[0m\u001b[0;34m,\u001b[0m \u001b[0mself\u001b[0m\u001b[0;34m,\u001b[0m \u001b[0martists\u001b[0m\u001b[0;34m)\u001b[0m\u001b[0;34m\u001b[0m\u001b[0;34m\u001b[0m\u001b[0m\n\u001b[0m\u001b[1;32m   2631\u001b[0m \u001b[0;34m\u001b[0m\u001b[0m\n\u001b[1;32m   2632\u001b[0m         \u001b[0mrenderer\u001b[0m\u001b[0;34m.\u001b[0m\u001b[0mclose_group\u001b[0m\u001b[0;34m(\u001b[0m\u001b[0;34m'axes'\u001b[0m\u001b[0;34m)\u001b[0m\u001b[0;34m\u001b[0m\u001b[0;34m\u001b[0m\u001b[0m\n",
      "\u001b[0;32m/usr/local/lib/python3.7/dist-packages/matplotlib/image.py\u001b[0m in \u001b[0;36m_draw_list_compositing_images\u001b[0;34m(renderer, parent, artists, suppress_composite)\u001b[0m\n\u001b[1;32m    135\u001b[0m     \u001b[0;32mif\u001b[0m \u001b[0mnot_composite\u001b[0m \u001b[0;32mor\u001b[0m \u001b[0;32mnot\u001b[0m \u001b[0mhas_images\u001b[0m\u001b[0;34m:\u001b[0m\u001b[0;34m\u001b[0m\u001b[0;34m\u001b[0m\u001b[0m\n\u001b[1;32m    136\u001b[0m         \u001b[0;32mfor\u001b[0m \u001b[0ma\u001b[0m \u001b[0;32min\u001b[0m \u001b[0martists\u001b[0m\u001b[0;34m:\u001b[0m\u001b[0;34m\u001b[0m\u001b[0;34m\u001b[0m\u001b[0m\n\u001b[0;32m--> 137\u001b[0;31m             \u001b[0ma\u001b[0m\u001b[0;34m.\u001b[0m\u001b[0mdraw\u001b[0m\u001b[0;34m(\u001b[0m\u001b[0mrenderer\u001b[0m\u001b[0;34m)\u001b[0m\u001b[0;34m\u001b[0m\u001b[0;34m\u001b[0m\u001b[0m\n\u001b[0m\u001b[1;32m    138\u001b[0m     \u001b[0;32melse\u001b[0m\u001b[0;34m:\u001b[0m\u001b[0;34m\u001b[0m\u001b[0;34m\u001b[0m\u001b[0m\n\u001b[1;32m    139\u001b[0m         \u001b[0;31m# Composite any adjacent images together\u001b[0m\u001b[0;34m\u001b[0m\u001b[0;34m\u001b[0m\u001b[0;34m\u001b[0m\u001b[0m\n",
      "\u001b[0;32m/usr/local/lib/python3.7/dist-packages/matplotlib/artist.py\u001b[0m in \u001b[0;36mdraw_wrapper\u001b[0;34m(artist, renderer, *args, **kwargs)\u001b[0m\n\u001b[1;32m     36\u001b[0m                 \u001b[0mrenderer\u001b[0m\u001b[0;34m.\u001b[0m\u001b[0mstart_filter\u001b[0m\u001b[0;34m(\u001b[0m\u001b[0;34m)\u001b[0m\u001b[0;34m\u001b[0m\u001b[0;34m\u001b[0m\u001b[0m\n\u001b[1;32m     37\u001b[0m \u001b[0;34m\u001b[0m\u001b[0m\n\u001b[0;32m---> 38\u001b[0;31m             \u001b[0;32mreturn\u001b[0m \u001b[0mdraw\u001b[0m\u001b[0;34m(\u001b[0m\u001b[0martist\u001b[0m\u001b[0;34m,\u001b[0m \u001b[0mrenderer\u001b[0m\u001b[0;34m,\u001b[0m \u001b[0;34m*\u001b[0m\u001b[0margs\u001b[0m\u001b[0;34m,\u001b[0m \u001b[0;34m**\u001b[0m\u001b[0mkwargs\u001b[0m\u001b[0;34m)\u001b[0m\u001b[0;34m\u001b[0m\u001b[0;34m\u001b[0m\u001b[0m\n\u001b[0m\u001b[1;32m     39\u001b[0m         \u001b[0;32mfinally\u001b[0m\u001b[0;34m:\u001b[0m\u001b[0;34m\u001b[0m\u001b[0;34m\u001b[0m\u001b[0m\n\u001b[1;32m     40\u001b[0m             \u001b[0;32mif\u001b[0m \u001b[0martist\u001b[0m\u001b[0;34m.\u001b[0m\u001b[0mget_agg_filter\u001b[0m\u001b[0;34m(\u001b[0m\u001b[0;34m)\u001b[0m \u001b[0;32mis\u001b[0m \u001b[0;32mnot\u001b[0m \u001b[0;32mNone\u001b[0m\u001b[0;34m:\u001b[0m\u001b[0;34m\u001b[0m\u001b[0;34m\u001b[0m\u001b[0m\n",
      "\u001b[0;32m/usr/local/lib/python3.7/dist-packages/matplotlib/collections.py\u001b[0m in \u001b[0;36mdraw\u001b[0;34m(self, renderer)\u001b[0m\n\u001b[1;32m    892\u001b[0m     \u001b[0;32mdef\u001b[0m \u001b[0mdraw\u001b[0m\u001b[0;34m(\u001b[0m\u001b[0mself\u001b[0m\u001b[0;34m,\u001b[0m \u001b[0mrenderer\u001b[0m\u001b[0;34m)\u001b[0m\u001b[0;34m:\u001b[0m\u001b[0;34m\u001b[0m\u001b[0;34m\u001b[0m\u001b[0m\n\u001b[1;32m    893\u001b[0m         \u001b[0mself\u001b[0m\u001b[0;34m.\u001b[0m\u001b[0mset_sizes\u001b[0m\u001b[0;34m(\u001b[0m\u001b[0mself\u001b[0m\u001b[0;34m.\u001b[0m\u001b[0m_sizes\u001b[0m\u001b[0;34m,\u001b[0m \u001b[0mself\u001b[0m\u001b[0;34m.\u001b[0m\u001b[0mfigure\u001b[0m\u001b[0;34m.\u001b[0m\u001b[0mdpi\u001b[0m\u001b[0;34m)\u001b[0m\u001b[0;34m\u001b[0m\u001b[0;34m\u001b[0m\u001b[0m\n\u001b[0;32m--> 894\u001b[0;31m         \u001b[0mCollection\u001b[0m\u001b[0;34m.\u001b[0m\u001b[0mdraw\u001b[0m\u001b[0;34m(\u001b[0m\u001b[0mself\u001b[0m\u001b[0;34m,\u001b[0m \u001b[0mrenderer\u001b[0m\u001b[0;34m)\u001b[0m\u001b[0;34m\u001b[0m\u001b[0;34m\u001b[0m\u001b[0m\n\u001b[0m\u001b[1;32m    895\u001b[0m \u001b[0;34m\u001b[0m\u001b[0m\n\u001b[1;32m    896\u001b[0m \u001b[0;34m\u001b[0m\u001b[0m\n",
      "\u001b[0;32m/usr/local/lib/python3.7/dist-packages/matplotlib/artist.py\u001b[0m in \u001b[0;36mdraw_wrapper\u001b[0;34m(artist, renderer, *args, **kwargs)\u001b[0m\n\u001b[1;32m     36\u001b[0m                 \u001b[0mrenderer\u001b[0m\u001b[0;34m.\u001b[0m\u001b[0mstart_filter\u001b[0m\u001b[0;34m(\u001b[0m\u001b[0;34m)\u001b[0m\u001b[0;34m\u001b[0m\u001b[0;34m\u001b[0m\u001b[0m\n\u001b[1;32m     37\u001b[0m \u001b[0;34m\u001b[0m\u001b[0m\n\u001b[0;32m---> 38\u001b[0;31m             \u001b[0;32mreturn\u001b[0m \u001b[0mdraw\u001b[0m\u001b[0;34m(\u001b[0m\u001b[0martist\u001b[0m\u001b[0;34m,\u001b[0m \u001b[0mrenderer\u001b[0m\u001b[0;34m,\u001b[0m \u001b[0;34m*\u001b[0m\u001b[0margs\u001b[0m\u001b[0;34m,\u001b[0m \u001b[0;34m**\u001b[0m\u001b[0mkwargs\u001b[0m\u001b[0;34m)\u001b[0m\u001b[0;34m\u001b[0m\u001b[0;34m\u001b[0m\u001b[0m\n\u001b[0m\u001b[1;32m     39\u001b[0m         \u001b[0;32mfinally\u001b[0m\u001b[0;34m:\u001b[0m\u001b[0;34m\u001b[0m\u001b[0;34m\u001b[0m\u001b[0m\n\u001b[1;32m     40\u001b[0m             \u001b[0;32mif\u001b[0m \u001b[0martist\u001b[0m\u001b[0;34m.\u001b[0m\u001b[0mget_agg_filter\u001b[0m\u001b[0;34m(\u001b[0m\u001b[0;34m)\u001b[0m \u001b[0;32mis\u001b[0m \u001b[0;32mnot\u001b[0m \u001b[0;32mNone\u001b[0m\u001b[0;34m:\u001b[0m\u001b[0;34m\u001b[0m\u001b[0;34m\u001b[0m\u001b[0m\n",
      "\u001b[0;32m/usr/local/lib/python3.7/dist-packages/matplotlib/collections.py\u001b[0m in \u001b[0;36mdraw\u001b[0;34m(self, renderer)\u001b[0m\n\u001b[1;32m    367\u001b[0m                 \u001b[0mself\u001b[0m\u001b[0;34m.\u001b[0m\u001b[0m_linewidths\u001b[0m\u001b[0;34m,\u001b[0m \u001b[0mself\u001b[0m\u001b[0;34m.\u001b[0m\u001b[0m_linestyles\u001b[0m\u001b[0;34m,\u001b[0m\u001b[0;34m\u001b[0m\u001b[0;34m\u001b[0m\u001b[0m\n\u001b[1;32m    368\u001b[0m                 \u001b[0mself\u001b[0m\u001b[0;34m.\u001b[0m\u001b[0m_antialiaseds\u001b[0m\u001b[0;34m,\u001b[0m \u001b[0mself\u001b[0m\u001b[0;34m.\u001b[0m\u001b[0m_urls\u001b[0m\u001b[0;34m,\u001b[0m\u001b[0;34m\u001b[0m\u001b[0;34m\u001b[0m\u001b[0m\n\u001b[0;32m--> 369\u001b[0;31m                 self._offset_position)\n\u001b[0m\u001b[1;32m    370\u001b[0m \u001b[0;34m\u001b[0m\u001b[0m\n\u001b[1;32m    371\u001b[0m         \u001b[0mgc\u001b[0m\u001b[0;34m.\u001b[0m\u001b[0mrestore\u001b[0m\u001b[0;34m(\u001b[0m\u001b[0;34m)\u001b[0m\u001b[0;34m\u001b[0m\u001b[0;34m\u001b[0m\u001b[0m\n",
      "\u001b[0;32m/usr/local/lib/python3.7/dist-packages/matplotlib/path.py\u001b[0m in \u001b[0;36mvertices\u001b[0;34m(self)\u001b[0m\n\u001b[1;32m    195\u001b[0m         )\n\u001b[1;32m    196\u001b[0m \u001b[0;34m\u001b[0m\u001b[0m\n\u001b[0;32m--> 197\u001b[0;31m     \u001b[0;34m@\u001b[0m\u001b[0mproperty\u001b[0m\u001b[0;34m\u001b[0m\u001b[0;34m\u001b[0m\u001b[0m\n\u001b[0m\u001b[1;32m    198\u001b[0m     \u001b[0;32mdef\u001b[0m \u001b[0mvertices\u001b[0m\u001b[0;34m(\u001b[0m\u001b[0mself\u001b[0m\u001b[0;34m)\u001b[0m\u001b[0;34m:\u001b[0m\u001b[0;34m\u001b[0m\u001b[0;34m\u001b[0m\u001b[0m\n\u001b[1;32m    199\u001b[0m         \"\"\"\n",
      "\u001b[0;31mKeyboardInterrupt\u001b[0m: "
     ]
    }
   ],
   "source": [
    "# reduce the size of the points\n",
    "sns.scatterplot(x=df.Start_Lng, y=df.Start_Lat,size=0.001)"
   ]
  },
  {
   "cell_type": "code",
   "execution_count": 63,
   "metadata": {
    "executionInfo": {
     "elapsed": 426,
     "status": "ok",
     "timestamp": 1623947613248,
     "user": {
      "displayName": "Kushal Kumar",
      "photoUrl": "",
      "userId": "05263117254695456245"
     },
     "user_tz": -330
    },
    "id": "Msn3U2TpzPtU"
   },
   "outputs": [],
   "source": [
    "import folium"
   ]
  },
  {
   "cell_type": "code",
   "execution_count": 68,
   "metadata": {
    "colab": {
     "base_uri": "https://localhost:8080/",
     "height": 685
    },
    "executionInfo": {
     "elapsed": 441,
     "status": "ok",
     "timestamp": 1623947726495,
     "user": {
      "displayName": "Kushal Kumar",
      "photoUrl": "",
      "userId": "05263117254695456245"
     },
     "user_tz": -330
    },
    "id": "UBlRLwjS0gy9",
    "outputId": "bf544ead-4303-4a8b-dfae-fb71ab50a9ad"
   },
   "outputs": [
    {
     "data": {
      "text/html": [
       "<div style=\"width:100%;\"><div style=\"position:relative;width:100%;height:0;padding-bottom:60%;\"><span style=\"color:#565656\">Make this Notebook Trusted to load map: File -> Trust Notebook</span><iframe src=\"about:blank\" style=\"position:absolute;width:100%;height:100%;left:0;top:0;border:none !important;\" data-html=%3C%21DOCTYPE%20html%3E%0A%3Chead%3E%20%20%20%20%0A%20%20%20%20%3Cmeta%20http-equiv%3D%22content-type%22%20content%3D%22text/html%3B%20charset%3DUTF-8%22%20/%3E%0A%20%20%20%20%3Cscript%3EL_PREFER_CANVAS%3Dfalse%3B%20L_NO_TOUCH%3Dfalse%3B%20L_DISABLE_3D%3Dfalse%3B%3C/script%3E%0A%20%20%20%20%3Cscript%20src%3D%22https%3A//cdn.jsdelivr.net/npm/leaflet%401.4.0/dist/leaflet.js%22%3E%3C/script%3E%0A%20%20%20%20%3Cscript%20src%3D%22https%3A//code.jquery.com/jquery-1.12.4.min.js%22%3E%3C/script%3E%0A%20%20%20%20%3Cscript%20src%3D%22https%3A//maxcdn.bootstrapcdn.com/bootstrap/3.2.0/js/bootstrap.min.js%22%3E%3C/script%3E%0A%20%20%20%20%3Cscript%20src%3D%22https%3A//cdnjs.cloudflare.com/ajax/libs/Leaflet.awesome-markers/2.0.2/leaflet.awesome-markers.js%22%3E%3C/script%3E%0A%20%20%20%20%3Clink%20rel%3D%22stylesheet%22%20href%3D%22https%3A//cdn.jsdelivr.net/npm/leaflet%401.4.0/dist/leaflet.css%22/%3E%0A%20%20%20%20%3Clink%20rel%3D%22stylesheet%22%20href%3D%22https%3A//maxcdn.bootstrapcdn.com/bootstrap/3.2.0/css/bootstrap.min.css%22/%3E%0A%20%20%20%20%3Clink%20rel%3D%22stylesheet%22%20href%3D%22https%3A//maxcdn.bootstrapcdn.com/bootstrap/3.2.0/css/bootstrap-theme.min.css%22/%3E%0A%20%20%20%20%3Clink%20rel%3D%22stylesheet%22%20href%3D%22https%3A//maxcdn.bootstrapcdn.com/font-awesome/4.6.3/css/font-awesome.min.css%22/%3E%0A%20%20%20%20%3Clink%20rel%3D%22stylesheet%22%20href%3D%22https%3A//cdnjs.cloudflare.com/ajax/libs/Leaflet.awesome-markers/2.0.2/leaflet.awesome-markers.css%22/%3E%0A%20%20%20%20%3Clink%20rel%3D%22stylesheet%22%20href%3D%22https%3A//rawcdn.githack.com/python-visualization/folium/master/folium/templates/leaflet.awesome.rotate.css%22/%3E%0A%20%20%20%20%3Cstyle%3Ehtml%2C%20body%20%7Bwidth%3A%20100%25%3Bheight%3A%20100%25%3Bmargin%3A%200%3Bpadding%3A%200%3B%7D%3C/style%3E%0A%20%20%20%20%3Cstyle%3E%23map%20%7Bposition%3Aabsolute%3Btop%3A0%3Bbottom%3A0%3Bright%3A0%3Bleft%3A0%3B%7D%3C/style%3E%0A%20%20%20%20%0A%20%20%20%20%3Cmeta%20name%3D%22viewport%22%20content%3D%22width%3Ddevice-width%2C%0A%20%20%20%20%20%20%20%20initial-scale%3D1.0%2C%20maximum-scale%3D1.0%2C%20user-scalable%3Dno%22%20/%3E%0A%20%20%20%20%3Cstyle%3E%23map_05699226e64646f09bca441c81625e6b%20%7B%0A%20%20%20%20%20%20%20%20position%3A%20relative%3B%0A%20%20%20%20%20%20%20%20width%3A%20100.0%25%3B%0A%20%20%20%20%20%20%20%20height%3A%20100.0%25%3B%0A%20%20%20%20%20%20%20%20left%3A%200.0%25%3B%0A%20%20%20%20%20%20%20%20top%3A%200.0%25%3B%0A%20%20%20%20%20%20%20%20%7D%0A%20%20%20%20%3C/style%3E%0A%3C/head%3E%0A%3Cbody%3E%20%20%20%20%0A%20%20%20%20%0A%20%20%20%20%3Cdiv%20class%3D%22folium-map%22%20id%3D%22map_05699226e64646f09bca441c81625e6b%22%20%3E%3C/div%3E%0A%3C/body%3E%0A%3Cscript%3E%20%20%20%20%0A%20%20%20%20%0A%20%20%20%20%0A%20%20%20%20%20%20%20%20var%20bounds%20%3D%20null%3B%0A%20%20%20%20%0A%0A%20%20%20%20var%20map_05699226e64646f09bca441c81625e6b%20%3D%20L.map%28%0A%20%20%20%20%20%20%20%20%27map_05699226e64646f09bca441c81625e6b%27%2C%20%7B%0A%20%20%20%20%20%20%20%20center%3A%20%5B0%2C%200%5D%2C%0A%20%20%20%20%20%20%20%20zoom%3A%201%2C%0A%20%20%20%20%20%20%20%20maxBounds%3A%20bounds%2C%0A%20%20%20%20%20%20%20%20layers%3A%20%5B%5D%2C%0A%20%20%20%20%20%20%20%20worldCopyJump%3A%20false%2C%0A%20%20%20%20%20%20%20%20crs%3A%20L.CRS.EPSG3857%2C%0A%20%20%20%20%20%20%20%20zoomControl%3A%20true%2C%0A%20%20%20%20%20%20%20%20%7D%29%3B%0A%0A%0A%20%20%20%20%0A%20%20%20%20var%20tile_layer_9084b1cdf42445aaa274ba5f3bf21fb1%20%3D%20L.tileLayer%28%0A%20%20%20%20%20%20%20%20%27https%3A//%7Bs%7D.tile.openstreetmap.org/%7Bz%7D/%7Bx%7D/%7By%7D.png%27%2C%0A%20%20%20%20%20%20%20%20%7B%0A%20%20%20%20%20%20%20%20%22attribution%22%3A%20null%2C%0A%20%20%20%20%20%20%20%20%22detectRetina%22%3A%20false%2C%0A%20%20%20%20%20%20%20%20%22maxNativeZoom%22%3A%2018%2C%0A%20%20%20%20%20%20%20%20%22maxZoom%22%3A%2018%2C%0A%20%20%20%20%20%20%20%20%22minZoom%22%3A%200%2C%0A%20%20%20%20%20%20%20%20%22noWrap%22%3A%20false%2C%0A%20%20%20%20%20%20%20%20%22opacity%22%3A%201%2C%0A%20%20%20%20%20%20%20%20%22subdomains%22%3A%20%22abc%22%2C%0A%20%20%20%20%20%20%20%20%22tms%22%3A%20false%0A%7D%29.addTo%28map_05699226e64646f09bca441c81625e6b%29%3B%0A%3C/script%3E onload=\"this.contentDocument.open();this.contentDocument.write(    decodeURIComponent(this.getAttribute('data-html')));this.contentDocument.close();\" allowfullscreen webkitallowfullscreen mozallowfullscreen></iframe></div></div>"
      ],
      "text/plain": [
       "<folium.folium.Map at 0x7f3fc752ac90>"
      ]
     },
     "execution_count": 68,
     "metadata": {
      "tags": []
     },
     "output_type": "execute_result"
    }
   ],
   "source": [
    "folium.Map()"
   ]
  },
  {
   "cell_type": "code",
   "execution_count": null,
   "metadata": {
    "id": "A4t1Dkla1P27"
   },
   "outputs": [],
   "source": []
  },
  {
   "cell_type": "code",
   "execution_count": 69,
   "metadata": {
    "executionInfo": {
     "elapsed": 18,
     "status": "ok",
     "timestamp": 1623947854178,
     "user": {
      "displayName": "Kushal Kumar",
      "photoUrl": "",
      "userId": "05263117254695456245"
     },
     "user_tz": -330
    },
    "id": "HK63tyrx0tsL"
   },
   "outputs": [],
   "source": [
    "lat ,lon =df.Start_Lat[0],df.Start_Lng[0]"
   ]
  },
  {
   "cell_type": "code",
   "execution_count": 71,
   "metadata": {
    "colab": {
     "base_uri": "https://localhost:8080/",
     "height": 685
    },
    "executionInfo": {
     "elapsed": 415,
     "status": "ok",
     "timestamp": 1623948019073,
     "user": {
      "displayName": "Kushal Kumar",
      "photoUrl": "",
      "userId": "05263117254695456245"
     },
     "user_tz": -330
    },
    "id": "R0iJ0J7Q1bik",
    "outputId": "ad5f28c4-21e6-4b4e-9036-7676d8cf8f12"
   },
   "outputs": [
    {
     "data": {
      "text/html": [
       "<div style=\"width:100%;\"><div style=\"position:relative;width:100%;height:0;padding-bottom:60%;\"><span style=\"color:#565656\">Make this Notebook Trusted to load map: File -> Trust Notebook</span><iframe src=\"about:blank\" style=\"position:absolute;width:100%;height:100%;left:0;top:0;border:none !important;\" data-html=%3C%21DOCTYPE%20html%3E%0A%3Chead%3E%20%20%20%20%0A%20%20%20%20%3Cmeta%20http-equiv%3D%22content-type%22%20content%3D%22text/html%3B%20charset%3DUTF-8%22%20/%3E%0A%20%20%20%20%3Cscript%3EL_PREFER_CANVAS%3Dfalse%3B%20L_NO_TOUCH%3Dfalse%3B%20L_DISABLE_3D%3Dfalse%3B%3C/script%3E%0A%20%20%20%20%3Cscript%20src%3D%22https%3A//cdn.jsdelivr.net/npm/leaflet%401.4.0/dist/leaflet.js%22%3E%3C/script%3E%0A%20%20%20%20%3Cscript%20src%3D%22https%3A//code.jquery.com/jquery-1.12.4.min.js%22%3E%3C/script%3E%0A%20%20%20%20%3Cscript%20src%3D%22https%3A//maxcdn.bootstrapcdn.com/bootstrap/3.2.0/js/bootstrap.min.js%22%3E%3C/script%3E%0A%20%20%20%20%3Cscript%20src%3D%22https%3A//cdnjs.cloudflare.com/ajax/libs/Leaflet.awesome-markers/2.0.2/leaflet.awesome-markers.js%22%3E%3C/script%3E%0A%20%20%20%20%3Clink%20rel%3D%22stylesheet%22%20href%3D%22https%3A//cdn.jsdelivr.net/npm/leaflet%401.4.0/dist/leaflet.css%22/%3E%0A%20%20%20%20%3Clink%20rel%3D%22stylesheet%22%20href%3D%22https%3A//maxcdn.bootstrapcdn.com/bootstrap/3.2.0/css/bootstrap.min.css%22/%3E%0A%20%20%20%20%3Clink%20rel%3D%22stylesheet%22%20href%3D%22https%3A//maxcdn.bootstrapcdn.com/bootstrap/3.2.0/css/bootstrap-theme.min.css%22/%3E%0A%20%20%20%20%3Clink%20rel%3D%22stylesheet%22%20href%3D%22https%3A//maxcdn.bootstrapcdn.com/font-awesome/4.6.3/css/font-awesome.min.css%22/%3E%0A%20%20%20%20%3Clink%20rel%3D%22stylesheet%22%20href%3D%22https%3A//cdnjs.cloudflare.com/ajax/libs/Leaflet.awesome-markers/2.0.2/leaflet.awesome-markers.css%22/%3E%0A%20%20%20%20%3Clink%20rel%3D%22stylesheet%22%20href%3D%22https%3A//rawcdn.githack.com/python-visualization/folium/master/folium/templates/leaflet.awesome.rotate.css%22/%3E%0A%20%20%20%20%3Cstyle%3Ehtml%2C%20body%20%7Bwidth%3A%20100%25%3Bheight%3A%20100%25%3Bmargin%3A%200%3Bpadding%3A%200%3B%7D%3C/style%3E%0A%20%20%20%20%3Cstyle%3E%23map%20%7Bposition%3Aabsolute%3Btop%3A0%3Bbottom%3A0%3Bright%3A0%3Bleft%3A0%3B%7D%3C/style%3E%0A%20%20%20%20%0A%20%20%20%20%3Cmeta%20name%3D%22viewport%22%20content%3D%22width%3Ddevice-width%2C%0A%20%20%20%20%20%20%20%20initial-scale%3D1.0%2C%20maximum-scale%3D1.0%2C%20user-scalable%3Dno%22%20/%3E%0A%20%20%20%20%3Cstyle%3E%23map_77e06f0da0144a5ab476bab67e6cdef4%20%7B%0A%20%20%20%20%20%20%20%20position%3A%20relative%3B%0A%20%20%20%20%20%20%20%20width%3A%20100.0%25%3B%0A%20%20%20%20%20%20%20%20height%3A%20100.0%25%3B%0A%20%20%20%20%20%20%20%20left%3A%200.0%25%3B%0A%20%20%20%20%20%20%20%20top%3A%200.0%25%3B%0A%20%20%20%20%20%20%20%20%7D%0A%20%20%20%20%3C/style%3E%0A%3C/head%3E%0A%3Cbody%3E%20%20%20%20%0A%20%20%20%20%0A%20%20%20%20%3Cdiv%20class%3D%22folium-map%22%20id%3D%22map_77e06f0da0144a5ab476bab67e6cdef4%22%20%3E%3C/div%3E%0A%3C/body%3E%0A%3Cscript%3E%20%20%20%20%0A%20%20%20%20%0A%20%20%20%20%0A%20%20%20%20%20%20%20%20var%20bounds%20%3D%20null%3B%0A%20%20%20%20%0A%0A%20%20%20%20var%20map_77e06f0da0144a5ab476bab67e6cdef4%20%3D%20L.map%28%0A%20%20%20%20%20%20%20%20%27map_77e06f0da0144a5ab476bab67e6cdef4%27%2C%20%7B%0A%20%20%20%20%20%20%20%20center%3A%20%5B0%2C%200%5D%2C%0A%20%20%20%20%20%20%20%20zoom%3A%201%2C%0A%20%20%20%20%20%20%20%20maxBounds%3A%20bounds%2C%0A%20%20%20%20%20%20%20%20layers%3A%20%5B%5D%2C%0A%20%20%20%20%20%20%20%20worldCopyJump%3A%20false%2C%0A%20%20%20%20%20%20%20%20crs%3A%20L.CRS.EPSG3857%2C%0A%20%20%20%20%20%20%20%20zoomControl%3A%20true%2C%0A%20%20%20%20%20%20%20%20%7D%29%3B%0A%0A%0A%20%20%20%20%0A%20%20%20%20var%20tile_layer_4fe05603f21341598b469edc6dff2ef5%20%3D%20L.tileLayer%28%0A%20%20%20%20%20%20%20%20%27https%3A//%7Bs%7D.tile.openstreetmap.org/%7Bz%7D/%7Bx%7D/%7By%7D.png%27%2C%0A%20%20%20%20%20%20%20%20%7B%0A%20%20%20%20%20%20%20%20%22attribution%22%3A%20null%2C%0A%20%20%20%20%20%20%20%20%22detectRetina%22%3A%20false%2C%0A%20%20%20%20%20%20%20%20%22maxNativeZoom%22%3A%2018%2C%0A%20%20%20%20%20%20%20%20%22maxZoom%22%3A%2018%2C%0A%20%20%20%20%20%20%20%20%22minZoom%22%3A%200%2C%0A%20%20%20%20%20%20%20%20%22noWrap%22%3A%20false%2C%0A%20%20%20%20%20%20%20%20%22opacity%22%3A%201%2C%0A%20%20%20%20%20%20%20%20%22subdomains%22%3A%20%22abc%22%2C%0A%20%20%20%20%20%20%20%20%22tms%22%3A%20false%0A%7D%29.addTo%28map_77e06f0da0144a5ab476bab67e6cdef4%29%3B%0A%20%20%20%20%0A%20%20%20%20%20%20%20%20var%20marker_322eb09be1004786ae438272ec70631b%20%3D%20L.marker%28%0A%20%20%20%20%20%20%20%20%20%20%20%20%5B34.808868%2C%20-82.26915699999998%5D%2C%0A%20%20%20%20%20%20%20%20%20%20%20%20%7B%0A%20%20%20%20%20%20%20%20%20%20%20%20%20%20%20%20icon%3A%20new%20L.Icon.Default%28%29%2C%0A%20%20%20%20%20%20%20%20%20%20%20%20%20%20%20%20%7D%0A%20%20%20%20%20%20%20%20%20%20%20%20%29.addTo%28map_77e06f0da0144a5ab476bab67e6cdef4%29%3B%0A%20%20%20%20%20%20%20%20%0A%3C/script%3E onload=\"this.contentDocument.open();this.contentDocument.write(    decodeURIComponent(this.getAttribute('data-html')));this.contentDocument.close();\" allowfullscreen webkitallowfullscreen mozallowfullscreen></iframe></div></div>"
      ],
      "text/plain": [
       "<folium.folium.Map at 0x7f3fdfd9dfd0>"
      ]
     },
     "execution_count": 71,
     "metadata": {
      "tags": []
     },
     "output_type": "execute_result"
    }
   ],
   "source": [
    "map=folium.Map()\n",
    "marker=folium.Marker((lat,lon))\n",
    "marker.add_to(map)\n",
    "map"
   ]
  },
  {
   "cell_type": "code",
   "execution_count": null,
   "metadata": {
    "id": "tVQql3ZA1_8D"
   },
   "outputs": [],
   "source": []
  },
  {
   "cell_type": "code",
   "execution_count": 73,
   "metadata": {
    "colab": {
     "base_uri": "https://localhost:8080/"
    },
    "executionInfo": {
     "elapsed": 448,
     "status": "ok",
     "timestamp": 1623948307796,
     "user": {
      "displayName": "Kushal Kumar",
      "photoUrl": "",
      "userId": "05263117254695456245"
     },
     "user_tz": -330
    },
    "id": "HRHXF7A72IXr",
    "outputId": "2bfd8d6b-396b-43f9-baad-dec3f87b5604"
   },
   "outputs": [
    {
     "name": "stdout",
     "output_type": "stream",
     "text": [
      "587583     26.318445\n",
      "1400204    38.354944\n",
      "862818     28.484215\n",
      "775267     38.879310\n",
      "2460861    39.230278\n",
      "             ...    \n",
      "1185729    33.193634\n",
      "2888733    26.136276\n",
      "436127     35.844145\n",
      "2087154    38.030580\n",
      "2662649    37.409291\n",
      "Name: Start_Lat, Length: 100, dtype: float64\n",
      "587583     -80.116196\n",
      "1400204    -77.510996\n",
      "862818     -81.396683\n",
      "775267    -111.928670\n",
      "2460861    -84.633980\n",
      "              ...    \n",
      "1185729   -117.364894\n",
      "2888733    -80.186569\n",
      "436127     -78.680541\n",
      "2087154    -78.659759\n",
      "2662649   -121.892458\n",
      "Name: Start_Lng, Length: 100, dtype: float64\n"
     ]
    }
   ],
   "source": [
    "for x in df[['Start_Lat','Start_Lng']].sample(100).iteritems():\n",
    "  print(x[1])\n"
   ]
  },
  {
   "cell_type": "code",
   "execution_count": 77,
   "metadata": {
    "executionInfo": {
     "elapsed": 460,
     "status": "ok",
     "timestamp": 1623948788141,
     "user": {
      "displayName": "Kushal Kumar",
      "photoUrl": "",
      "userId": "05263117254695456245"
     },
     "user_tz": -330
    },
    "id": "2dih2hEl2-g8"
   },
   "outputs": [],
   "source": [
    "from folium.plugins import HeatMap"
   ]
  },
  {
   "cell_type": "code",
   "execution_count": 78,
   "metadata": {
    "colab": {
     "base_uri": "https://localhost:8080/"
    },
    "executionInfo": {
     "elapsed": 1422,
     "status": "ok",
     "timestamp": 1623948850283,
     "user": {
      "displayName": "Kushal Kumar",
      "photoUrl": "",
      "userId": "05263117254695456245"
     },
     "user_tz": -330
    },
    "id": "Y2zkVGEM4O3E",
    "outputId": "3e5496ad-e258-40c4-d93a-3a2b93e05e6e"
   },
   "outputs": [
    {
     "data": {
      "text/plain": [
       "[(34.808868, -82.26915699999998),\n",
       " (35.09008, -80.74556),\n",
       " (37.14573, -121.985052),\n",
       " (39.11039, -119.773781),\n",
       " (26.102942, -80.265091),\n",
       " (35.34824000000001, -80.84722099999998),\n",
       " (39.52397, -107.777),\n",
       " (34.034017, -118.026972),\n",
       " (35.86349000000001, -86.83168),\n",
       " (34.42633, -118.5851),\n",
       " (28.021709, -82.203583),\n",
       " (40.91221, -73.875099),\n",
       " (32.86693, -96.66617),\n",
       " (32.265141, -110.90358700000002),\n",
       " (41.05982, -74.25092),\n",
       " (29.723339000000006, -95.497337),\n",
       " (34.103172, -118.249969),\n",
       " (34.186595000000004, -117.439427),\n",
       " (42.501929, -82.918056),\n",
       " (41.556862, -73.779556),\n",
       " (33.918056, -84.33802800000002),\n",
       " (35.596561, -78.759743),\n",
       " (29.640491, -95.482445),\n",
       " (37.40691, -79.913933),\n",
       " (40.9122, -73.88461),\n",
       " (37.994461, -122.069885),\n",
       " (32.87109, -80.010628),\n",
       " (30.426109000000004, -97.753906),\n",
       " (33.774159000000004, -118.049783),\n",
       " (43.22039, -85.500961),\n",
       " (25.684458, -80.445924),\n",
       " (43.003693, -78.412064),\n",
       " (39.922646, -86.11689),\n",
       " (30.420996, -91.140549),\n",
       " (35.23932999999999, -80.856415),\n",
       " (35.05473, -80.85037),\n",
       " (34.037781, -117.320625),\n",
       " (37.504467, -77.084549),\n",
       " (33.38548, -111.9432),\n",
       " (43.100197, -77.547005),\n",
       " (40.428002, -79.92677900000002),\n",
       " (38.510303, -121.464525),\n",
       " (42.764778, -73.760338),\n",
       " (28.698406, -82.451477),\n",
       " (32.7584, -97.25763),\n",
       " (40.619857, -122.365844),\n",
       " (33.913502, -118.143219),\n",
       " (44.852409, -93.247139),\n",
       " (29.690945000000006, -95.417068),\n",
       " (34.03542, -118.274465),\n",
       " (26.61341, -80.068784),\n",
       " (42.972679, -85.677254),\n",
       " (25.685477, -80.414796),\n",
       " (46.325429, -94.962033),\n",
       " (39.826813, -84.908905),\n",
       " (38.644922, -121.383059),\n",
       " (35.25935, -80.77776),\n",
       " (40.070709, -83.134422),\n",
       " (38.48819, -77.38915),\n",
       " (37.869022, -77.453568),\n",
       " (43.005009, -83.684975),\n",
       " (42.967983, -85.683899),\n",
       " (42.972506, -73.831128),\n",
       " (34.134365, -117.957603),\n",
       " (40.353738, -74.472659),\n",
       " (32.78758, -96.79058),\n",
       " (31.759741, -106.484001),\n",
       " (32.857914, -96.651512),\n",
       " (30.334675, -81.670998),\n",
       " (33.940923, -117.249238),\n",
       " (28.981974, -81.98734300000002),\n",
       " (33.4737, -112.26643),\n",
       " (32.805706, -117.156586),\n",
       " (38.864871, -76.846793),\n",
       " (41.755451, -72.650444),\n",
       " (37.8945, -122.116587),\n",
       " (39.617117, -120.591355),\n",
       " (36.577457, -121.908821),\n",
       " (33.900101, -84.447914),\n",
       " (42.928024, -83.691177),\n",
       " (39.71571, -84.219994),\n",
       " (41.773296, -87.993965),\n",
       " (37.328154, -121.111046),\n",
       " (44.95075, -93.09934),\n",
       " (34.007862, -117.52449),\n",
       " (26.429920000000006, -80.090312),\n",
       " (35.25833499999999, -80.794762),\n",
       " (38.80037, -77.11725),\n",
       " (35.266849, -119.030632),\n",
       " (38.384973, -75.422516),\n",
       " (37.884749, -122.308882),\n",
       " (44.570877, -92.645325),\n",
       " (40.703041, -73.566048),\n",
       " (43.077332, -77.546585),\n",
       " (29.702297, -95.359451),\n",
       " (41.80175, -88.16736999999998),\n",
       " (40.969318, -73.77409399999998),\n",
       " (35.07973, -90.06555),\n",
       " (42.229309, -88.144798),\n",
       " (40.67361500000001, -73.857185),\n",
       " (34.247787, -118.42585),\n",
       " (37.010113, -94.548073),\n",
       " (39.63915, -75.09758000000002),\n",
       " (45.52641, -122.47999),\n",
       " (33.043757, -111.987923),\n",
       " (32.295361, -111.011978),\n",
       " (41.256569, -95.940956),\n",
       " (40.68459, -73.64304),\n",
       " (29.849245, -95.411613),\n",
       " (39.301532, -121.671249),\n",
       " (34.320664, -118.495922),\n",
       " (35.059368, -85.131248),\n",
       " (34.153442, -118.6521),\n",
       " (39.5652, -104.87226),\n",
       " (44.88001, -93.14115),\n",
       " (40.931221, -73.855896),\n",
       " (43.875922, -95.113021),\n",
       " (38.000336, -121.260314),\n",
       " (38.79095, -121.29229),\n",
       " (42.495152, -82.919205),\n",
       " (37.74219, -121.525634),\n",
       " (34.06514, -118.00026),\n",
       " (33.713829, -112.285217),\n",
       " (35.45930900000001, -97.491463),\n",
       " (29.70736, -95.25416),\n",
       " (33.95966, -81.22747),\n",
       " (35.963348, -79.018662),\n",
       " (33.923618, -98.503296),\n",
       " (34.052890999999995, -117.548149),\n",
       " (34.063072, -118.249306),\n",
       " (40.820934, -78.01289799999998),\n",
       " (40.69675, -111.94854),\n",
       " (35.590382, -78.63269),\n",
       " (43.18084, -77.59918),\n",
       " (37.756392, -122.148785),\n",
       " (25.942696, -80.20109599999998),\n",
       " (38.799801, -77.598946),\n",
       " (40.070331, -75.151593),\n",
       " (39.78436, -105.08863999999998),\n",
       " (45.664909, -122.434761),\n",
       " (34.005801, -118.176035),\n",
       " (39.966751, -76.705742),\n",
       " (34.753899, -86.740997),\n",
       " (33.884048, -118.351929),\n",
       " (38.454845, -120.867759),\n",
       " (34.04821, -118.26597),\n",
       " (40.64525, -75.42576),\n",
       " (39.01001, -122.05225),\n",
       " (32.3116, -80.979507),\n",
       " (36.171581, -86.869011),\n",
       " (34.14112, -118.17972),\n",
       " (33.92638, -118.378448),\n",
       " (30.424627, -97.671585),\n",
       " (34.071883, -117.872309),\n",
       " (44.347912, -88.737572),\n",
       " (42.430195, -71.10301199999998),\n",
       " (45.58187, -122.67851),\n",
       " (41.9589, -71.06367),\n",
       " (35.375984, -118.931871),\n",
       " (30.403622, -81.564785),\n",
       " (34.201108000000005, -118.473406),\n",
       " (38.22317, -122.61118),\n",
       " (47.650143, -122.347412),\n",
       " (46.21548, -123.86201),\n",
       " (25.627335, -80.37943299999998),\n",
       " (39.924939, -86.58699399999998),\n",
       " (38.918324, -76.95503199999997),\n",
       " (43.84918, -84.02081),\n",
       " (26.456837, -80.089449),\n",
       " (41.224018, -96.043098),\n",
       " (41.177315, -73.17304200000002),\n",
       " (39.014515, -77.48455),\n",
       " (30.464523, -90.917725),\n",
       " (45.542439, -122.484029),\n",
       " (34.40578, -88.9207),\n",
       " (38.017952, -121.894058),\n",
       " (30.456015, -97.666321),\n",
       " (41.27264, -72.970589),\n",
       " (45.123852, -93.33902),\n",
       " (34.557976000000004, -118.132591),\n",
       " (39.841164, -75.404449),\n",
       " (34.165503, -118.492347),\n",
       " (45.531761, -122.565521),\n",
       " (38.358604, -121.934029),\n",
       " (35.585209000000006, -97.5672),\n",
       " (27.76623, -82.768204),\n",
       " (40.611329, -111.90618),\n",
       " (35.84600800000001, -78.836472),\n",
       " (33.931194, -117.993202),\n",
       " (40.18096, -74.10131),\n",
       " (33.544922, -81.677643),\n",
       " (37.47018, -121.90886),\n",
       " (35.221828, -80.828453),\n",
       " (29.784912, -95.688347),\n",
       " (44.31172, -93.99379),\n",
       " (32.958290000000005, -97.14342),\n",
       " (32.71983, -117.11757),\n",
       " (39.26285, -76.56695),\n",
       " (33.46147, -112.28829),\n",
       " (40.903866, -74.15786700000002),\n",
       " (33.68363, -117.87666000000002),\n",
       " (34.693901000000004, -82.733963),\n",
       " (29.21297, -81.10059),\n",
       " (34.82976, -82.29406),\n",
       " (39.632698, -104.906487),\n",
       " (42.26919, -83.2251),\n",
       " (39.976933, -75.198631),\n",
       " (38.521811, -78.836011),\n",
       " (38.657713, -121.363862),\n",
       " (39.105335, -94.709862),\n",
       " (37.267, -80.13744200000002),\n",
       " (34.036971, -118.43854),\n",
       " (33.49411, -86.330162),\n",
       " (29.797159000000004, -95.031898),\n",
       " (30.337242, -81.669167),\n",
       " (35.11739, -81.306679),\n",
       " (36.521611, -121.44837),\n",
       " (33.895256, -84.263733),\n",
       " (44.86555, -93.29896),\n",
       " (32.768566, -96.674858),\n",
       " (25.734321, -80.251918),\n",
       " (34.698074, -82.30504599999998),\n",
       " (29.79659, -95.579627),\n",
       " (33.651927, -84.497727),\n",
       " (37.948418, -121.300972),\n",
       " (38.938068, -94.398103),\n",
       " (33.65761, -117.74564),\n",
       " (34.03078, -118.21791),\n",
       " (29.186419, -82.185303),\n",
       " (40.355076, -76.379272),\n",
       " (32.472916, -93.796127),\n",
       " (27.95956, -82.42554),\n",
       " (37.634975, -122.086945),\n",
       " (40.484029, -74.302049),\n",
       " (33.997040000000005, -117.931015),\n",
       " (37.789969, -121.291099),\n",
       " (39.7174, -86.12572),\n",
       " (45.828438, -122.843275),\n",
       " (28.348536, -81.56498),\n",
       " (47.463745, -122.29391499999998),\n",
       " (38.23583, -85.61639),\n",
       " (26.31321, -80.117207),\n",
       " (40.68915300000001, -74.3014),\n",
       " (35.162048, -80.970139),\n",
       " (33.516411, -81.729156),\n",
       " (34.09943, -117.846367),\n",
       " (33.732585, -117.989329),\n",
       " (36.77562, -119.784837),\n",
       " (34.034725, -117.974474),\n",
       " (34.259491, -118.437836),\n",
       " (39.74004, -84.194923),\n",
       " (38.432375, -122.715965),\n",
       " (37.622681, -77.457741),\n",
       " (39.865639, -88.972939),\n",
       " (35.423435, -97.618668),\n",
       " (37.696018, -122.115387),\n",
       " (39.651718, -86.05403100000002),\n",
       " (39.327599, -77.582863),\n",
       " (45.041573, -93.28492),\n",
       " (34.061809000000004, -118.457189),\n",
       " (41.580649, -72.899661),\n",
       " (44.736202, -119.191689),\n",
       " (43.04277, -124.12115),\n",
       " (26.46674, -80.08927),\n",
       " (35.304, -80.84886),\n",
       " (33.89956, -117.47298),\n",
       " (38.008226, -121.871205),\n",
       " (28.285931, -80.608664),\n",
       " (42.385137, -83.280821),\n",
       " (37.620403, -122.425995),\n",
       " (33.908318, -117.882774),\n",
       " (44.144381, -69.925377),\n",
       " (44.030651, -92.488159),\n",
       " (35.496719, -97.601158),\n",
       " (40.817029, -73.836497),\n",
       " (33.994858, -80.958282),\n",
       " (41.597691, -93.718437),\n",
       " (35.557968, -97.638351),\n",
       " (33.461964, -112.151688),\n",
       " (37.64955, -122.45233),\n",
       " (40.654079, -74.007675),\n",
       " (36.34705, -86.87468),\n",
       " (30.466084, -97.844037),\n",
       " (43.043734, -83.723338),\n",
       " (26.70676, -80.11098),\n",
       " (40.196327, -76.108688),\n",
       " (38.562206, -121.487221),\n",
       " (39.062382, -94.6259),\n",
       " (39.343011, -120.337151),\n",
       " (36.175961, -86.76619699999998),\n",
       " (42.94145, -78.76647),\n",
       " (29.734968, -95.347444),\n",
       " (33.946648, -118.368512),\n",
       " (35.551079, -97.565651),\n",
       " (42.36147, -83.07294),\n",
       " (34.14565, -118.75722),\n",
       " (42.397328, -121.36068),\n",
       " (37.54805, -77.35896),\n",
       " (41.17161, -73.191683),\n",
       " (40.79871, -74.189888),\n",
       " (40.247822, -75.635788),\n",
       " (34.433743, -118.385757),\n",
       " (28.66436, -81.38871999999998),\n",
       " (44.11386, -123.18217),\n",
       " (35.094120000000004, -81.854828),\n",
       " (42.167667, -71.937218),\n",
       " (41.877819, -93.571083),\n",
       " (33.535, -112.186234),\n",
       " (40.70396, -111.93896),\n",
       " (33.18652, -97.108223),\n",
       " (34.185817, -118.217363),\n",
       " (38.597375, -121.419965),\n",
       " (39.88203, -86.244186),\n",
       " (40.160965, -76.392044),\n",
       " (34.121311, -117.514503),\n",
       " (38.258007, -85.765343),\n",
       " (39.187038, -77.169777),\n",
       " (34.028813, -117.575703),\n",
       " (42.489758, -73.677544),\n",
       " (34.892540000000004, -82.160202),\n",
       " (33.996331, -117.92722),\n",
       " (40.73724, -73.172539),\n",
       " (38.111683, -85.672958),\n",
       " (43.138062, -77.60041),\n",
       " (33.291782, -111.904217),\n",
       " (34.994781, -81.978729),\n",
       " (42.666294, -73.75489),\n",
       " (44.912191, -122.97781299999998),\n",
       " (30.350527000000003, -97.500694),\n",
       " (33.089451000000004, -117.301628),\n",
       " (34.93185, -81.08152),\n",
       " (26.564581, -81.856346),\n",
       " (38.59085, -121.50469),\n",
       " (32.90871, -96.899732),\n",
       " (34.436634000000005, -82.68933100000002),\n",
       " (38.989737, -76.626846),\n",
       " (34.002491, -118.411911),\n",
       " (40.065258, -75.320206),\n",
       " (37.552776, -77.443588),\n",
       " (29.9518, -90.06726),\n",
       " (34.051727, -80.923485),\n",
       " (34.856169, -82.267323),\n",
       " (30.63799, -90.5242),\n",
       " (34.044212, -118.169844),\n",
       " (38.684384, -121.72836),\n",
       " (45.93963, -123.91922),\n",
       " (28.51001, -81.248032),\n",
       " (42.153564, -87.988268),\n",
       " (39.250969, -76.681099),\n",
       " (39.07931, -94.49073),\n",
       " (30.44211, -91.0401),\n",
       " (40.284412, -79.39363),\n",
       " (41.668731, -72.844148),\n",
       " (40.776439, -73.467088),\n",
       " (32.475221999999995, -93.797218),\n",
       " (43.297569, -73.678947),\n",
       " (34.861706, -82.276009),\n",
       " (30.36783, -81.66879),\n",
       " (25.87242, -80.20888000000002),\n",
       " (37.539156, -77.333116),\n",
       " (30.435011, -84.201233),\n",
       " (33.5411, -84.267738),\n",
       " (39.20583, -76.68930999999998),\n",
       " (29.813528, -95.317154),\n",
       " (39.88358, -75.24481),\n",
       " (41.843773, -87.9702),\n",
       " (41.87688, -88.23516),\n",
       " (42.808024, -121.835043),\n",
       " (32.792156, -96.729103),\n",
       " (34.066146999999994, -117.509277),\n",
       " (25.945438, -80.186628),\n",
       " (40.285888, -76.821141),\n",
       " (38.660194, -121.071808),\n",
       " (33.90214, -118.18644),\n",
       " (42.14015, -121.88498),\n",
       " (28.66403, -81.27516899999998),\n",
       " (38.33462, -77.49722),\n",
       " (40.812576, -74.39267),\n",
       " (36.845222, -76.283592),\n",
       " (33.901752, -118.370316),\n",
       " (33.8541, -117.79493),\n",
       " (41.49366, -94.23755),\n",
       " (29.91696, -95.41274),\n",
       " (45.082928, -93.402077),\n",
       " (35.39197, -97.49846),\n",
       " (35.2943, -118.757423),\n",
       " (38.743896, -90.412605),\n",
       " (37.282066, -121.808708),\n",
       " (33.992068, -118.402353),\n",
       " (33.778082, -117.789865),\n",
       " (38.544779, -121.47398),\n",
       " (38.55085800000001, -121.422653),\n",
       " (40.83593, -73.870201),\n",
       " (45.562813, -122.590408),\n",
       " (47.46919000000001, -122.26836000000002),\n",
       " (40.888208, -80.723656),\n",
       " (25.733028, -80.318649),\n",
       " (42.36298, -83.12684),\n",
       " (33.67016, -117.689803),\n",
       " (38.93532, -94.72042),\n",
       " (40.24158900000001, -75.575129),\n",
       " (35.82915900000001, -78.884323),\n",
       " (45.27793, -123.010934),\n",
       " (40.39204, -74.09959),\n",
       " (41.22699, -95.990227),\n",
       " (27.960513, -82.75910999999998),\n",
       " (41.04086, -73.83776),\n",
       " (36.206554, -86.77624499999997),\n",
       " (34.24316, -117.28183),\n",
       " (33.403724, -84.599029),\n",
       " (29.905119, -95.31073),\n",
       " (29.677942, -95.352493),\n",
       " (27.388454, -82.487072),\n",
       " (39.15658, -76.60065),\n",
       " (30.877176, -88.044342),\n",
       " (30.139681, -81.537231),\n",
       " (34.15311, -118.36934),\n",
       " (33.46222, -112.047433),\n",
       " (34.06132, -117.396399),\n",
       " (39.74847000000001, -77.56276700000002),\n",
       " (34.128815, -118.346886),\n",
       " (32.17783, -110.975853),\n",
       " (32.779443, -117.112515),\n",
       " (37.959408, -120.236236),\n",
       " (39.020229, -94.175552),\n",
       " (40.426502, -80.05695300000002),\n",
       " (38.299835, -122.034061),\n",
       " (44.91861, -122.99738),\n",
       " (39.870079, -75.005981),\n",
       " (42.99213, -83.71045),\n",
       " (36.02177800000001, -86.654488),\n",
       " (34.19957, -118.338249),\n",
       " (42.03027, -88.27771),\n",
       " (31.77798, -106.46249),\n",
       " (35.240379, -80.920937),\n",
       " (33.411137, -86.97020699999999),\n",
       " (26.203583, -80.141755),\n",
       " (38.85297, -77.39779),\n",
       " (38.93507, -94.733157),\n",
       " (47.16736, -122.47563),\n",
       " (41.299488, -96.014259),\n",
       " (38.714451, -90.447556),\n",
       " (37.34535, -77.339744),\n",
       " (29.840179, -95.38967),\n",
       " (32.663940000000004, -96.90086),\n",
       " (45.44009000000001, -122.56884),\n",
       " (33.551689, -117.672981),\n",
       " (34.774818, -80.790314),\n",
       " (42.24531, -71.199),\n",
       " (28.069836, -82.354057),\n",
       " (39.12569000000001, -121.57576),\n",
       " (37.846089, -122.48667),\n",
       " (39.154588, -94.587209),\n",
       " (38.86012, -77.17886999999997),\n",
       " (41.88232100000001, -112.481903),\n",
       " (38.45626, -121.94223999999998),\n",
       " (41.99173, -87.87095),\n",
       " (41.989578, -87.86792),\n",
       " (38.84218, -104.81505),\n",
       " (40.440636, -122.287979),\n",
       " (28.171101, -81.301735),\n",
       " (29.625639000000003, -95.605909),\n",
       " (36.26545, -86.664017),\n",
       " (35.2719, -89.98331999999998),\n",
       " (34.065228000000005, -117.806824),\n",
       " (30.23708, -93.25941),\n",
       " (42.97337, -85.64375),\n",
       " (32.778492, -96.916878),\n",
       " (39.75475, -86.14495),\n",
       " (33.87631, -118.12106),\n",
       " (41.033882, -74.07123100000003),\n",
       " (33.860405, -118.31263),\n",
       " (32.223412, -110.909508),\n",
       " (44.95071, -93.101265),\n",
       " (41.595047, -73.764015),\n",
       " (44.848248, -93.085258),\n",
       " (33.916758, -118.285871),\n",
       " (25.875916, -80.169012),\n",
       " (42.218056, -87.845528),\n",
       " (40.944124, -77.729827),\n",
       " (37.7855, -122.391823),\n",
       " (42.291234, -87.904834),\n",
       " (40.66045, -73.8672),\n",
       " (42.279732, -87.87854),\n",
       " (28.74878, -81.93167),\n",
       " (40.59617, -75.33734),\n",
       " (39.53414, -77.920006),\n",
       " (33.0448, -117.28601),\n",
       " (34.739841, -86.662178),\n",
       " (40.792934, -73.82396700000002),\n",
       " (35.761955, -78.744987),\n",
       " (42.298378, -83.878075),\n",
       " (40.891945, -79.81309499999998),\n",
       " (37.929001, -122.057755),\n",
       " (32.93891, -80.04954000000002),\n",
       " (42.874249, -78.787849),\n",
       " (47.649307, -122.34946399999998),\n",
       " (47.668671, -122.376221),\n",
       " (41.565275, -72.774369),\n",
       " (37.37431, -77.40599),\n",
       " (34.177111, -118.4685),\n",
       " (41.190815, -96.08139),\n",
       " (37.192772, -77.327789),\n",
       " (40.552364, -74.31774899999998),\n",
       " (34.293619, -118.470243),\n",
       " (40.62268, -80.09659),\n",
       " (40.704742, -73.995041),\n",
       " (38.646744, -90.530266),\n",
       " (32.811832, -96.817413),\n",
       " (40.80842, -73.94493),\n",
       " (30.428614000000003, -97.681252),\n",
       " (37.55187, -122.30963),\n",
       " (30.158553, -97.776615),\n",
       " (26.61306, -81.793472),\n",
       " (40.629429, -111.90229),\n",
       " (43.012321, -85.657928),\n",
       " (34.366240999999995, -117.65341200000002),\n",
       " (35.827309, -78.620354),\n",
       " (34.148075, -118.469818),\n",
       " (32.749599, -116.92968799999998),\n",
       " (29.68305, -95.349144),\n",
       " (35.27271500000001, -80.836258),\n",
       " (36.990612, -121.557852),\n",
       " (42.51616, -73.60991),\n",
       " (44.76519, -93.78126),\n",
       " (37.699375, -121.92906200000002),\n",
       " (45.222591, -93.029099),\n",
       " (38.906714, -120.842419),\n",
       " (36.239861, -119.42112),\n",
       " (30.656706, -87.905559),\n",
       " (34.016742, -118.173354),\n",
       " (37.316757, -121.922081),\n",
       " (26.16483, -80.23935999999998),\n",
       " (39.572697, -119.807961),\n",
       " (33.49127, -86.82158000000003),\n",
       " (40.764152, -73.724091),\n",
       " (40.644755, -77.293184),\n",
       " (39.665768, -121.743866),\n",
       " (34.641855, -118.209961),\n",
       " (28.630995, -81.387535),\n",
       " (40.263206, -76.181976),\n",
       " (30.44323, -91.153587),\n",
       " (40.70204, -73.48705),\n",
       " (33.922749, -118.029207),\n",
       " (33.912348, -117.446456),\n",
       " (37.898679, -122.070733),\n",
       " (34.704551, -82.64201),\n",
       " (42.212754, -71.14894699999998),\n",
       " (33.431629, -79.142303),\n",
       " (32.773254, -96.856499),\n",
       " (30.069355, -95.183022),\n",
       " (34.07893, -118.227524),\n",
       " (39.092316, -104.862534),\n",
       " (40.130443, -76.873456),\n",
       " (43.26641, -119.83921),\n",
       " (32.825161, -86.620613),\n",
       " (42.98843, -87.984047),\n",
       " (39.752129, -84.176109),\n",
       " (35.888927, -78.71189100000002),\n",
       " (33.58017, -117.6716),\n",
       " (29.378901000000006, -98.403954),\n",
       " (30.135435, -92.009377),\n",
       " (42.792507, -73.762527),\n",
       " (39.16785, -76.62316),\n",
       " (43.83709, -95.15798),\n",
       " (38.67138, -121.58608999999998),\n",
       " (38.818534, -76.91265899999998),\n",
       " (37.76345300000001, -77.460447),\n",
       " (40.255001, -75.64179200000002),\n",
       " (37.21507, -76.59236999999997),\n",
       " (32.873901000000004, -96.897476),\n",
       " (41.322926, -95.956635),\n",
       " (40.96344000000001, -81.465019),\n",
       " (42.35776, -71.17735),\n",
       " (47.2564, -122.51485),\n",
       " (40.111813, -75.28514100000002),\n",
       " (29.739517, -95.381279),\n",
       " (47.7086, -122.32862),\n",
       " (33.739643, -84.328194),\n",
       " (32.69132800000001, -96.823269),\n",
       " (42.912819, -85.647102),\n",
       " (47.60147, -122.32485),\n",
       " (36.606567, -119.662682),\n",
       " (37.387119, -77.419726),\n",
       " (38.691372, -104.719327),\n",
       " (39.529675, -119.829788),\n",
       " (41.668608, -72.922841),\n",
       " (38.16735, -122.20279),\n",
       " (34.019241, -118.422203),\n",
       " (42.01990900000001, -91.550224),\n",
       " (36.931141, -76.266922),\n",
       " (38.87091, -76.98875),\n",
       " (33.90034, -117.47285),\n",
       " (41.90542, -87.98835),\n",
       " (34.762852, -82.545387),\n",
       " (39.157853, -76.831834),\n",
       " (36.666962, -121.756935),\n",
       " (35.921349, -84.064949),\n",
       " (44.918663, -73.739655),\n",
       " (33.815277, -118.185081),\n",
       " (42.334366, -71.095314),\n",
       " (43.554192, -73.40007),\n",
       " (38.654709, -121.036942),\n",
       " (38.321544, -121.32546),\n",
       " (28.697873, -82.104239),\n",
       " (33.946217, -117.38871),\n",
       " (39.23406, -76.70889),\n",
       " (33.83368, -84.33232),\n",
       " (33.753777, -118.29126),\n",
       " (35.151089, -118.823372),\n",
       " (33.751446, -84.446114),\n",
       " (34.23274, -118.47299),\n",
       " (33.563098, -117.656415),\n",
       " (42.02602, -87.81624000000002),\n",
       " (40.14737, -84.21929),\n",
       " (38.23587, -85.658455),\n",
       " (37.639245, -121.007109),\n",
       " (43.02751, -88.01263),\n",
       " (39.514629, -118.856812),\n",
       " (33.930969, -118.300323),\n",
       " (36.170837, -86.76417),\n",
       " (32.612583, -83.742805),\n",
       " (42.42837100000001, -71.25882),\n",
       " (38.24572, -122.625526),\n",
       " (35.073608, -85.18820699999998),\n",
       " (38.56368300000001, -121.636625),\n",
       " (45.163956, -93.276695),\n",
       " (40.029678, -76.493042),\n",
       " (37.362774, -121.887871),\n",
       " (29.766043, -95.455971),\n",
       " (29.729774, -95.605743),\n",
       " (27.95617, -82.4642),\n",
       " (33.764568, -84.384727),\n",
       " (42.494469, -82.938179),\n",
       " (37.710659, -122.166817),\n",
       " (34.114746000000004, -80.888672),\n",
       " (26.010791, -80.166826),\n",
       " (29.784473, -95.468704),\n",
       " (27.885455, -82.787019),\n",
       " (34.331055, -81.609154),\n",
       " (32.624374, -83.36969),\n",
       " (30.35552, -81.66866999999998),\n",
       " (32.515087, -93.748596),\n",
       " (30.340569, -97.554581),\n",
       " (33.78989, -84.49068),\n",
       " (34.03119, -118.03068),\n",
       " (34.145805, -81.23786199999998),\n",
       " (25.686405, -80.35164499999998),\n",
       " (34.257332, -118.853742),\n",
       " (35.748638, -78.834824),\n",
       " (25.963083, -80.15353499999998),\n",
       " (33.963913, -117.324977),\n",
       " (42.61479, -87.95227),\n",
       " (35.258881, -89.871643),\n",
       " (35.93572, -79.33326),\n",
       " (41.07552, -73.802017),\n",
       " (44.96603, -93.265116),\n",
       " (42.264896, -83.271271),\n",
       " (33.54546, -112.047539),\n",
       " (32.830425, -117.23262),\n",
       " (43.001141, -77.670395),\n",
       " (33.87628, -118.13109),\n",
       " (34.741413, -86.678698),\n",
       " (38.596024, -121.401497),\n",
       " (38.011761, -121.86622),\n",
       " (33.782509999999995, -118.35237),\n",
       " (27.441839, -82.459595),\n",
       " (38.231153000000006, -122.112747),\n",
       " (37.603195, -122.064285),\n",
       " (37.31749, -121.935356),\n",
       " (33.687782, -117.906548),\n",
       " (44.879065, -93.002742),\n",
       " (43.04929, -75.233482),\n",
       " (42.909031, -83.604378),\n",
       " (35.75377, -78.64441),\n",
       " (40.37692, -111.823003),\n",
       " (29.843294, -82.530411),\n",
       " (38.959431, -85.845001),\n",
       " (35.217152, -80.82399000000002),\n",
       " (33.791645, -84.391693),\n",
       " (38.790883, -77.176147),\n",
       " (37.742855, -122.198219),\n",
       " (32.774640000000005, -117.13446),\n",
       " (33.555344, -112.043892),\n",
       " (39.83181, -75.42732),\n",
       " (33.483948, -86.82634),\n",
       " (28.450769, -82.557404),\n",
       " (34.15005900000001, -118.468437),\n",
       " (34.559639000000004, -111.904762),\n",
       " (34.617359, -82.324852),\n",
       " (36.880207, -119.976631),\n",
       " (42.36788, -87.89508000000002),\n",
       " (36.751447, -119.793557),\n",
       " (43.196243, -77.576782),\n",
       " (34.74968, -82.50083199999997),\n",
       " (34.145939, -84.516632),\n",
       " (25.883393, -80.361758),\n",
       " (30.137239, -92.066566),\n",
       " (40.70215, -73.48571),\n",
       " (38.26073, -122.0606),\n",
       " (42.978516, -77.232529),\n",
       " (44.775101, -93.288506),\n",
       " (46.93051, -120.502127),\n",
       " (44.78704000000001, -68.80843),\n",
       " (37.33453, -122.027931),\n",
       " (42.231777, -87.830811),\n",
       " (39.811752, -86.176788),\n",
       " (41.932301, -87.678116),\n",
       " (34.12536, -118.47654),\n",
       " (39.87425, -75.10239),\n",
       " (38.85122, -77.07574),\n",
       " (41.099137, -73.440099),\n",
       " (31.771512, -106.377172),\n",
       " (39.210904, -120.783464),\n",
       " (25.889368, -80.206795),\n",
       " (33.418018, -86.687416),\n",
       " (33.96021, -117.908268),\n",
       " (40.4189, -74.208412),\n",
       " (41.0613, -73.51018),\n",
       " (27.792072, -82.66069),\n",
       " (34.042334000000004, -118.773637),\n",
       " (34.033696, -118.361083),\n",
       " (35.25859000000001, -112.14472),\n",
       " (39.964121, -77.24828199999997),\n",
       " (39.871022, -75.10212),\n",
       " (30.412809000000006, -97.696831),\n",
       " (37.702255, -121.744728),\n",
       " (34.17626, -83.91631),\n",
       " (40.653603, -111.98176200000002),\n",
       " (29.73068, -95.484161),\n",
       " (35.229172, -80.865356),\n",
       " (34.129452, -86.41124),\n",
       " (40.060783, -76.359779),\n",
       " (30.475215, -91.111308),\n",
       " (41.8153, -87.63048),\n",
       " (36.141407, -86.666557),\n",
       " (34.381173, -118.413408),\n",
       " (41.178349, -73.19519),\n",
       " (34.082256, -117.698196),\n",
       " (34.003284, -117.380767),\n",
       " (28.37145, -81.40438),\n",
       " (29.675388, -95.550169),\n",
       " (41.94935200000001, -71.340848),\n",
       " (30.543131, -91.028587),\n",
       " (40.71806, -112.11437),\n",
       " (40.25008, -75.388733),\n",
       " (38.012596, -122.002274),\n",
       " (40.06489600000001, -75.32122),\n",
       " (38.617735, -121.382879),\n",
       " (30.18701, -81.73946),\n",
       " (34.028675, -118.228828),\n",
       " (34.037999, -118.276449),\n",
       " (34.912468, -82.429283),\n",
       " (44.94409, -93.07786),\n",
       " (36.758495, -76.30364399999998),\n",
       " (29.61107, -95.4883),\n",
       " (40.854481, -73.96579),\n",
       " (37.670472, -122.110379),\n",
       " (34.129723, -117.933701),\n",
       " (33.58918, -111.83617),\n",
       " (40.28586, -74.71434),\n",
       " (33.738712, -117.091906),\n",
       " (36.66982, -80.708903),\n",
       " (34.021034, -118.195198),\n",
       " (44.951866, -93.146957),\n",
       " (32.898563, -96.769188),\n",
       " (41.82402, -78.35730699999998),\n",
       " (39.59483, -104.802345),\n",
       " (34.837709999999994, -82.28967),\n",
       " (32.79575, -96.6922),\n",
       " (37.09657, -80.563202),\n",
       " (37.540244, -120.895759),\n",
       " (33.876289, -118.102577),\n",
       " (33.394573, -80.64431),\n",
       " (34.16108, -118.46961),\n",
       " (40.59523, -73.65686),\n",
       " (33.85611, -118.00633),\n",
       " (34.865355, -82.433279),\n",
       " (33.8784, -118.19254),\n",
       " (35.777813, -78.560852),\n",
       " (33.787947, -117.880076),\n",
       " (44.81494, -120.93174),\n",
       " (46.301641, -94.267719),\n",
       " (39.77345, -104.83529),\n",
       " (41.95929, -88.089287),\n",
       " (40.709063, -73.819822),\n",
       " (40.683006, -75.280905),\n",
       " (41.581806, -93.703514),\n",
       " (44.952644, -93.041512),\n",
       " (34.035315999999995, -118.149963),\n",
       " (41.73481, -72.66427),\n",
       " (34.392521, -118.472832),\n",
       " (34.82251, -82.288048),\n",
       " (34.908939000000004, -91.196554),\n",
       " (34.070496, -117.392105),\n",
       " (34.124851, -117.509501),\n",
       " (27.903095, -82.636016),\n",
       " (33.230209, -86.80720500000002),\n",
       " (37.595968, -122.059106),\n",
       " (30.008568, -90.219955),\n",
       " (36.07215, -86.73288000000002),\n",
       " (41.477081, -74.312302),\n",
       " (34.186409000000005, -80.211472),\n",
       " (34.230522, -79.798828),\n",
       " (30.35021, -81.66854000000002),\n",
       " (42.17422, -84.658953),\n",
       " (33.392072, -117.174211),\n",
       " (47.478865, -92.871927),\n",
       " (43.65889, -116.657),\n",
       " (33.88998, -117.50985),\n",
       " (29.735954, -95.410675),\n",
       " (29.784895, -95.64492),\n",
       " (43.01559, -121.82597),\n",
       " (37.800674, -121.192345),\n",
       " (37.326692, -121.94071),\n",
       " (42.75262, -70.94408),\n",
       " (33.674887, -117.8384),\n",
       " (43.594297, -116.448243),\n",
       " (39.95111, -75.18283000000002),\n",
       " (40.004341, -83.15387700000002),\n",
       " (28.480616, -81.310112),\n",
       " (37.886386, -120.999881),\n",
       " (37.75015300000001, -121.138657),\n",
       " (33.72029000000001, -84.50253000000002),\n",
       " (38.630543, -121.498053),\n",
       " (28.548094, -81.260651),\n",
       " (41.93976, -85.65168),\n",
       " (30.389618, -87.067521),\n",
       " (32.709896, -97.024734),\n",
       " (33.80271, -84.38578199999998),\n",
       " (39.326984, -120.39026),\n",
       " (42.378181, -83.06276700000002),\n",
       " (42.06832, -88.29720999999998),\n",
       " (48.07196, -122.111336),\n",
       " (39.268185, -84.36068),\n",
       " (33.933499, -117.000073),\n",
       " (45.69356, -120.382422),\n",
       " (30.260363, -97.794464),\n",
       " (34.06446, -118.00388),\n",
       " (39.102356, -84.498451),\n",
       " (32.67099, -96.97586),\n",
       " (32.734257, -96.688438),\n",
       " (45.29932, -93.51108),\n",
       " (37.771553, -121.810371),\n",
       " (35.715639, -78.58413399999998),\n",
       " (34.00634, -118.41371200000002),\n",
       " (38.77343, -121.24282),\n",
       " (35.8242, -78.587456),\n",
       " (37.608707, -122.068192),\n",
       " (34.155396, -118.291702),\n",
       " (40.430185, -79.880839),\n",
       " (39.07679, -77.6064),\n",
       " (41.85697, -88.16093000000002),\n",
       " (40.844837, -73.904137),\n",
       " (40.91078, -74.50895),\n",
       " (45.575668, -94.124184),\n",
       " (39.69667000000001, -104.81922),\n",
       " (34.442143, -119.784885),\n",
       " (40.936253, -123.625681),\n",
       " (45.375734, -122.58606),\n",
       " (33.916225, -118.223022),\n",
       " (39.651531, -77.800186),\n",
       " (40.044579, -76.490997),\n",
       " (32.751759, -96.770355),\n",
       " (32.852734000000005, -79.98790699999998),\n",
       " (30.41016, -84.137787),\n",
       " (34.25581, -111.256042),\n",
       " (37.8952, -122.11238),\n",
       " (41.90015, -87.66059),\n",
       " (33.928740000000005, -118.25041),\n",
       " (29.9466, -95.41623),\n",
       " (39.11364, -94.892532),\n",
       " (41.527344, -73.916061),\n",
       " (34.916744, -82.00431800000001),\n",
       " (29.981182, -90.11367),\n",
       " (35.106468, -80.76664699999998),\n",
       " (41.029095, -74.251366),\n",
       " (33.934631, -84.494003),\n",
       " (30.23735, -93.26431),\n",
       " (34.078987, -118.291693),\n",
       " (47.661381, -122.336151),\n",
       " (37.807884, -121.297215),\n",
       " (45.062237, -93.159867),\n",
       " (36.845505, -76.196342),\n",
       " (32.746639, -97.30658),\n",
       " (33.629433, -84.40289),\n",
       " (32.759537, -97.062378),\n",
       " (40.42476, -76.52409),\n",
       " (28.041037, -82.558578),\n",
       " (40.847298, -72.883698),\n",
       " (33.968163, -118.16787),\n",
       " (32.67951, -96.82267),\n",
       " (34.01334, -117.34403),\n",
       " (33.954479, -80.924461),\n",
       " (28.001841, -82.30246),\n",
       " (32.792442, -96.685028),\n",
       " (35.05104, -80.76953),\n",
       " (37.768478, -122.006729),\n",
       " (32.95215, -117.10351),\n",
       " (35.833744, -77.978882),\n",
       " (34.02502, -117.73398),\n",
       " (37.092485, -80.573437),\n",
       " (34.025956, -118.040102),\n",
       " (45.079498, -93.052864),\n",
       " (46.23506, -123.87196000000002),\n",
       " (40.760189, -74.051147),\n",
       " (33.75119, -84.4963),\n",
       " (45.77352, -92.8301),\n",
       " (33.74071, -117.83391),\n",
       " (34.018436, -117.984634),\n",
       " (25.94235, -80.34227),\n",
       " (38.94522, -94.85307),\n",
       " (35.221835, -92.833131),\n",
       " (34.155727, -118.431236),\n",
       " (45.2133, -122.82353),\n",
       " (30.10803, -95.435562),\n",
       " (41.213799, -96.110283),\n",
       " (34.147237, -118.69888600000002),\n",
       " (37.892591, -122.159524),\n",
       " (34.020633000000004, -118.192258),\n",
       " (34.186754, -118.474275),\n",
       " (42.40348, -83.09566),\n",
       " (38.64056400000001, -121.47773),\n",
       " (40.5018, -74.44404),\n",
       " (33.901897, -118.291794),\n",
       " (42.19334, -120.37615),\n",
       " (36.261977, -86.738043),\n",
       " (36.289661, -119.117767),\n",
       " (39.884051, -76.160831),\n",
       " (40.10962, -79.38226),\n",
       " (41.035675, -73.816696),\n",
       " (25.630294, -80.41471800000002),\n",
       " (41.96341, -87.74721),\n",
       " (25.77773, -80.302995),\n",
       " (34.878521, -82.361328),\n",
       " (36.95016500000001, -121.471695),\n",
       " (38.737267, -77.192484),\n",
       " (40.03244, -111.758102),\n",
       " (33.90651, -84.43203000000003),\n",
       " (27.576923, -82.42546999999998),\n",
       " (38.911391, -76.579894),\n",
       " (33.856840000000005, -118.284809),\n",
       " (43.327518, -73.68463100000002),\n",
       " (38.863026, -77.369875),\n",
       " (47.608002, -122.29628),\n",
       " (37.759823, -122.392258),\n",
       " (33.797779, -118.293724),\n",
       " (41.219711, -95.953331),\n",
       " (33.986732, -117.906235),\n",
       " (45.244923, -123.047989),\n",
       " (33.7677, -117.92028),\n",
       " (37.390098, -121.991977),\n",
       " (30.224709000000004, -92.052452),\n",
       " (34.104040000000005, -118.319696),\n",
       " (36.168259, -86.782036),\n",
       " (35.15279, -80.774117),\n",
       " (29.872042, -95.262558),\n",
       " (34.303802000000005, -118.478905),\n",
       " (38.628149, -120.208637),\n",
       " (34.055695, -118.451965),\n",
       " (34.15424, -118.375259),\n",
       " (35.76886, -78.736099),\n",
       " (40.85306, -73.96011),\n",
       " (39.514046, -77.319283),\n",
       " (30.184739, -81.637291),\n",
       " (45.053483, -93.058029),\n",
       " (35.827312, -78.620384),\n",
       " (27.567875, -82.568765),\n",
       " (30.160873, -81.747263),\n",
       " (42.783209, -86.07985),\n",
       " (42.840167, -73.483921),\n",
       " (42.945187, -83.62281800000002),\n",
       " (27.93755, -82.32975),\n",
       " (33.575444, -81.740948),\n",
       " (43.174896, -77.613722),\n",
       " (44.697693, -93.288147),\n",
       " (33.77817, -117.86739),\n",
       " (29.624031, -95.430809),\n",
       " (30.425835, -91.010925),\n",
       " (34.00444, -118.4122),\n",
       " (28.727290000000004, -81.60181),\n",
       " (38.84737, -77.42849),\n",
       " (26.13603, -80.219009),\n",
       " (33.743111, -118.002724),\n",
       " (26.6217, -81.71521),\n",
       " (36.941958, -80.917374),\n",
       " (38.16722, -122.20299),\n",
       " (44.784027, -93.20884),\n",
       " (37.56174, -122.27629),\n",
       " (26.45408, -80.17444),\n",
       " (40.758507, -73.854675),\n",
       " (28.635424, -81.448527),\n",
       " (38.70697, -77.223),\n",
       " (40.785793, -77.8545),\n",
       " (35.83492000000001, -78.60642),\n",
       " (42.066444, -88.22333499999998),\n",
       " (45.069469, -93.285942),\n",
       " (47.636021, -122.227669),\n",
       " (42.912641, -85.626609),\n",
       " (45.507012, -122.670754),\n",
       " ...]"
      ]
     },
     "execution_count": 78,
     "metadata": {
      "tags": []
     },
     "output_type": "execute_result"
    }
   ],
   "source": [
    "  # to convert the lat and long to list with values x and y\n",
    "  \n"
   ]
  },
  {
   "cell_type": "code",
   "execution_count": null,
   "metadata": {
    "id": "aEZlxrq2568z"
   },
   "outputs": [],
   "source": []
  },
  {
   "cell_type": "code",
   "execution_count": null,
   "metadata": {
    "id": "47bM8ZBD56EA"
   },
   "outputs": [],
   "source": [
    "sample_df=df.sample(int(0.1)*len(df))\n",
    "lat_lon_pairs=list(zip(list(df.Start_Lat),list(df.Start_Lng)))"
   ]
  },
  {
   "cell_type": "code",
   "execution_count": 84,
   "metadata": {
    "colab": {
     "base_uri": "https://localhost:8080/",
     "height": 685
    },
    "executionInfo": {
     "elapsed": 794,
     "status": "ok",
     "timestamp": 1623949163944,
     "user": {
      "displayName": "Kushal Kumar",
      "photoUrl": "",
      "userId": "05263117254695456245"
     },
     "user_tz": -330
    },
    "id": "PJH3zBSO5Ola",
    "outputId": "035bc6fd-d859-4e95-ed34-f9a8ff1b42bf"
   },
   "outputs": [
    {
     "data": {
      "text/html": [
       "<div style=\"width:100%;\"><div style=\"position:relative;width:100%;height:0;padding-bottom:60%;\"><span style=\"color:#565656\">Make this Notebook Trusted to load map: File -> Trust Notebook</span><iframe src=\"about:blank\" style=\"position:absolute;width:100%;height:100%;left:0;top:0;border:none !important;\" data-html=%3C%21DOCTYPE%20html%3E%0A%3Chead%3E%20%20%20%20%0A%20%20%20%20%3Cmeta%20http-equiv%3D%22content-type%22%20content%3D%22text/html%3B%20charset%3DUTF-8%22%20/%3E%0A%20%20%20%20%3Cscript%3EL_PREFER_CANVAS%3Dfalse%3B%20L_NO_TOUCH%3Dfalse%3B%20L_DISABLE_3D%3Dfalse%3B%3C/script%3E%0A%20%20%20%20%3Cscript%20src%3D%22https%3A//cdn.jsdelivr.net/npm/leaflet%401.4.0/dist/leaflet.js%22%3E%3C/script%3E%0A%20%20%20%20%3Cscript%20src%3D%22https%3A//code.jquery.com/jquery-1.12.4.min.js%22%3E%3C/script%3E%0A%20%20%20%20%3Cscript%20src%3D%22https%3A//maxcdn.bootstrapcdn.com/bootstrap/3.2.0/js/bootstrap.min.js%22%3E%3C/script%3E%0A%20%20%20%20%3Cscript%20src%3D%22https%3A//cdnjs.cloudflare.com/ajax/libs/Leaflet.awesome-markers/2.0.2/leaflet.awesome-markers.js%22%3E%3C/script%3E%0A%20%20%20%20%3Clink%20rel%3D%22stylesheet%22%20href%3D%22https%3A//cdn.jsdelivr.net/npm/leaflet%401.4.0/dist/leaflet.css%22/%3E%0A%20%20%20%20%3Clink%20rel%3D%22stylesheet%22%20href%3D%22https%3A//maxcdn.bootstrapcdn.com/bootstrap/3.2.0/css/bootstrap.min.css%22/%3E%0A%20%20%20%20%3Clink%20rel%3D%22stylesheet%22%20href%3D%22https%3A//maxcdn.bootstrapcdn.com/bootstrap/3.2.0/css/bootstrap-theme.min.css%22/%3E%0A%20%20%20%20%3Clink%20rel%3D%22stylesheet%22%20href%3D%22https%3A//maxcdn.bootstrapcdn.com/font-awesome/4.6.3/css/font-awesome.min.css%22/%3E%0A%20%20%20%20%3Clink%20rel%3D%22stylesheet%22%20href%3D%22https%3A//cdnjs.cloudflare.com/ajax/libs/Leaflet.awesome-markers/2.0.2/leaflet.awesome-markers.css%22/%3E%0A%20%20%20%20%3Clink%20rel%3D%22stylesheet%22%20href%3D%22https%3A//rawcdn.githack.com/python-visualization/folium/master/folium/templates/leaflet.awesome.rotate.css%22/%3E%0A%20%20%20%20%3Cstyle%3Ehtml%2C%20body%20%7Bwidth%3A%20100%25%3Bheight%3A%20100%25%3Bmargin%3A%200%3Bpadding%3A%200%3B%7D%3C/style%3E%0A%20%20%20%20%3Cstyle%3E%23map%20%7Bposition%3Aabsolute%3Btop%3A0%3Bbottom%3A0%3Bright%3A0%3Bleft%3A0%3B%7D%3C/style%3E%0A%20%20%20%20%0A%20%20%20%20%3Cmeta%20name%3D%22viewport%22%20content%3D%22width%3Ddevice-width%2C%0A%20%20%20%20%20%20%20%20initial-scale%3D1.0%2C%20maximum-scale%3D1.0%2C%20user-scalable%3Dno%22%20/%3E%0A%20%20%20%20%3Cstyle%3E%23map_dd60de3662e145ba9f11fd628df81adf%20%7B%0A%20%20%20%20%20%20%20%20position%3A%20relative%3B%0A%20%20%20%20%20%20%20%20width%3A%20100.0%25%3B%0A%20%20%20%20%20%20%20%20height%3A%20100.0%25%3B%0A%20%20%20%20%20%20%20%20left%3A%200.0%25%3B%0A%20%20%20%20%20%20%20%20top%3A%200.0%25%3B%0A%20%20%20%20%20%20%20%20%7D%0A%20%20%20%20%3C/style%3E%0A%20%20%20%20%3Cscript%20src%3D%22https%3A//leaflet.github.io/Leaflet.heat/dist/leaflet-heat.js%22%3E%3C/script%3E%0A%3C/head%3E%0A%3Cbody%3E%20%20%20%20%0A%20%20%20%20%0A%20%20%20%20%3Cdiv%20class%3D%22folium-map%22%20id%3D%22map_dd60de3662e145ba9f11fd628df81adf%22%20%3E%3C/div%3E%0A%3C/body%3E%0A%3Cscript%3E%20%20%20%20%0A%20%20%20%20%0A%20%20%20%20%0A%20%20%20%20%20%20%20%20var%20bounds%20%3D%20null%3B%0A%20%20%20%20%0A%0A%20%20%20%20var%20map_dd60de3662e145ba9f11fd628df81adf%20%3D%20L.map%28%0A%20%20%20%20%20%20%20%20%27map_dd60de3662e145ba9f11fd628df81adf%27%2C%20%7B%0A%20%20%20%20%20%20%20%20center%3A%20%5B0%2C%200%5D%2C%0A%20%20%20%20%20%20%20%20zoom%3A%201%2C%0A%20%20%20%20%20%20%20%20maxBounds%3A%20bounds%2C%0A%20%20%20%20%20%20%20%20layers%3A%20%5B%5D%2C%0A%20%20%20%20%20%20%20%20worldCopyJump%3A%20false%2C%0A%20%20%20%20%20%20%20%20crs%3A%20L.CRS.EPSG3857%2C%0A%20%20%20%20%20%20%20%20zoomControl%3A%20true%2C%0A%20%20%20%20%20%20%20%20%7D%29%3B%0A%0A%0A%20%20%20%20%0A%20%20%20%20var%20tile_layer_6a2b738af4a142a7b4f1ecfcbe82a922%20%3D%20L.tileLayer%28%0A%20%20%20%20%20%20%20%20%27https%3A//%7Bs%7D.tile.openstreetmap.org/%7Bz%7D/%7Bx%7D/%7By%7D.png%27%2C%0A%20%20%20%20%20%20%20%20%7B%0A%20%20%20%20%20%20%20%20%22attribution%22%3A%20null%2C%0A%20%20%20%20%20%20%20%20%22detectRetina%22%3A%20false%2C%0A%20%20%20%20%20%20%20%20%22maxNativeZoom%22%3A%2018%2C%0A%20%20%20%20%20%20%20%20%22maxZoom%22%3A%2018%2C%0A%20%20%20%20%20%20%20%20%22minZoom%22%3A%200%2C%0A%20%20%20%20%20%20%20%20%22noWrap%22%3A%20false%2C%0A%20%20%20%20%20%20%20%20%22opacity%22%3A%201%2C%0A%20%20%20%20%20%20%20%20%22subdomains%22%3A%20%22abc%22%2C%0A%20%20%20%20%20%20%20%20%22tms%22%3A%20false%0A%7D%29.addTo%28map_dd60de3662e145ba9f11fd628df81adf%29%3B%0A%20%20%20%20%0A%20%20%20%20%20%20%20%20%20%20%20%20var%20heat_map_bd5ce16230b444699bfdb7a342e320f1%20%3D%20L.heatLayer%28%0A%20%20%20%20%20%20%20%20%20%20%20%20%20%20%20%20%5B%5D%2C%0A%20%20%20%20%20%20%20%20%20%20%20%20%20%20%20%20%7B%0A%20%20%20%20%20%20%20%20%20%20%20%20%20%20%20%20%20%20%20%20minOpacity%3A%200.5%2C%0A%20%20%20%20%20%20%20%20%20%20%20%20%20%20%20%20%20%20%20%20maxZoom%3A%2018%2C%0A%20%20%20%20%20%20%20%20%20%20%20%20%20%20%20%20%20%20%20%20max%3A%201.0%2C%0A%20%20%20%20%20%20%20%20%20%20%20%20%20%20%20%20%20%20%20%20radius%3A%2025%2C%0A%20%20%20%20%20%20%20%20%20%20%20%20%20%20%20%20%20%20%20%20blur%3A%2015%2C%0A%20%20%20%20%20%20%20%20%20%20%20%20%20%20%20%20%20%20%20%20gradient%3A%20null%0A%20%20%20%20%20%20%20%20%20%20%20%20%20%20%20%20%20%20%20%20%7D%29%0A%20%20%20%20%20%20%20%20%20%20%20%20%20%20%20%20.addTo%28map_dd60de3662e145ba9f11fd628df81adf%29%3B%0A%20%20%20%20%20%20%20%20%0A%3C/script%3E onload=\"this.contentDocument.open();this.contentDocument.write(    decodeURIComponent(this.getAttribute('data-html')));this.contentDocument.close();\" allowfullscreen webkitallowfullscreen mozallowfullscreen></iframe></div></div>"
      ],
      "text/plain": [
       "<folium.folium.Map at 0x7f3faf9ca050>"
      ]
     },
     "execution_count": 84,
     "metadata": {
      "tags": []
     },
     "output_type": "execute_result"
    }
   ],
   "source": [
    "map=folium.Map()\n",
    "HeatMap( lat_lon_pairs).add_to(map)\n",
    "map"
   ]
  },
  {
   "cell_type": "code",
   "execution_count": null,
   "metadata": {
    "id": "6Ebk6XZo5ppI"
   },
   "outputs": [],
   "source": []
  }
 ],
 "metadata": {
  "colab": {
   "collapsed_sections": [],
   "name": "eda-accident-analysis.ipynb",
   "provenance": []
  },
  "kernelspec": {
   "display_name": "Python 3",
   "language": "python",
   "name": "python3"
  },
  "language_info": {
   "codemirror_mode": {
    "name": "ipython",
    "version": 3
   },
   "file_extension": ".py",
   "mimetype": "text/x-python",
   "name": "python",
   "nbconvert_exporter": "python",
   "pygments_lexer": "ipython3",
   "version": "3.6.7"
  }
 },
 "nbformat": 4,
 "nbformat_minor": 1
}
